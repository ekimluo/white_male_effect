{
 "cells": [
  {
   "cell_type": "markdown",
   "metadata": {
    "id": "ODQSifP3uSyL"
   },
   "source": [
    "# **White Male Effect - Understanding America Study**\n",
    "## Ekim Luo\n",
    "*Last Updated: October 12, 2021*"
   ]
  },
  {
   "cell_type": "markdown",
   "metadata": {},
   "source": [
    "# **Data**\n",
    "- [Understanding America Study](https://uasdata.usc.edu/index.php) COVID-19 National Survey Data, Center for Economic and Social Research, University of Southern California\n",
    "    - Original data: March 10, 2020 - July 21, 2021 (29 waves)\n",
    "    - My data: April 1, 2020 - July 21, 2021 (28 waves)"
   ]
  },
  {
   "cell_type": "markdown",
   "metadata": {
    "id": "Hv3oK3Cv9psm"
   },
   "source": [
    "# **Setting up**"
   ]
  },
  {
   "cell_type": "code",
   "execution_count": 1,
   "metadata": {
    "colab": {
     "base_uri": "https://localhost:8080/",
     "height": 35
    },
    "id": "rsY_8pQl1Xzy",
    "outputId": "d1509c6b-8c78-4558-8ca9-7d8c1d4ce351"
   },
   "outputs": [
    {
     "data": {
      "text/plain": [
       "'3.8.8 (default, Apr 13 2021, 19:58:26) \\n[GCC 7.3.0]'"
      ]
     },
     "execution_count": 1,
     "metadata": {},
     "output_type": "execute_result"
    }
   ],
   "source": [
    "# version check\n",
    "import sys\n",
    "sys.version"
   ]
  },
  {
   "cell_type": "code",
   "execution_count": 1,
   "metadata": {
    "id": "g_Zf8aymvvpo"
   },
   "outputs": [],
   "source": [
    "# import packages.\n",
    "import pandas as pd\n",
    "import numpy as np \n",
    "import matplotlib.pyplot as plt # graphing\n",
    "import matplotlib.patches as mpatches \n",
    "from matplotlib.ticker import FuncFormatter, MaxNLocator\n",
    "from matplotlib.lines import Line2D\n",
    "import matplotlib.ticker as plticker # force display all x-axis labels \n",
    "import seaborn as sns "
   ]
  },
  {
   "cell_type": "code",
   "execution_count": 57,
   "metadata": {
    "colab": {
     "base_uri": "https://localhost:8080/"
    },
    "id": "2JfQA6RKYYbS",
    "outputId": "1a3db291-89f1-42a5-cce9-cc4d01af29fb"
   },
   "outputs": [],
   "source": [
    "# import uas data\n",
    "# wave 1-10\n",
    "df1 = pd.read_csv('/home/ekim/RESEARCH/WME_2021/covidpanel_us_csv_jul_21_2021/covidpanel_us_csv_jul_21_2021wv1to10.csv', low_memory = False)\n",
    "df1 = df1[df1['wave']!=1] # drop wave 1 (pilot data)\n",
    "# wave 11 - 20\n",
    "df2 = pd.read_csv('/home/ekim/RESEARCH/WME_2021/covidpanel_us_csv_jul_21_2021/covidpanel_us_csv_jul_21_2021wv11to20.csv', low_memory=False)\n",
    "# wave 21 - 29\n",
    "df3 = pd.read_csv('/home/ekim/RESEARCH/WME_2021/covidpanel_us_csv_jul_21_2021/covidpanel_us_csv_jul_21_2021wv21to29.csv', low_memory=False)"
   ]
  },
  {
   "cell_type": "code",
   "execution_count": 58,
   "metadata": {},
   "outputs": [],
   "source": [
    "# subset data to include relevant variables\n",
    "cols_to_keep = ['uasid','wave','covid_diagnosed','gender', 'race','age','hhincome','education','cr022a','cr022b','jobs_dayswfh','hhmembernumber','prisk_die']\n",
    "df1 = df1[cols_to_keep]\n",
    "df2 = df2[cols_to_keep]\n",
    "df3 = df3[cols_to_keep]"
   ]
  },
  {
   "cell_type": "code",
   "execution_count": 59,
   "metadata": {},
   "outputs": [
    {
     "name": "stdout",
     "output_type": "stream",
     "text": [
      "Full data has the same number of columns as separate data files:  True\n",
      "Full data has the sum number of rows as separate data files:  True\n"
     ]
    }
   ],
   "source": [
    "# concatenate data and preview a few lines\n",
    "df = pd.concat([df1,df2])\n",
    "df = pd.concat([df, df3])\n",
    "print('Full data has the same number of columns as separate data files: ',df1.shape[1]==df.shape[1])\n",
    "print('Full data has the sum number of rows as separate data files: ',df1.shape[0]+df2.shape[0]+df3.shape[0]==df.shape[0])"
   ]
  },
  {
   "cell_type": "code",
   "execution_count": 60,
   "metadata": {},
   "outputs": [
    {
     "data": {
      "text/html": [
       "<div>\n",
       "<style scoped>\n",
       "    .dataframe tbody tr th:only-of-type {\n",
       "        vertical-align: middle;\n",
       "    }\n",
       "\n",
       "    .dataframe tbody tr th {\n",
       "        vertical-align: top;\n",
       "    }\n",
       "\n",
       "    .dataframe thead th {\n",
       "        text-align: right;\n",
       "    }\n",
       "</style>\n",
       "<table border=\"1\" class=\"dataframe\">\n",
       "  <thead>\n",
       "    <tr style=\"text-align: right;\">\n",
       "      <th></th>\n",
       "      <th>uasid</th>\n",
       "      <th>wave</th>\n",
       "      <th>covid_diagnosed</th>\n",
       "      <th>gender</th>\n",
       "      <th>race</th>\n",
       "      <th>age</th>\n",
       "      <th>hhincome</th>\n",
       "      <th>education</th>\n",
       "      <th>cr022a</th>\n",
       "      <th>cr022b</th>\n",
       "      <th>jobs_dayswfh</th>\n",
       "      <th>hhmembernumber</th>\n",
       "      <th>prisk_die</th>\n",
       "    </tr>\n",
       "  </thead>\n",
       "  <tbody>\n",
       "    <tr>\n",
       "      <th>6932</th>\n",
       "      <td>140100007</td>\n",
       "      <td>2</td>\n",
       "      <td>2.0</td>\n",
       "      <td>1.0</td>\n",
       "      <td>1.0</td>\n",
       "      <td>36.0</td>\n",
       "      <td>15.0</td>\n",
       "      <td>14.0</td>\n",
       "      <td>NaN</td>\n",
       "      <td>NaN</td>\n",
       "      <td>5.0</td>\n",
       "      <td>3.0</td>\n",
       "      <td>1.0</td>\n",
       "    </tr>\n",
       "    <tr>\n",
       "      <th>6933</th>\n",
       "      <td>140100035</td>\n",
       "      <td>2</td>\n",
       "      <td>2.0</td>\n",
       "      <td>1.0</td>\n",
       "      <td>1.0</td>\n",
       "      <td>44.0</td>\n",
       "      <td>15.0</td>\n",
       "      <td>11.0</td>\n",
       "      <td>NaN</td>\n",
       "      <td>NaN</td>\n",
       "      <td>5.0</td>\n",
       "      <td>3.0</td>\n",
       "      <td>80.0</td>\n",
       "    </tr>\n",
       "    <tr>\n",
       "      <th>6934</th>\n",
       "      <td>140100038</td>\n",
       "      <td>2</td>\n",
       "      <td>2.0</td>\n",
       "      <td>1.0</td>\n",
       "      <td>1.0</td>\n",
       "      <td>30.0</td>\n",
       "      <td>13.0</td>\n",
       "      <td>9.0</td>\n",
       "      <td>NaN</td>\n",
       "      <td>NaN</td>\n",
       "      <td>0.0</td>\n",
       "      <td>4.0</td>\n",
       "      <td>4.7</td>\n",
       "    </tr>\n",
       "    <tr>\n",
       "      <th>6935</th>\n",
       "      <td>140100041</td>\n",
       "      <td>2</td>\n",
       "      <td>2.0</td>\n",
       "      <td>1.0</td>\n",
       "      <td>1.0</td>\n",
       "      <td>70.0</td>\n",
       "      <td>13.0</td>\n",
       "      <td>10.0</td>\n",
       "      <td>NaN</td>\n",
       "      <td>NaN</td>\n",
       "      <td>NaN</td>\n",
       "      <td>1.0</td>\n",
       "      <td>1.8</td>\n",
       "    </tr>\n",
       "    <tr>\n",
       "      <th>6936</th>\n",
       "      <td>140100047</td>\n",
       "      <td>2</td>\n",
       "      <td>2.0</td>\n",
       "      <td>0.0</td>\n",
       "      <td>1.0</td>\n",
       "      <td>59.0</td>\n",
       "      <td>12.0</td>\n",
       "      <td>13.0</td>\n",
       "      <td>NaN</td>\n",
       "      <td>NaN</td>\n",
       "      <td>0.0</td>\n",
       "      <td>0.0</td>\n",
       "      <td>80.0</td>\n",
       "    </tr>\n",
       "  </tbody>\n",
       "</table>\n",
       "</div>"
      ],
      "text/plain": [
       "          uasid  wave  covid_diagnosed  gender  race   age  hhincome  \\\n",
       "6932  140100007     2              2.0     1.0   1.0  36.0      15.0   \n",
       "6933  140100035     2              2.0     1.0   1.0  44.0      15.0   \n",
       "6934  140100038     2              2.0     1.0   1.0  30.0      13.0   \n",
       "6935  140100041     2              2.0     1.0   1.0  70.0      13.0   \n",
       "6936  140100047     2              2.0     0.0   1.0  59.0      12.0   \n",
       "\n",
       "      education  cr022a  cr022b  jobs_dayswfh  hhmembernumber  prisk_die  \n",
       "6932       14.0     NaN     NaN           5.0             3.0        1.0  \n",
       "6933       11.0     NaN     NaN           5.0             3.0       80.0  \n",
       "6934        9.0     NaN     NaN           0.0             4.0        4.7  \n",
       "6935       10.0     NaN     NaN           NaN             1.0        1.8  \n",
       "6936       13.0     NaN     NaN           0.0             0.0       80.0  "
      ]
     },
     "execution_count": 60,
     "metadata": {},
     "output_type": "execute_result"
    }
   ],
   "source": [
    "# preview data\n",
    "df.head(5)"
   ]
  },
  {
   "cell_type": "markdown",
   "metadata": {
    "id": "3N0KH2cQJ9dG"
   },
   "source": [
    "# **Cleaning data**"
   ]
  },
  {
   "cell_type": "code",
   "execution_count": 61,
   "metadata": {
    "colab": {
     "base_uri": "https://localhost:8080/"
    },
    "id": "J_BELz5GZWtk",
    "outputId": "0abdbf30-97b9-4142-fef2-cad8b308bc3b"
   },
   "outputs": [
    {
     "data": {
      "text/plain": [
       "8368"
      ]
     },
     "execution_count": 61,
     "metadata": {},
     "output_type": "execute_result"
    }
   ],
   "source": [
    "# count the total n of unique individuals before cleaning\n",
    "len(df['uasid'].unique())"
   ]
  },
  {
   "cell_type": "code",
   "execution_count": 62,
   "metadata": {
    "id": "xp1fUM-iNHIN"
   },
   "outputs": [],
   "source": [
    "# only include participants that answered \"no\" to having been diagnosed with covid.\n",
    "df = df[df['covid_diagnosed'] == 2] "
   ]
  },
  {
   "cell_type": "markdown",
   "metadata": {
    "id": "StUl-GcaKEVT"
   },
   "source": [
    "# **Scoring data**"
   ]
  },
  {
   "cell_type": "markdown",
   "metadata": {
    "id": "bOq7Bry9S2YN"
   },
   "source": [
    "## **group column**\n",
    "- White men, White women, non-White men, non-White women"
   ]
  },
  {
   "cell_type": "code",
   "execution_count": 63,
   "metadata": {
    "id": "NiCqbJXswsmw"
   },
   "outputs": [],
   "source": [
    "group = [] # create empty list for appending group values \n",
    "\n",
    "for i in df[['gender', 'race']].values.tolist(): # loop through the gender and race columns and append group values\n",
    "    if i[0] == 1 and i[1] == 1: # white male\n",
    "        group.append('wm') # append value to list \n",
    "    elif i[0] == 1 and i[1] != 1: # non-white male\n",
    "        group.append('nm')\n",
    "    elif i[0] == 0 and i[1] == 1: # white female\n",
    "        group.append('ww')\n",
    "    elif i[0] == 0 and i[1] != 1: # non-white female\n",
    "        group.append('nw')\n",
    "    else:\n",
    "        group.append('NaN') # if the gender or race cells are empty, write in \"NaN\"\n",
    "\n",
    "df['group'] = group # append list as a column named group"
   ]
  },
  {
   "cell_type": "code",
   "execution_count": 64,
   "metadata": {
    "id": "SaAY_XPnwQAA"
   },
   "outputs": [],
   "source": [
    "df = df.loc[df['group'] != 'NaN'] # eliminate 1 row with a missing gender input (wave 2)"
   ]
  },
  {
   "cell_type": "markdown",
   "metadata": {
    "id": "wW6466xvSx_1"
   },
   "source": [
    "## **Appending columns**\n",
    "- `group2`: White men (1) v. others (0)\n",
    "- `race2`: Whites (1) v. others (0)"
   ]
  },
  {
   "cell_type": "code",
   "execution_count": 66,
   "metadata": {
    "id": "BeRwWKbp8Tj9"
   },
   "outputs": [],
   "source": [
    "# White men v. others\n",
    "df['group2'] = 0 # others\n",
    "df.loc[lambda df: df['group'] == 'wm',['group2']] = 1 # wm"
   ]
  },
  {
   "cell_type": "code",
   "execution_count": 67,
   "metadata": {},
   "outputs": [],
   "source": [
    "# Whites v. others\n",
    "df['race2'] = 0 # others\n",
    "df.loc[lambda df: df['race'] == 1,['race2']] = 1 # white"
   ]
  },
  {
   "cell_type": "markdown",
   "metadata": {
    "id": "4L-RF01HKLLB"
   },
   "source": [
    "# **Describing data**"
   ]
  },
  {
   "cell_type": "code",
   "execution_count": 68,
   "metadata": {
    "id": "lwJiuPbr2r6O"
   },
   "outputs": [
    {
     "data": {
      "text/plain": [
       "8339"
      ]
     },
     "execution_count": 68,
     "metadata": {},
     "output_type": "execute_result"
    }
   ],
   "source": [
    "# sample size\n",
    "# count the total n of unique individuals after cleaning\n",
    "df['uasid'].nunique()"
   ]
  },
  {
   "cell_type": "code",
   "execution_count": 69,
   "metadata": {
    "id": "kSMQ4N3F17BK"
   },
   "outputs": [
    {
     "data": {
      "text/plain": [
       "2     0.647680\n",
       "3     0.743734\n",
       "4     0.758724\n",
       "5     0.757285\n",
       "6     0.757525\n",
       "7     0.749251\n",
       "8     0.716753\n",
       "9     0.739657\n",
       "10    0.750809\n",
       "11    0.733901\n",
       "12    0.738218\n",
       "13    0.740496\n",
       "14    0.721070\n",
       "15    0.718312\n",
       "16    0.728625\n",
       "17    0.734980\n",
       "18    0.712675\n",
       "19    0.707039\n",
       "20    0.708478\n",
       "21    0.706080\n",
       "22    0.719751\n",
       "23    0.726586\n",
       "24    0.744214\n",
       "25    0.727545\n",
       "26    0.714834\n",
       "27    0.712196\n",
       "28    0.702842\n",
       "29    0.689291\n",
       "Name: wave, dtype: float64"
      ]
     },
     "execution_count": 69,
     "metadata": {},
     "output_type": "execute_result"
    }
   ],
   "source": [
    "# attrition\n",
    "# N indiviuals per wave divided by N sample size\n",
    "df['wave'].value_counts(sort = False)/len(df['uasid'].unique())"
   ]
  },
  {
   "cell_type": "code",
   "execution_count": 70,
   "metadata": {
    "id": "_fI7p1cVyHBo"
   },
   "outputs": [
    {
     "name": "stdout",
     "output_type": "stream",
     "text": [
      "ww    3709\n",
      "wm    2705\n",
      "nw    1232\n",
      "nm     693\n",
      "Name: group, dtype: int64\n"
     ]
    }
   ],
   "source": [
    "# count unique individuals by group\n",
    "df['boolean'] = df['uasid'] .duplicated() # create new column \"boolean\" with T/F values based on the duplication of uasid\n",
    "print(df.loc[df['boolean'] == False,'group'].value_counts()) # count rows with F values by group"
   ]
  },
  {
   "cell_type": "markdown",
   "metadata": {},
   "source": [
    "### **Summary statistics**\n",
    "- age (`age`)\n",
    "- household income (`hhincome`)\n",
    "- education (`education`)\n",
    "- hospitalized how many family or close friends (`cr022a`)\n",
    "- died how many family or close friends (`cr022b`)\n",
    "- N days in the past seven worked from home (`jobs_dayswfh`)\n",
    "- household size (`hhmembernumber`)"
   ]
  },
  {
   "cell_type": "markdown",
   "metadata": {},
   "source": [
    "First, extract unique individuals from the DataFrame, then calculate summary statistics based on unique individuals. Do this by creating a separate DataFrame that contains the first instance of each unique individual using `drop_duplicates()`."
   ]
  },
  {
   "cell_type": "code",
   "execution_count": 71,
   "metadata": {},
   "outputs": [],
   "source": [
    "# create a copy of df\n",
    "df_unique = df.copy()"
   ]
  },
  {
   "cell_type": "code",
   "execution_count": 72,
   "metadata": {},
   "outputs": [
    {
     "name": "stdout",
     "output_type": "stream",
     "text": [
      "There are a total of 8339 unique individuals in the new DataFrame.\n"
     ]
    }
   ],
   "source": [
    "# drop duplicates\n",
    "df_unique.drop_duplicates(subset = 'uasid', inplace = True)\n",
    "print('There are a total of {0} unique individuals in the new DataFrame.'.format(df_unique.shape[0]))"
   ]
  },
  {
   "cell_type": "code",
   "execution_count": 73,
   "metadata": {},
   "outputs": [
    {
     "data": {
      "text/html": [
       "<div>\n",
       "<style scoped>\n",
       "    .dataframe tbody tr th:only-of-type {\n",
       "        vertical-align: middle;\n",
       "    }\n",
       "\n",
       "    .dataframe tbody tr th {\n",
       "        vertical-align: top;\n",
       "    }\n",
       "\n",
       "    .dataframe thead th {\n",
       "        text-align: right;\n",
       "    }\n",
       "</style>\n",
       "<table border=\"1\" class=\"dataframe\">\n",
       "  <thead>\n",
       "    <tr style=\"text-align: right;\">\n",
       "      <th></th>\n",
       "      <th>age</th>\n",
       "      <th>hhincome</th>\n",
       "      <th>education</th>\n",
       "      <th>cr022a</th>\n",
       "      <th>cr022b</th>\n",
       "      <th>jobs_dayswfh</th>\n",
       "      <th>hhmembernumber</th>\n",
       "    </tr>\n",
       "  </thead>\n",
       "  <tbody>\n",
       "    <tr>\n",
       "      <th>6932</th>\n",
       "      <td>36.0</td>\n",
       "      <td>15.0</td>\n",
       "      <td>14.0</td>\n",
       "      <td>NaN</td>\n",
       "      <td>NaN</td>\n",
       "      <td>5.0</td>\n",
       "      <td>3.0</td>\n",
       "    </tr>\n",
       "    <tr>\n",
       "      <th>6933</th>\n",
       "      <td>44.0</td>\n",
       "      <td>15.0</td>\n",
       "      <td>11.0</td>\n",
       "      <td>NaN</td>\n",
       "      <td>NaN</td>\n",
       "      <td>5.0</td>\n",
       "      <td>3.0</td>\n",
       "    </tr>\n",
       "    <tr>\n",
       "      <th>6934</th>\n",
       "      <td>30.0</td>\n",
       "      <td>13.0</td>\n",
       "      <td>9.0</td>\n",
       "      <td>NaN</td>\n",
       "      <td>NaN</td>\n",
       "      <td>0.0</td>\n",
       "      <td>4.0</td>\n",
       "    </tr>\n",
       "    <tr>\n",
       "      <th>6935</th>\n",
       "      <td>70.0</td>\n",
       "      <td>13.0</td>\n",
       "      <td>10.0</td>\n",
       "      <td>NaN</td>\n",
       "      <td>NaN</td>\n",
       "      <td>NaN</td>\n",
       "      <td>1.0</td>\n",
       "    </tr>\n",
       "    <tr>\n",
       "      <th>6936</th>\n",
       "      <td>59.0</td>\n",
       "      <td>12.0</td>\n",
       "      <td>13.0</td>\n",
       "      <td>NaN</td>\n",
       "      <td>NaN</td>\n",
       "      <td>0.0</td>\n",
       "      <td>0.0</td>\n",
       "    </tr>\n",
       "  </tbody>\n",
       "</table>\n",
       "</div>"
      ],
      "text/plain": [
       "       age  hhincome  education  cr022a  cr022b  jobs_dayswfh  hhmembernumber\n",
       "6932  36.0      15.0       14.0     NaN     NaN           5.0             3.0\n",
       "6933  44.0      15.0       11.0     NaN     NaN           5.0             3.0\n",
       "6934  30.0      13.0        9.0     NaN     NaN           0.0             4.0\n",
       "6935  70.0      13.0       10.0     NaN     NaN           NaN             1.0\n",
       "6936  59.0      12.0       13.0     NaN     NaN           0.0             0.0"
      ]
     },
     "execution_count": 73,
     "metadata": {},
     "output_type": "execute_result"
    }
   ],
   "source": [
    "# subset new dataframe to contain only relevant columns\n",
    "cols_to_keep = ['age','hhincome','education','cr022a','cr022b','jobs_dayswfh','hhmembernumber']\n",
    "df_unique = df_unique[cols_to_keep]\n",
    "df_unique.head()"
   ]
  },
  {
   "cell_type": "code",
   "execution_count": 34,
   "metadata": {},
   "outputs": [
    {
     "data": {
      "text/html": [
       "<div>\n",
       "<style scoped>\n",
       "    .dataframe tbody tr th:only-of-type {\n",
       "        vertical-align: middle;\n",
       "    }\n",
       "\n",
       "    .dataframe tbody tr th {\n",
       "        vertical-align: top;\n",
       "    }\n",
       "\n",
       "    .dataframe thead th {\n",
       "        text-align: right;\n",
       "    }\n",
       "</style>\n",
       "<table border=\"1\" class=\"dataframe\">\n",
       "  <thead>\n",
       "    <tr style=\"text-align: right;\">\n",
       "      <th></th>\n",
       "      <th>age</th>\n",
       "      <th>hhincome</th>\n",
       "      <th>education</th>\n",
       "      <th>cr022a</th>\n",
       "      <th>cr022b</th>\n",
       "      <th>jobs_dayswfh</th>\n",
       "      <th>hhmembernumber</th>\n",
       "    </tr>\n",
       "  </thead>\n",
       "  <tbody>\n",
       "    <tr>\n",
       "      <th>count</th>\n",
       "      <td>8330.000000</td>\n",
       "      <td>8318.000000</td>\n",
       "      <td>8337.000000</td>\n",
       "      <td>2694.000000</td>\n",
       "      <td>2691.000000</td>\n",
       "      <td>4336.000000</td>\n",
       "      <td>8063.000000</td>\n",
       "    </tr>\n",
       "    <tr>\n",
       "      <th>mean</th>\n",
       "      <td>49.318848</td>\n",
       "      <td>11.241284</td>\n",
       "      <td>11.313422</td>\n",
       "      <td>0.213808</td>\n",
       "      <td>0.112969</td>\n",
       "      <td>2.472325</td>\n",
       "      <td>1.722064</td>\n",
       "    </tr>\n",
       "    <tr>\n",
       "      <th>std</th>\n",
       "      <td>16.315340</td>\n",
       "      <td>4.172439</td>\n",
       "      <td>2.274579</td>\n",
       "      <td>1.385143</td>\n",
       "      <td>1.504844</td>\n",
       "      <td>2.648439</td>\n",
       "      <td>1.449991</td>\n",
       "    </tr>\n",
       "    <tr>\n",
       "      <th>min</th>\n",
       "      <td>18.000000</td>\n",
       "      <td>1.000000</td>\n",
       "      <td>1.000000</td>\n",
       "      <td>0.000000</td>\n",
       "      <td>0.000000</td>\n",
       "      <td>0.000000</td>\n",
       "      <td>0.000000</td>\n",
       "    </tr>\n",
       "    <tr>\n",
       "      <th>25%</th>\n",
       "      <td>36.000000</td>\n",
       "      <td>9.000000</td>\n",
       "      <td>10.000000</td>\n",
       "      <td>0.000000</td>\n",
       "      <td>0.000000</td>\n",
       "      <td>0.000000</td>\n",
       "      <td>1.000000</td>\n",
       "    </tr>\n",
       "    <tr>\n",
       "      <th>50%</th>\n",
       "      <td>49.000000</td>\n",
       "      <td>13.000000</td>\n",
       "      <td>11.000000</td>\n",
       "      <td>0.000000</td>\n",
       "      <td>0.000000</td>\n",
       "      <td>1.000000</td>\n",
       "      <td>1.000000</td>\n",
       "    </tr>\n",
       "    <tr>\n",
       "      <th>75%</th>\n",
       "      <td>62.000000</td>\n",
       "      <td>15.000000</td>\n",
       "      <td>13.000000</td>\n",
       "      <td>0.000000</td>\n",
       "      <td>0.000000</td>\n",
       "      <td>5.000000</td>\n",
       "      <td>3.000000</td>\n",
       "    </tr>\n",
       "    <tr>\n",
       "      <th>max</th>\n",
       "      <td>110.000000</td>\n",
       "      <td>16.000000</td>\n",
       "      <td>16.000000</td>\n",
       "      <td>50.000000</td>\n",
       "      <td>67.000000</td>\n",
       "      <td>7.000000</td>\n",
       "      <td>11.000000</td>\n",
       "    </tr>\n",
       "  </tbody>\n",
       "</table>\n",
       "</div>"
      ],
      "text/plain": [
       "               age     hhincome    education       cr022a       cr022b  \\\n",
       "count  8330.000000  8318.000000  8337.000000  2694.000000  2691.000000   \n",
       "mean     49.318848    11.241284    11.313422     0.213808     0.112969   \n",
       "std      16.315340     4.172439     2.274579     1.385143     1.504844   \n",
       "min      18.000000     1.000000     1.000000     0.000000     0.000000   \n",
       "25%      36.000000     9.000000    10.000000     0.000000     0.000000   \n",
       "50%      49.000000    13.000000    11.000000     0.000000     0.000000   \n",
       "75%      62.000000    15.000000    13.000000     0.000000     0.000000   \n",
       "max     110.000000    16.000000    16.000000    50.000000    67.000000   \n",
       "\n",
       "       jobs_dayswfh  hhmembernumber  \n",
       "count   4336.000000     8063.000000  \n",
       "mean       2.472325        1.722064  \n",
       "std        2.648439        1.449991  \n",
       "min        0.000000        0.000000  \n",
       "25%        0.000000        1.000000  \n",
       "50%        1.000000        1.000000  \n",
       "75%        5.000000        3.000000  \n",
       "max        7.000000       11.000000  "
      ]
     },
     "execution_count": 34,
     "metadata": {},
     "output_type": "execute_result"
    }
   ],
   "source": [
    "# calculate summary descriptives\n",
    "# note that 50% quantile = median\n",
    "df_unique.describe()"
   ]
  },
  {
   "cell_type": "markdown",
   "metadata": {},
   "source": [
    "### **Calculating descriptives for COVID-19 mortality risk perceptions by group**"
   ]
  },
  {
   "cell_type": "code",
   "execution_count": 74,
   "metadata": {
    "id": "z8VJbv6MeAcF"
   },
   "outputs": [
    {
     "name": "stdout",
     "output_type": "stream",
     "text": [
      "\n",
      "\n",
      "mean group\n",
      "nm    17.142155\n",
      "nw    18.320878\n",
      "wm    14.886746\n",
      "ww    17.589641\n",
      "Name: prisk_die, dtype: float64\n",
      "\n",
      "\n",
      "std group\n",
      "nm    23.784374\n",
      "nw    24.217223\n",
      "wm    23.739914\n",
      "ww    24.401135\n",
      "Name: prisk_die, dtype: float64\n",
      "\n",
      "\n",
      "ssem group\n",
      "nm    0.204130\n",
      "nw    0.159104\n",
      "wm    0.100226\n",
      "ww    0.089103\n",
      "Name: prisk_die, dtype: float64\n",
      "\n",
      "\n",
      "ssem group\n",
      "nm    0.204130\n",
      "nw    0.159104\n",
      "wm    0.100226\n",
      "ww    0.089103\n",
      "Name: prisk_die, dtype: float64\n"
     ]
    }
   ],
   "source": [
    "# calculate mean and SD of risk perception by group (death)\n",
    "print('\\n\\nmean',df.groupby('group')['prisk_die'].mean())\n",
    "print('\\n\\nstd',df.groupby('group')['prisk_die'].std())\n",
    "print('\\n\\nssem',df.groupby('group')['prisk_die'].sem())\n",
    "print('\\n\\nssem',df.groupby('group')['prisk_die'].sem())"
   ]
  },
  {
   "cell_type": "markdown",
   "metadata": {
    "id": "-eJO-dmKKPLL"
   },
   "source": [
    "# **Plotting risk perceptions over time**\n"
   ]
  },
  {
   "cell_type": "markdown",
   "metadata": {
    "id": "Iq14DOt_yKFO"
   },
   "source": [
    "## **Calculate descriptive statistics by group across waves**\n",
    "- means over time\n",
    "- SDs associated with means over time\n",
    "- SE of means over time\n",
    "- CIs at 95% level"
   ]
  },
  {
   "cell_type": "code",
   "execution_count": 75,
   "metadata": {},
   "outputs": [
    {
     "data": {
      "text/html": [
       "<div>\n",
       "<style scoped>\n",
       "    .dataframe tbody tr th:only-of-type {\n",
       "        vertical-align: middle;\n",
       "    }\n",
       "\n",
       "    .dataframe tbody tr th {\n",
       "        vertical-align: top;\n",
       "    }\n",
       "\n",
       "    .dataframe thead tr th {\n",
       "        text-align: left;\n",
       "    }\n",
       "</style>\n",
       "<table border=\"1\" class=\"dataframe\">\n",
       "  <thead>\n",
       "    <tr>\n",
       "      <th></th>\n",
       "      <th>group</th>\n",
       "      <th>wave</th>\n",
       "      <th colspan=\"3\" halign=\"left\">prisk_die</th>\n",
       "    </tr>\n",
       "    <tr>\n",
       "      <th></th>\n",
       "      <th></th>\n",
       "      <th></th>\n",
       "      <th>mean</th>\n",
       "      <th>std</th>\n",
       "      <th>sem</th>\n",
       "    </tr>\n",
       "  </thead>\n",
       "  <tbody>\n",
       "    <tr>\n",
       "      <th>0</th>\n",
       "      <td>nm</td>\n",
       "      <td>2</td>\n",
       "      <td>23.425463</td>\n",
       "      <td>26.742024</td>\n",
       "      <td>1.286626</td>\n",
       "    </tr>\n",
       "    <tr>\n",
       "      <th>1</th>\n",
       "      <td>nm</td>\n",
       "      <td>3</td>\n",
       "      <td>21.317304</td>\n",
       "      <td>25.284932</td>\n",
       "      <td>1.134184</td>\n",
       "    </tr>\n",
       "    <tr>\n",
       "      <th>2</th>\n",
       "      <td>nm</td>\n",
       "      <td>4</td>\n",
       "      <td>20.731915</td>\n",
       "      <td>24.297264</td>\n",
       "      <td>1.068592</td>\n",
       "    </tr>\n",
       "    <tr>\n",
       "      <th>3</th>\n",
       "      <td>nm</td>\n",
       "      <td>5</td>\n",
       "      <td>18.443301</td>\n",
       "      <td>23.760176</td>\n",
       "      <td>1.046998</td>\n",
       "    </tr>\n",
       "    <tr>\n",
       "      <th>4</th>\n",
       "      <td>nm</td>\n",
       "      <td>6</td>\n",
       "      <td>20.045192</td>\n",
       "      <td>25.118891</td>\n",
       "      <td>1.101536</td>\n",
       "    </tr>\n",
       "    <tr>\n",
       "      <th>...</th>\n",
       "      <td>...</td>\n",
       "      <td>...</td>\n",
       "      <td>...</td>\n",
       "      <td>...</td>\n",
       "      <td>...</td>\n",
       "    </tr>\n",
       "    <tr>\n",
       "      <th>107</th>\n",
       "      <td>ww</td>\n",
       "      <td>25</td>\n",
       "      <td>14.219053</td>\n",
       "      <td>22.172308</td>\n",
       "      <td>0.424822</td>\n",
       "    </tr>\n",
       "    <tr>\n",
       "      <th>108</th>\n",
       "      <td>ww</td>\n",
       "      <td>26</td>\n",
       "      <td>12.840802</td>\n",
       "      <td>21.123446</td>\n",
       "      <td>0.410959</td>\n",
       "    </tr>\n",
       "    <tr>\n",
       "      <th>109</th>\n",
       "      <td>ww</td>\n",
       "      <td>27</td>\n",
       "      <td>11.966363</td>\n",
       "      <td>20.736768</td>\n",
       "      <td>0.404279</td>\n",
       "    </tr>\n",
       "    <tr>\n",
       "      <th>110</th>\n",
       "      <td>ww</td>\n",
       "      <td>28</td>\n",
       "      <td>11.737437</td>\n",
       "      <td>20.512103</td>\n",
       "      <td>0.403597</td>\n",
       "    </tr>\n",
       "    <tr>\n",
       "      <th>111</th>\n",
       "      <td>ww</td>\n",
       "      <td>29</td>\n",
       "      <td>11.262692</td>\n",
       "      <td>20.288274</td>\n",
       "      <td>0.402479</td>\n",
       "    </tr>\n",
       "  </tbody>\n",
       "</table>\n",
       "<p>112 rows × 5 columns</p>\n",
       "</div>"
      ],
      "text/plain": [
       "    group wave  prisk_die                     \n",
       "                     mean        std       sem\n",
       "0      nm    2  23.425463  26.742024  1.286626\n",
       "1      nm    3  21.317304  25.284932  1.134184\n",
       "2      nm    4  20.731915  24.297264  1.068592\n",
       "3      nm    5  18.443301  23.760176  1.046998\n",
       "4      nm    6  20.045192  25.118891  1.101536\n",
       "..    ...  ...        ...        ...       ...\n",
       "107    ww   25  14.219053  22.172308  0.424822\n",
       "108    ww   26  12.840802  21.123446  0.410959\n",
       "109    ww   27  11.966363  20.736768  0.404279\n",
       "110    ww   28  11.737437  20.512103  0.403597\n",
       "111    ww   29  11.262692  20.288274  0.402479\n",
       "\n",
       "[112 rows x 5 columns]"
      ]
     },
     "execution_count": 75,
     "metadata": {},
     "output_type": "execute_result"
    }
   ],
   "source": [
    "# group dataframe by group and wave\n",
    "# calculate mean, std and sem over time\n",
    "# save dataframe as df_plot\n",
    "df_stats = df[['prisk_die','group','wave']].groupby(['group','wave']).agg(['mean','std','sem']).reset_index()\n",
    "df_stats"
   ]
  },
  {
   "cell_type": "code",
   "execution_count": 76,
   "metadata": {},
   "outputs": [],
   "source": [
    "# calculate CI at 95% level\n",
    "\n",
    "# get square rooted sample sizes for each group per wave\n",
    "sample_group_wave = np.sqrt(df.groupby(['wave','group']).size().to_numpy())\n",
    "# get means for each group per wave\n",
    "mean_group_wave = df_stats['prisk_die']['mean'].to_numpy()\n",
    "# get stds for each group per wave\n",
    "std_group_wave = df_stats['prisk_die']['std'].to_numpy()\n",
    "# get CIs\n",
    "ci_upper = mean_group_wave+1.96*std_group_wave/sample_group_wave\n",
    "ci_lower = mean_group_wave-1.96*std_group_wave/sample_group_wave"
   ]
  },
  {
   "cell_type": "code",
   "execution_count": 77,
   "metadata": {},
   "outputs": [
    {
     "data": {
      "text/html": [
       "<div>\n",
       "<style scoped>\n",
       "    .dataframe tbody tr th:only-of-type {\n",
       "        vertical-align: middle;\n",
       "    }\n",
       "\n",
       "    .dataframe tbody tr th {\n",
       "        vertical-align: top;\n",
       "    }\n",
       "\n",
       "    .dataframe thead tr th {\n",
       "        text-align: left;\n",
       "    }\n",
       "</style>\n",
       "<table border=\"1\" class=\"dataframe\">\n",
       "  <thead>\n",
       "    <tr>\n",
       "      <th></th>\n",
       "      <th>group</th>\n",
       "      <th>wave</th>\n",
       "      <th colspan=\"3\" halign=\"left\">prisk_die</th>\n",
       "      <th>ci_upper</th>\n",
       "      <th>ci_lower</th>\n",
       "    </tr>\n",
       "    <tr>\n",
       "      <th></th>\n",
       "      <th></th>\n",
       "      <th></th>\n",
       "      <th>mean</th>\n",
       "      <th>std</th>\n",
       "      <th>sem</th>\n",
       "      <th></th>\n",
       "      <th></th>\n",
       "    </tr>\n",
       "  </thead>\n",
       "  <tbody>\n",
       "    <tr>\n",
       "      <th>0</th>\n",
       "      <td>nm</td>\n",
       "      <td>2</td>\n",
       "      <td>23.425463</td>\n",
       "      <td>26.742024</td>\n",
       "      <td>1.286626</td>\n",
       "      <td>25.944337</td>\n",
       "      <td>20.906589</td>\n",
       "    </tr>\n",
       "    <tr>\n",
       "      <th>1</th>\n",
       "      <td>nm</td>\n",
       "      <td>3</td>\n",
       "      <td>21.317304</td>\n",
       "      <td>25.284932</td>\n",
       "      <td>1.134184</td>\n",
       "      <td>23.173283</td>\n",
       "      <td>19.461325</td>\n",
       "    </tr>\n",
       "    <tr>\n",
       "      <th>2</th>\n",
       "      <td>nm</td>\n",
       "      <td>4</td>\n",
       "      <td>20.731915</td>\n",
       "      <td>24.297264</td>\n",
       "      <td>1.068592</td>\n",
       "      <td>21.832006</td>\n",
       "      <td>19.631824</td>\n",
       "    </tr>\n",
       "    <tr>\n",
       "      <th>3</th>\n",
       "      <td>nm</td>\n",
       "      <td>5</td>\n",
       "      <td>18.443301</td>\n",
       "      <td>23.760176</td>\n",
       "      <td>1.046998</td>\n",
       "      <td>19.397691</td>\n",
       "      <td>17.488911</td>\n",
       "    </tr>\n",
       "    <tr>\n",
       "      <th>4</th>\n",
       "      <td>nm</td>\n",
       "      <td>6</td>\n",
       "      <td>20.045192</td>\n",
       "      <td>25.118891</td>\n",
       "      <td>1.101536</td>\n",
       "      <td>22.251377</td>\n",
       "      <td>17.839008</td>\n",
       "    </tr>\n",
       "    <tr>\n",
       "      <th>...</th>\n",
       "      <td>...</td>\n",
       "      <td>...</td>\n",
       "      <td>...</td>\n",
       "      <td>...</td>\n",
       "      <td>...</td>\n",
       "      <td>...</td>\n",
       "      <td>...</td>\n",
       "    </tr>\n",
       "    <tr>\n",
       "      <th>107</th>\n",
       "      <td>ww</td>\n",
       "      <td>25</td>\n",
       "      <td>14.219053</td>\n",
       "      <td>22.172308</td>\n",
       "      <td>0.424822</td>\n",
       "      <td>15.067422</td>\n",
       "      <td>13.370683</td>\n",
       "    </tr>\n",
       "    <tr>\n",
       "      <th>108</th>\n",
       "      <td>ww</td>\n",
       "      <td>26</td>\n",
       "      <td>12.840802</td>\n",
       "      <td>21.123446</td>\n",
       "      <td>0.410959</td>\n",
       "      <td>14.758711</td>\n",
       "      <td>10.922894</td>\n",
       "    </tr>\n",
       "    <tr>\n",
       "      <th>109</th>\n",
       "      <td>ww</td>\n",
       "      <td>27</td>\n",
       "      <td>11.966363</td>\n",
       "      <td>20.736768</td>\n",
       "      <td>0.404279</td>\n",
       "      <td>13.398878</td>\n",
       "      <td>10.533848</td>\n",
       "    </tr>\n",
       "    <tr>\n",
       "      <th>110</th>\n",
       "      <td>ww</td>\n",
       "      <td>28</td>\n",
       "      <td>11.737437</td>\n",
       "      <td>20.512103</td>\n",
       "      <td>0.403597</td>\n",
       "      <td>12.659046</td>\n",
       "      <td>10.815828</td>\n",
       "    </tr>\n",
       "    <tr>\n",
       "      <th>111</th>\n",
       "      <td>ww</td>\n",
       "      <td>29</td>\n",
       "      <td>11.262692</td>\n",
       "      <td>20.288274</td>\n",
       "      <td>0.402479</td>\n",
       "      <td>12.046477</td>\n",
       "      <td>10.478907</td>\n",
       "    </tr>\n",
       "  </tbody>\n",
       "</table>\n",
       "<p>112 rows × 7 columns</p>\n",
       "</div>"
      ],
      "text/plain": [
       "    group wave  prisk_die                        ci_upper   ci_lower\n",
       "                     mean        std       sem                      \n",
       "0      nm    2  23.425463  26.742024  1.286626  25.944337  20.906589\n",
       "1      nm    3  21.317304  25.284932  1.134184  23.173283  19.461325\n",
       "2      nm    4  20.731915  24.297264  1.068592  21.832006  19.631824\n",
       "3      nm    5  18.443301  23.760176  1.046998  19.397691  17.488911\n",
       "4      nm    6  20.045192  25.118891  1.101536  22.251377  17.839008\n",
       "..    ...  ...        ...        ...       ...        ...        ...\n",
       "107    ww   25  14.219053  22.172308  0.424822  15.067422  13.370683\n",
       "108    ww   26  12.840802  21.123446  0.410959  14.758711  10.922894\n",
       "109    ww   27  11.966363  20.736768  0.404279  13.398878  10.533848\n",
       "110    ww   28  11.737437  20.512103  0.403597  12.659046  10.815828\n",
       "111    ww   29  11.262692  20.288274  0.402479  12.046477  10.478907\n",
       "\n",
       "[112 rows x 7 columns]"
      ]
     },
     "execution_count": 77,
     "metadata": {},
     "output_type": "execute_result"
    }
   ],
   "source": [
    "# append CIs to df_stats\n",
    "df_stats['ci_upper']=pd.Series(ci_upper)\n",
    "df_stats['ci_lower']=pd.Series(ci_lower)\n",
    "df_stats"
   ]
  },
  {
   "cell_type": "code",
   "execution_count": 78,
   "metadata": {},
   "outputs": [
    {
     "data": {
      "text/plain": [
       "array([[22.787820512820506, 26.645705663554153, 0.6158490900055494,\n",
       "        25.149543017811528, 20.426098007829484],\n",
       "       [19.55311004784689, 25.595822316349093, 0.5598812758846103,\n",
       "        21.273851794469554, 17.832368301224225],\n",
       "       [18.598578199052145, 25.3671839899914, 0.5522440320111927,\n",
       "        19.707575020843237, 17.489581377261054],\n",
       "       [17.508784425451108, 24.663420628463076, 0.5374327481046156,\n",
       "        18.434477068444178, 16.583091782458037],\n",
       "       [17.115882917466404, 24.85969659457997, 0.5445615410261408,\n",
       "        19.310346790852876, 14.921419044079933],\n",
       "       [16.263540163540124, 24.250096656429978, 0.5318464066012111,\n",
       "        17.882424840486113, 14.644655486594136],\n",
       "       [16.506367804381032, 24.794138664848308, 0.5596143931701199,\n",
       "        17.583898430620668, 15.428837178141395],\n",
       "       [16.54367366878353, 24.886666233035918, 0.5500571343928714,\n",
       "        17.475526895227432, 15.61182044233963],\n",
       "       [16.429448742746597, 24.898203942074925, 0.5475108786626468,\n",
       "        18.70231367805886, 14.156583807434334],\n",
       "       [16.35091720376795, 25.18390533058736, 0.5607510933083395,\n",
       "        18.059106167816168, 14.64272823971973],\n",
       "       [15.670256916996017, 24.70906251507534, 0.5492259061939232,\n",
       "        16.759184994172877, 14.581328839819157],\n",
       "       [15.420975609756061, 24.525372744807232, 0.541674867952702,\n",
       "        16.35143495276407, 14.490516266748054],\n",
       "       [15.626670040485802, 24.898868099827137, 0.5601265186807781,\n",
       "        17.892235869177174, 13.36110421179443],\n",
       "       [15.044511581067455, 24.127564273490258, 0.5414069907129494,\n",
       "        16.705088990492786, 13.383934171642125],\n",
       "       [14.623061530765355, 23.93255901094843, 0.5352821255031837,\n",
       "        15.678569847956869, 13.567553213573841],\n",
       "       [14.762685093780807, 23.67614644771973, 0.5260067255536529,\n",
       "        15.664821416239146, 13.860548771322467],\n",
       "       [15.28078291814943, 24.015755823401214, 0.5414945368011344,\n",
       "        17.429264880818202, 13.132300955480657],\n",
       "       [14.418473282442715, 23.550165714992097, 0.5312668163258958,\n",
       "        16.022585957412186, 12.814360607473244],\n",
       "       [14.13104693140793, 23.340537414067107, 0.5300562343192704,\n",
       "        15.166491885637711, 13.095601977178148],\n",
       "       [14.273404798366494, 23.430243374566476, 0.529370312074138,\n",
       "        15.165834222090687, 13.3809753746423],\n",
       "       [13.931249999999956, 23.15187574973604, 0.5197749545647133,\n",
       "        16.01992685885034, 11.84257314114957],\n",
       "       [13.262972166997997, 22.338103899863416, 0.49800341216639304,\n",
       "        14.799443151916515, 11.72650118207948],\n",
       "       [12.782167152575283, 21.88169271778746, 0.4823454984565309,\n",
       "        13.748694459021035, 11.815639846129532],\n",
       "       [11.69028686462, 20.9522646274664, 0.4700369905987637,\n",
       "        12.490299289813654, 10.890274439426348],\n",
       "       [10.166802030456841, 20.06958728018964, 0.4521737310417739,\n",
       "        11.940223498680606, 8.393380562233077],\n",
       "       [9.399999999999988, 18.88001460423987, 0.4266738063266434,\n",
       "        10.688342765192433, 8.111657234807543],\n",
       "       [9.075599582898851, 19.155879771435025, 0.43739901549719007,\n",
       "        9.916194431015642, 8.235004734782061],\n",
       "       [8.5621164021164, 18.083537221479983, 0.41596087425429557,\n",
       "        9.245498056390472, 7.878734747842328]], dtype=object)"
      ]
     },
     "execution_count": 78,
     "metadata": {},
     "output_type": "execute_result"
    }
   ],
   "source": [
    "# subset descriptive statistics by group\n",
    "# 1 = mean, 2 = std, 3 = sem, 4 = ci_upper, 5 = ci_lower\n",
    "df_stats_wm = df_stats[df_stats['group'] == 'wm'].to_numpy()[:,2:]\n",
    "df_stats_ww = df_stats[df_stats['group'] == 'ww'].to_numpy()[:,2:]\n",
    "df_stats_nm = df_stats[df_stats['group'] == 'nm'].to_numpy()[:,2:]\n",
    "df_stats_nw = df_stats[df_stats['group'] == 'nw'].to_numpy()[:,2:]\n",
    "\n",
    "df_stats_wm"
   ]
  },
  {
   "cell_type": "code",
   "execution_count": 79,
   "metadata": {
    "id": "NDdPZi5LyKgC"
   },
   "outputs": [
    {
     "name": "stdout",
     "output_type": "stream",
     "text": [
      "[[        nan         nan         nan         nan]\n",
      " [22.78782051 26.23386622 23.42546296 22.20635593]\n",
      " [19.55311005 23.1413004  21.31730382 22.00130797]\n",
      " [18.5985782  21.25046296 20.73191489 21.28025404]\n",
      " [17.50878443 20.54657534 18.44330097 20.93047509]\n",
      " [17.11588292 19.62976744 20.04519231 19.47571266]\n",
      " [16.26354016 19.19269091 18.18271845 19.13050058]\n",
      " [16.5063678  19.54401343 17.90649895 19.40183599]\n",
      " [16.54367367 19.49985262 18.64990138 19.9056582 ]\n",
      " [16.42944874 18.71909091 18.48420039 19.96773823]\n",
      " [16.3509172  18.84194383 17.37955466 19.04267292]\n",
      " [15.67025692 17.86477024 17.79307536 18.05567503]\n",
      " [15.42097561 17.65548221 18.17489879 18.43309942]\n",
      " [15.62667004 17.56846442 17.77958333 18.53759124]\n",
      " [15.04451158 17.34127225 17.89       19.03837772]\n",
      " [14.62306153 17.24731581 17.10698152 18.69892857]\n",
      " [14.76268509 17.07942478 17.37657841 18.51627358]\n",
      " [15.28078292 17.74831758 16.91670282 18.7361754 ]\n",
      " [14.41847328 17.80091778 16.5691974  17.84822785]\n",
      " [14.13104693 17.2411922  16.41371308 18.20625   ]\n",
      " [14.2734048  17.20049828 16.73397436 17.56595745]\n",
      " [13.93125    16.89864814 16.25484536 17.76228501]\n",
      " [13.26297217 16.54805243 15.72116183 17.51293413]\n",
      " [12.78216715 15.42497278 15.74979675 17.84355231]\n",
      " [11.69028686 14.21905286 13.97610063 16.72725031]\n",
      " [10.16680203 12.84080242 14.08017058 14.80394089]\n",
      " [ 9.4        11.9663626  12.57023555 13.68920596]\n",
      " [ 9.07559958 11.73743709 11.90580645 13.68056931]\n",
      " [ 8.5621164  11.26269185 11.31328976 13.32535032]]\n"
     ]
    },
    {
     "data": {
      "text/plain": [
       "29"
      ]
     },
     "execution_count": 79,
     "metadata": {},
     "output_type": "execute_result"
    }
   ],
   "source": [
    "# 27 waves total (2-28)\n",
    "\n",
    "nWaves =  29 # NEED TO MANUALLY UPDATE PER WAVE \n",
    "\n",
    "# define wave range and group values\n",
    "xWave = range(1,nWaves+1) \n",
    "yGroup = ['wm','ww','nm','nw'] \n",
    "\n",
    "# create empty matrices to store wave and group values\n",
    "priskDie =np.zeros((nWaves,4))\n",
    "\n",
    "# calculate group means and append to empty matrices\n",
    "for i in xWave: \n",
    " for j in range(4): \n",
    "    meanDie = df.loc[(df['wave'] == i) & (df['group'] == yGroup[j]), 'prisk_die'].mean()\n",
    "    priskDie[i-1,j] = meanDie\n",
    "\n",
    "for i in range(1, nWaves+1):\n",
    "  for j in range(len(yGroup)):\n",
    "    meanDie = df.loc[(df['wave'] == i) & (df['group'] == yGroup[j]), 'prisk_die'].mean()\n",
    "    priskDie[i-1, j] = meanDie\n",
    "\n",
    "print(priskDie)\n",
    "len(priskDie)"
   ]
  },
  {
   "cell_type": "code",
   "execution_count": 80,
   "metadata": {
    "id": "MIGwlO72GJx5"
   },
   "outputs": [
    {
     "data": {
      "text/plain": [
       "range(0, 29)"
      ]
     },
     "execution_count": 80,
     "metadata": {},
     "output_type": "execute_result"
    }
   ],
   "source": [
    "# check wave range\n",
    "range(nWaves)"
   ]
  },
  {
   "cell_type": "code",
   "execution_count": 81,
   "metadata": {
    "id": "Yxx1R94hK1F5"
   },
   "outputs": [],
   "source": [
    "# labeling plot\n",
    "\n",
    "wave_times = ['2020',\n",
    "'Apr 1 - Apr 28',\n",
    "'Apr 15 – May 13',\n",
    "'Apr 29 – May 26',\n",
    "'May 13 - June 9',\n",
    "'May 27 - June 23',\n",
    "'June 10 - Jul 8',\n",
    "'June 24 - Jul 22',\n",
    "'July 8 - Aug 5',\n",
    "'July 22 - Aug 19',\n",
    "'Aug 5 - Sep 2',\n",
    "'Aug 19 - Sep 16',\n",
    "'Sep 2 - Sep 30',\n",
    "'Sep 16 - Oct 14',\n",
    "'Sep 30 - Oct 27',\n",
    "'Oct 14 - Nov 11',\n",
    "'Oct 28 - Nov 25',\n",
    "'Nov 11 - Dec 9',\n",
    "'Nov 25 - Dec 23',\n",
    "'Dec 9 - Jan 6',\n",
    "'Dec 23 - Jan 20',\n",
    "'Jan 6 - Feb 3',\n",
    "'Jan 20 - Feb 17',\n",
    "'Feb 2  - Mar 3', \n",
    "'Feb 17 - Mar 30',\n",
    "'Mar 17 - Apr 27',\n",
    "'Apr 14 - May 25',\n",
    "'May 12 - Jun 22',\n",
    "'Jun 9 - Jul 21',\n",
    "'2021']"
   ]
  },
  {
   "cell_type": "code",
   "execution_count": 82,
   "metadata": {},
   "outputs": [],
   "source": [
    "# create function for ticks\n",
    "def format_fn(tick_val, tick_pos):\n",
    "    if int(tick_val) in range(nWaves+1):\n",
    "        return wave_times[int(tick_val)]\n",
    "    else:\n",
    "        return ''"
   ]
  },
  {
   "cell_type": "markdown",
   "metadata": {
    "id": "T5ozDP0CMS-W"
   },
   "source": [
    "## **Perceived risk of COVID-19 death**"
   ]
  },
  {
   "cell_type": "code",
   "execution_count": 83,
   "metadata": {
    "id": "wE-0QhpjPKi3"
   },
   "outputs": [
    {
     "data": {
      "image/png": "[encoded data removed]",
      "text/plain": [
       "<Figure size 1440x864 with 1 Axes>"
      ]
     },
     "metadata": {
      "needs_background": "light"
     },
     "output_type": "display_data"
    }
   ],
   "source": [
    "# plot mean perceived risk of COVID-19 mortality over time\n",
    "\n",
    "ax = plt.subplot(111)\n",
    "ax.xaxis.set_major_formatter(FuncFormatter(format_fn))\n",
    "ax.xaxis.set_major_locator(MaxNLocator(integer=True))\n",
    "ax.set_xlim((0, 29))\n",
    "\n",
    "loc = plticker.MultipleLocator(base=1.0) # enforces regular intervals on the x-axis\n",
    "ax.xaxis.set_major_locator(loc)\n",
    "\n",
    "ax.plot(priskDie[:,0],color='blue')\n",
    "ax.plot(priskDie[:,1],color='red')\n",
    "ax.plot(priskDie[:,2],color='green')\n",
    "ax.plot(priskDie[:,3],color='orange')\n",
    "\n",
    "barBlue = mpatches.Patch(color='blue', label='White Men')\n",
    "barRed = mpatches.Patch(color='red', label='White Women')\n",
    "barGreen = mpatches.Patch(color='green', label='Non-White Men')\n",
    "barOrange = mpatches.Patch(color='orange', label='Non-White Women')\n",
    "\n",
    "plt.legend(handles=[barBlue, barRed, barGreen, barOrange],loc='upper right')\n",
    "plt.ylabel('Percevied Risk of Dying from Covid')\n",
    "plt.xticks(rotation=90) # tilt x-axis labels\n",
    "\n",
    "for i in range(nWaves):\n",
    "  plt.axvline(x=i,color='red',alpha=0.05,linewidth=0.7)\n",
    "  plt.plot()\n",
    "\n",
    "# make errorbars for wm\n",
    "for wave in range(df_stats_wm.shape[0]):\n",
    "  m_wm= df_stats_wm[wave,0]\n",
    "  sem_wm = df_stats_wm[wave,2]\n",
    "  errorbar_sem_wm = (m_wm-sem_wm/2,m_wm+sem_wm/2)\n",
    "  plt.vlines(wave+1,errorbar_sem_wm[0],errorbar_sem_wm[1],color='blue')\n",
    "# make errorbars for nm\n",
    "for wave in range(df_stats_nm.shape[0]):\n",
    "  m_nm= df_stats_nm[wave,0]\n",
    "  sem_nm = df_stats_nm[wave,2]\n",
    "  errorbar_sem_nm = (m_nm-sem_nm/2,m_nm+sem_nm/2)\n",
    "  plt.vlines(wave+1,errorbar_sem_nm[0],errorbar_sem_nm[1],color='green')\n",
    "# make errorbars for ww\n",
    "for wave in range(df_stats_ww.shape[0]):\n",
    "  m_ww= df_stats_ww[wave,0]\n",
    "  sem_ww = df_stats_ww[wave,2]\n",
    "  errorbar_sem_ww = (m_ww-sem_ww/2,m_ww+sem_ww/2)\n",
    "  plt.vlines(wave+1,errorbar_sem_ww[0],errorbar_sem_ww[1],color='red')\n",
    "# make errorbars for nw\n",
    "for wave in range(df_stats_nw.shape[0]):\n",
    "  m_nw= df_stats_nw[wave,0]\n",
    "  sem_nw = df_stats_nw[wave,2]\n",
    "  errorbar_sem_nw = (m_nw-sem_nw/2,m_nw+sem_nw/2)\n",
    "  plt.vlines(wave+1,errorbar_sem_nw[0],errorbar_sem_nw[1],color='orange')\n",
    "\n",
    "plt.rcParams['font.family'] = 'serif'\n",
    "plt.rcParams.update({'font.size':12})\n",
    "plt.rcParams['figure.figsize'] = [20 , 12] # specify figure size\n",
    "\n",
    "plt.savefig('plot_errorbars_sem.png',orientation = 'landscape',facecolor='w',dpi=200)\n",
    "plt.show();\n",
    "\n"
   ]
  },
  {
   "cell_type": "markdown",
   "metadata": {
    "id": "unP81h-kKSXZ"
   },
   "source": [
    "# **Exporting scored data**\n",
    "- Analyze data in R."
   ]
  },
  {
   "cell_type": "markdown",
   "metadata": {
    "id": "UajzROO7HHUk"
   },
   "source": [
    "## **Full data**"
   ]
  },
  {
   "cell_type": "code",
   "execution_count": 86,
   "metadata": {
    "id": "yD-Y59M5xhxk"
   },
   "outputs": [],
   "source": [
    "df.to_csv('uas_cleaned_full.csv') # export processed dataset as a csv file"
   ]
  },
  {
   "cell_type": "markdown",
   "metadata": {
    "id": "0bgYZytrHJTm"
   },
   "source": [
    "## **Subset data to include participants who responded to more than 1 wave**"
   ]
  },
  {
   "cell_type": "code",
   "execution_count": 84,
   "metadata": {
    "id": "FrutbLBKN8uI"
   },
   "outputs": [],
   "source": [
    "# include only those who responded to more than 1 wave\n",
    "df_morethan1 = df[df.groupby('uasid').uasid.transform(len) > 1]"
   ]
  },
  {
   "cell_type": "code",
   "execution_count": 85,
   "metadata": {},
   "outputs": [
    {
     "name": "stdout",
     "output_type": "stream",
     "text": [
      "ww    3640\n",
      "wm    2646\n",
      "nw    1204\n",
      "nm     679\n",
      "Name: group, dtype: int64\n"
     ]
    },
    {
     "name": "stderr",
     "output_type": "stream",
     "text": [
      "<ipython-input-85-77fad0e8106b>:2: SettingWithCopyWarning: \n",
      "A value is trying to be set on a copy of a slice from a DataFrame.\n",
      "Try using .loc[row_indexer,col_indexer] = value instead\n",
      "\n",
      "See the caveats in the documentation: https://pandas.pydata.org/pandas-docs/stable/user_guide/indexing.html#returning-a-view-versus-a-copy\n",
      "  df_morethan1['boolean'] = df_morethan1['uasid'] .duplicated() # create new column \"boolean\" with T/F values based on the duplication of uasid\n"
     ]
    }
   ],
   "source": [
    "# count sample size by group\n",
    "df_morethan1['boolean'] = df_morethan1['uasid'] .duplicated() # create new column \"boolean\" with T/F values based on the duplication of uasid\n",
    "print(df_morethan1.loc[df_morethan1['boolean'] == False,'group'].value_counts()) # count rows with F values by group"
   ]
  },
  {
   "cell_type": "code",
   "execution_count": 87,
   "metadata": {},
   "outputs": [
    {
     "data": {
      "text/plain": [
       "8169"
      ]
     },
     "execution_count": 87,
     "metadata": {},
     "output_type": "execute_result"
    }
   ],
   "source": [
    "# count N of participants who responded to more than 1 wave\n",
    "df_morethan1['uasid'].nunique()"
   ]
  },
  {
   "cell_type": "code",
   "execution_count": 88,
   "metadata": {
    "id": "e2_re__0I5RK"
   },
   "outputs": [],
   "source": [
    "# export to csv\n",
    "df_morethan1.to_csv('uas_morethan1wave.csv')"
   ]
  },
  {
   "cell_type": "markdown",
   "metadata": {
    "id": "BPOGWMaLo6oI"
   },
   "source": [
    "## **Subset data to include participants who only responded to 1 wave**"
   ]
  },
  {
   "cell_type": "code",
   "execution_count": 89,
   "metadata": {
    "id": "nFwHBoifJJZ-"
   },
   "outputs": [],
   "source": [
    "# include those who responded to 1 wave only\n",
    "df_only1 = df[df.groupby('uasid').uasid.transform(len) == 1]"
   ]
  },
  {
   "cell_type": "code",
   "execution_count": 90,
   "metadata": {},
   "outputs": [
    {
     "name": "stdout",
     "output_type": "stream",
     "text": [
      "ww    69\n",
      "wm    59\n",
      "nw    28\n",
      "nm    14\n",
      "Name: group, dtype: int64\n"
     ]
    },
    {
     "name": "stderr",
     "output_type": "stream",
     "text": [
      "<ipython-input-90-d5ee5c4fdaf5>:2: SettingWithCopyWarning: \n",
      "A value is trying to be set on a copy of a slice from a DataFrame.\n",
      "Try using .loc[row_indexer,col_indexer] = value instead\n",
      "\n",
      "See the caveats in the documentation: https://pandas.pydata.org/pandas-docs/stable/user_guide/indexing.html#returning-a-view-versus-a-copy\n",
      "  df_only1['boolean'] = df_only1['uasid'] .duplicated() # create new column \"boolean\" with T/F values based on the duplication of uasid\n"
     ]
    }
   ],
   "source": [
    "# count sample size by group\n",
    "df_only1['boolean'] = df_only1['uasid'] .duplicated() # create new column \"boolean\" with T/F values based on the duplication of uasid\n",
    "print(df_only1.loc[df_only1['boolean'] == False,'group'].value_counts()) # count rows with F values by group"
   ]
  },
  {
   "cell_type": "code",
   "execution_count": 91,
   "metadata": {},
   "outputs": [
    {
     "data": {
      "text/plain": [
       "170"
      ]
     },
     "execution_count": 91,
     "metadata": {},
     "output_type": "execute_result"
    }
   ],
   "source": [
    "# count N of participants who responded to more than 1 wave\n",
    "df_only1['uasid'].nunique()"
   ]
  },
  {
   "cell_type": "code",
   "execution_count": 92,
   "metadata": {
    "id": "VVzePT14puXP"
   },
   "outputs": [],
   "source": [
    "# export to csv\n",
    "df_only1.to_csv('uas_only1wave.csv')"
   ]
  },
  {
   "cell_type": "code",
   "execution_count": 93,
   "metadata": {},
   "outputs": [
    {
     "name": "stdout",
     "output_type": "stream",
     "text": [
      "There are a total of 8339 individuals who responded to at least one wave. Out of these individuals, 8169 individuals responded to more than one wave, and 170 individuals responded to only one wave.\n"
     ]
    }
   ],
   "source": [
    "print('There are a total of {0} individuals who responded to at least one wave. Out of these individuals, {1} individuals responded to more than one wave, and {2} individuals responded to only one wave.'.format(df['uasid'].nunique(), df_morethan1['uasid'].nunique(), df_only1['uasid'].nunique()))"
   ]
  },
  {
   "cell_type": "code",
   "execution_count": null,
   "metadata": {},
   "outputs": [],
   "source": []
  }
 ],
 "metadata": {
  "accelerator": "TPU",
  "colab": {
   "collapsed_sections": [
    "ODQSifP3uSyL",
    "4L-RF01HKLLB",
    "-eJO-dmKKPLL",
    "unP81h-kKSXZ"
   ],
   "name": "WME_UAS.ipynb",
   "provenance": []
  },
  "interpreter": {
   "hash": "dbffd3da50072d240184173603efd71d1ffcbb4a4cc6b0902d124625d1e27aad"
  },
  "kernelspec": {
   "display_name": "Python 3.8.8 64-bit ('base': conda)",
   "name": "python3"
  },
  "language_info": {
   "codemirror_mode": {
    "name": "ipython",
    "version": 3
   },
   "file_extension": ".py",
   "mimetype": "text/x-python",
   "name": "python",
   "nbconvert_exporter": "python",
   "pygments_lexer": "ipython3",
   "version": "3.8.8"
  }
 },
 "nbformat": 4,
 "nbformat_minor": 1
}
