{
 "cells": [
  {
   "cell_type": "markdown",
   "metadata": {
    "id": "ODQSifP3uSyL"
   },
   "source": [
    "# **White Male Effect - Understanding America Study**\n",
    "## Ekim Luo\n",
    "*Last Updated: July 16, 2021*"
   ]
  },
  {
   "cell_type": "markdown",
   "metadata": {},
   "source": [
    "# **Data**\n",
    "- [Understanding America Study](https://uasdata.usc.edu/index.php) COVID-19 National Survey Data, Center for Economic and Social Research, University of Southern California\n",
    "    - Original data: March 10, 2020 - June 22, 2021 (28 waves)\n",
    "    - My data: April 1, 2020 - June 22, 2021 (27 waves)"
   ]
  },
  {
   "cell_type": "markdown",
   "metadata": {
    "id": "Hv3oK3Cv9psm"
   },
   "source": [
    "# **Setting up**"
   ]
  },
  {
   "cell_type": "code",
   "execution_count": 1,
   "metadata": {
    "colab": {
     "base_uri": "https://localhost:8080/",
     "height": 35
    },
    "id": "rsY_8pQl1Xzy",
    "outputId": "d1509c6b-8c78-4558-8ca9-7d8c1d4ce351"
   },
   "outputs": [
    {
     "data": {
      "text/plain": [
       "'3.8.10 (default, Jun  4 2021, 15:09:15) \\n[GCC 7.5.0]'"
      ]
     },
     "execution_count": 1,
     "metadata": {},
     "output_type": "execute_result"
    }
   ],
   "source": [
    "# version check\n",
    "import sys\n",
    "sys.version"
   ]
  },
  {
   "cell_type": "code",
   "execution_count": 2,
   "metadata": {
    "id": "g_Zf8aymvvpo"
   },
   "outputs": [],
   "source": [
    "# import packages.\n",
    "import pandas as pd\n",
    "import numpy as np \n",
    "import matplotlib.pyplot as plt # graphing\n",
    "import matplotlib.patches as mpatches \n",
    "from matplotlib.ticker import FuncFormatter, MaxNLocator\n",
    "from matplotlib.lines import Line2D\n",
    "import matplotlib.ticker as plticker # force display all x-axis labels \n",
    "import seaborn as sns # set context "
   ]
  },
  {
   "cell_type": "code",
   "execution_count": 3,
   "metadata": {
    "colab": {
     "base_uri": "https://localhost:8080/"
    },
    "id": "2JfQA6RKYYbS",
    "outputId": "1a3db291-89f1-42a5-cce9-cc4d01af29fb"
   },
   "outputs": [],
   "source": [
    "# import uas data\n",
    "df = pd.read_csv('uas.csv', low_memory = False)"
   ]
  },
  {
   "cell_type": "code",
   "execution_count": 4,
   "metadata": {
    "colab": {
     "base_uri": "https://localhost:8080/",
     "height": 335
    },
    "id": "ArDnjdDxT9pT",
    "outputId": "8dd37f6b-a302-4442-cc45-7de2aa90930b"
   },
   "outputs": [
    {
     "data": {
      "text/html": [
       "<div>\n",
       "<style scoped>\n",
       "    .dataframe tbody tr th:only-of-type {\n",
       "        vertical-align: middle;\n",
       "    }\n",
       "\n",
       "    .dataframe tbody tr th {\n",
       "        vertical-align: top;\n",
       "    }\n",
       "\n",
       "    .dataframe thead th {\n",
       "        text-align: right;\n",
       "    }\n",
       "</style>\n",
       "<table border=\"1\" class=\"dataframe\">\n",
       "  <thead>\n",
       "    <tr style=\"text-align: right;\">\n",
       "      <th></th>\n",
       "      <th>uasid</th>\n",
       "      <th>uashhid</th>\n",
       "      <th>survhhid</th>\n",
       "      <th>wave</th>\n",
       "      <th>survey_source</th>\n",
       "      <th>uasmembers</th>\n",
       "      <th>final_weight</th>\n",
       "      <th>sampletype</th>\n",
       "      <th>primary_respondent</th>\n",
       "      <th>hardware</th>\n",
       "      <th>...</th>\n",
       "      <th>vc004d</th>\n",
       "      <th>vc005_randomizer</th>\n",
       "      <th>vc005a</th>\n",
       "      <th>vc005b</th>\n",
       "      <th>vc005c</th>\n",
       "      <th>vd001</th>\n",
       "      <th>vd002</th>\n",
       "      <th>vd003</th>\n",
       "      <th>vd004</th>\n",
       "      <th>cs_001</th>\n",
       "    </tr>\n",
       "  </thead>\n",
       "  <tbody>\n",
       "    <tr>\n",
       "      <th>173818</th>\n",
       "      <td>210400002</td>\n",
       "      <td>190402019</td>\n",
       "      <td>763508828</td>\n",
       "      <td>28</td>\n",
       "      <td>346</td>\n",
       "      <td>1</td>\n",
       "      <td>0.092922</td>\n",
       "      <td>3</td>\n",
       "      <td>0</td>\n",
       "      <td>0</td>\n",
       "      <td>...</td>\n",
       "      <td>NaN</td>\n",
       "      <td>NaN</td>\n",
       "      <td>NaN</td>\n",
       "      <td>NaN</td>\n",
       "      <td>NaN</td>\n",
       "      <td>NaN</td>\n",
       "      <td>NaN</td>\n",
       "      <td>NaN</td>\n",
       "      <td>NaN</td>\n",
       "      <td>1.0</td>\n",
       "    </tr>\n",
       "    <tr>\n",
       "      <th>173819</th>\n",
       "      <td>210400011</td>\n",
       "      <td>180203969</td>\n",
       "      <td>124007544921</td>\n",
       "      <td>28</td>\n",
       "      <td>346</td>\n",
       "      <td>3</td>\n",
       "      <td>1.708786</td>\n",
       "      <td>4</td>\n",
       "      <td>0</td>\n",
       "      <td>0</td>\n",
       "      <td>...</td>\n",
       "      <td>NaN</td>\n",
       "      <td>NaN</td>\n",
       "      <td>NaN</td>\n",
       "      <td>NaN</td>\n",
       "      <td>NaN</td>\n",
       "      <td>NaN</td>\n",
       "      <td>NaN</td>\n",
       "      <td>NaN</td>\n",
       "      <td>NaN</td>\n",
       "      <td>1.0</td>\n",
       "    </tr>\n",
       "    <tr>\n",
       "      <th>173820</th>\n",
       "      <td>210400013</td>\n",
       "      <td>190500388</td>\n",
       "      <td>52804055788890</td>\n",
       "      <td>28</td>\n",
       "      <td>346</td>\n",
       "      <td>4</td>\n",
       "      <td>0.441035</td>\n",
       "      <td>3</td>\n",
       "      <td>0</td>\n",
       "      <td>0</td>\n",
       "      <td>...</td>\n",
       "      <td>NaN</td>\n",
       "      <td>NaN</td>\n",
       "      <td>NaN</td>\n",
       "      <td>NaN</td>\n",
       "      <td>NaN</td>\n",
       "      <td>NaN</td>\n",
       "      <td>NaN</td>\n",
       "      <td>NaN</td>\n",
       "      <td>NaN</td>\n",
       "      <td>3.0</td>\n",
       "    </tr>\n",
       "    <tr>\n",
       "      <th>173821</th>\n",
       "      <td>210400014</td>\n",
       "      <td>190500388</td>\n",
       "      <td>52804055788890</td>\n",
       "      <td>28</td>\n",
       "      <td>346</td>\n",
       "      <td>4</td>\n",
       "      <td>0.488973</td>\n",
       "      <td>3</td>\n",
       "      <td>0</td>\n",
       "      <td>0</td>\n",
       "      <td>...</td>\n",
       "      <td>NaN</td>\n",
       "      <td>NaN</td>\n",
       "      <td>NaN</td>\n",
       "      <td>NaN</td>\n",
       "      <td>NaN</td>\n",
       "      <td>NaN</td>\n",
       "      <td>NaN</td>\n",
       "      <td>NaN</td>\n",
       "      <td>NaN</td>\n",
       "      <td>3.0</td>\n",
       "    </tr>\n",
       "    <tr>\n",
       "      <th>173822</th>\n",
       "      <td>210400019</td>\n",
       "      <td>180811653</td>\n",
       "      <td>727407592</td>\n",
       "      <td>28</td>\n",
       "      <td>346</td>\n",
       "      <td>1</td>\n",
       "      <td>0.520056</td>\n",
       "      <td>1</td>\n",
       "      <td>0</td>\n",
       "      <td>0</td>\n",
       "      <td>...</td>\n",
       "      <td>NaN</td>\n",
       "      <td>NaN</td>\n",
       "      <td>NaN</td>\n",
       "      <td>NaN</td>\n",
       "      <td>NaN</td>\n",
       "      <td>NaN</td>\n",
       "      <td>NaN</td>\n",
       "      <td>NaN</td>\n",
       "      <td>NaN</td>\n",
       "      <td>2.0</td>\n",
       "    </tr>\n",
       "  </tbody>\n",
       "</table>\n",
       "<p>5 rows × 3710 columns</p>\n",
       "</div>"
      ],
      "text/plain": [
       "            uasid    uashhid        survhhid  wave  survey_source  uasmembers  \\\n",
       "173818  210400002  190402019       763508828    28            346           1   \n",
       "173819  210400011  180203969    124007544921    28            346           3   \n",
       "173820  210400013  190500388  52804055788890    28            346           4   \n",
       "173821  210400014  190500388  52804055788890    28            346           4   \n",
       "173822  210400019  180811653       727407592    28            346           1   \n",
       "\n",
       "        final_weight  sampletype  primary_respondent  hardware  ...  vc004d  \\\n",
       "173818      0.092922           3                   0         0  ...     NaN   \n",
       "173819      1.708786           4                   0         0  ...     NaN   \n",
       "173820      0.441035           3                   0         0  ...     NaN   \n",
       "173821      0.488973           3                   0         0  ...     NaN   \n",
       "173822      0.520056           1                   0         0  ...     NaN   \n",
       "\n",
       "       vc005_randomizer  vc005a  vc005b  vc005c  vd001  vd002  vd003 vd004  \\\n",
       "173818              NaN     NaN     NaN     NaN    NaN    NaN    NaN   NaN   \n",
       "173819              NaN     NaN     NaN     NaN    NaN    NaN    NaN   NaN   \n",
       "173820              NaN     NaN     NaN     NaN    NaN    NaN    NaN   NaN   \n",
       "173821              NaN     NaN     NaN     NaN    NaN    NaN    NaN   NaN   \n",
       "173822              NaN     NaN     NaN     NaN    NaN    NaN    NaN   NaN   \n",
       "\n",
       "        cs_001  \n",
       "173818     1.0  \n",
       "173819     1.0  \n",
       "173820     3.0  \n",
       "173821     3.0  \n",
       "173822     2.0  \n",
       "\n",
       "[5 rows x 3710 columns]"
      ]
     },
     "execution_count": 4,
     "metadata": {},
     "output_type": "execute_result"
    }
   ],
   "source": [
    "# preview dataset\n",
    "df.tail()"
   ]
  },
  {
   "cell_type": "markdown",
   "metadata": {
    "id": "3N0KH2cQJ9dG"
   },
   "source": [
    "# **Cleaning data**"
   ]
  },
  {
   "cell_type": "code",
   "execution_count": 5,
   "metadata": {
    "colab": {
     "base_uri": "https://localhost:8080/"
    },
    "id": "J_BELz5GZWtk",
    "outputId": "0abdbf30-97b9-4142-fef2-cad8b308bc3b"
   },
   "outputs": [
    {
     "data": {
      "text/plain": [
       "8581"
      ]
     },
     "execution_count": 5,
     "metadata": {},
     "output_type": "execute_result"
    }
   ],
   "source": [
    "# count the total n of unique individuals before cleaning\n",
    "len(df['uasid'].unique())"
   ]
  },
  {
   "cell_type": "code",
   "execution_count": 6,
   "metadata": {
    "id": "xp1fUM-iNHIN"
   },
   "outputs": [],
   "source": [
    "# only include participants that answered \"no\" to having been diagnosed with covid.\n",
    "df = df[df['covid_diagnosed'] == 2] "
   ]
  },
  {
   "cell_type": "code",
   "execution_count": 7,
   "metadata": {
    "id": "aQ0DGG1Vfy1B"
   },
   "outputs": [],
   "source": [
    "# exclude pilot wave 1\n",
    "df = df[df['wave'] != 1] \n",
    "# df.drop(df.index[df['wave'] == 1], inplace=True) # alternatively"
   ]
  },
  {
   "cell_type": "markdown",
   "metadata": {
    "id": "StUl-GcaKEVT"
   },
   "source": [
    "# **Scoring data**"
   ]
  },
  {
   "cell_type": "markdown",
   "metadata": {
    "id": "bOq7Bry9S2YN"
   },
   "source": [
    "## **group column**\n",
    "- White men, White women, non-White men, non-White women"
   ]
  },
  {
   "cell_type": "code",
   "execution_count": 8,
   "metadata": {
    "id": "NiCqbJXswsmw"
   },
   "outputs": [],
   "source": [
    "group = [] # create empty list for appending group values \n",
    "\n",
    "for i in df[['gender', 'race']].values.tolist(): # loop through the gender and race columns and append group values\n",
    "    if i[0] == 1 and i[1] == 1: # white male\n",
    "        group.append('wm') # append value to list \n",
    "    elif i[0] == 1 and i[1] != 1: # non-white male\n",
    "        group.append('nm')\n",
    "    elif i[0] == 0 and i[1] == 1: # white female\n",
    "        group.append('ww')\n",
    "    elif i[0] == 0 and i[1] != 1: # non-white female\n",
    "        group.append('nw')\n",
    "    else:\n",
    "        group.append('NaN') # if the gender or race cells are empty, write in \"NaN\"\n",
    "\n",
    "df['group'] = group # append list as a column named group"
   ]
  },
  {
   "cell_type": "code",
   "execution_count": 9,
   "metadata": {
    "id": "SaAY_XPnwQAA"
   },
   "outputs": [],
   "source": [
    "df = df.loc[df['group'] != 'NaN'] # eliminate 1 row with a missing gender input (wave 2)"
   ]
  },
  {
   "cell_type": "markdown",
   "metadata": {
    "id": "wW6466xvSx_1"
   },
   "source": [
    "## **group2 column**\n",
    "- White men (1) v. others (0)"
   ]
  },
  {
   "cell_type": "code",
   "execution_count": 10,
   "metadata": {
    "id": "BeRwWKbp8Tj9"
   },
   "outputs": [],
   "source": [
    "df['group2'] = 0 # others\n",
    "df.loc[lambda df: df['group'] == 'wm',['group2']] = 1 # wm"
   ]
  },
  {
   "cell_type": "markdown",
   "metadata": {
    "id": "us4x00s9ngvQ"
   },
   "source": [
    "## **race2 column**\n",
    "- White (1) v. non-White (0)"
   ]
  },
  {
   "cell_type": "code",
   "execution_count": 11,
   "metadata": {
    "id": "LHi3sQFRnqkM"
   },
   "outputs": [],
   "source": [
    "df['race2'] = 0 # others\n",
    "df.loc[lambda df: df['race'] == 1,['race2']] = 1 # white"
   ]
  },
  {
   "cell_type": "markdown",
   "metadata": {
    "id": "4L-RF01HKLLB"
   },
   "source": [
    "# **Describing data**"
   ]
  },
  {
   "cell_type": "code",
   "execution_count": 12,
   "metadata": {
    "id": "lwJiuPbr2r6O"
   },
   "outputs": [
    {
     "data": {
      "text/plain": [
       "8296"
      ]
     },
     "execution_count": 12,
     "metadata": {},
     "output_type": "execute_result"
    }
   ],
   "source": [
    "# sample size\n",
    "# count the total n of unique individuals after cleaning\n",
    "df['uasid'].nunique()"
   ]
  },
  {
   "cell_type": "code",
   "execution_count": 13,
   "metadata": {
    "id": "kSMQ4N3F17BK"
   },
   "outputs": [
    {
     "data": {
      "text/plain": [
       "2     0.651037\n",
       "3     0.747589\n",
       "4     0.762657\n",
       "5     0.761210\n",
       "6     0.761451\n",
       "7     0.753134\n",
       "8     0.720468\n",
       "9     0.743491\n",
       "10    0.754701\n",
       "11    0.737705\n",
       "12    0.742044\n",
       "13    0.744335\n",
       "14    0.724807\n",
       "15    0.722035\n",
       "16    0.732401\n",
       "17    0.738790\n",
       "18    0.716369\n",
       "19    0.710704\n",
       "20    0.712150\n",
       "21    0.709740\n",
       "22    0.723481\n",
       "23    0.730352\n",
       "24    0.748071\n",
       "25    0.731316\n",
       "26    0.718539\n",
       "27    0.715887\n",
       "28    0.706485\n",
       "Name: wave, dtype: float64"
      ]
     },
     "execution_count": 13,
     "metadata": {},
     "output_type": "execute_result"
    }
   ],
   "source": [
    "# attrition\n",
    "# N indiviuals per wave divided by N sample size\n",
    "df['wave'].value_counts(sort = False)/len(df['uasid'].unique())"
   ]
  },
  {
   "cell_type": "code",
   "execution_count": 14,
   "metadata": {
    "id": "_fI7p1cVyHBo"
   },
   "outputs": [
    {
     "name": "stdout",
     "output_type": "stream",
     "text": [
      "ww    3688\n",
      "wm    2692\n",
      "nw    1224\n",
      "nm     692\n",
      "Name: group, dtype: int64\n"
     ]
    }
   ],
   "source": [
    "# count unique individuals by group\n",
    "df['boolean'] = df['uasid'] .duplicated() # create new column \"boolean\" with T/F values based on the duplication of uasid\n",
    "print(df.loc[df['boolean'] == False,'group'].value_counts()) # count rows with F values by group"
   ]
  },
  {
   "cell_type": "markdown",
   "metadata": {},
   "source": [
    "### **Summary statistics**\n",
    "- age (`age`)\n",
    "- household income (`hhincome`)\n",
    "- education (`education`)\n",
    "- hospitalized how many family or close friends (`cr022a`)\n",
    "- died how many family or close friends (`cr022b`)\n",
    "- N days in the past seven worked from home (`jobs_dayswfh`)\n",
    "- household size (`hhmembernumber`)"
   ]
  },
  {
   "cell_type": "markdown",
   "metadata": {},
   "source": [
    "First, extract unique individuals from the DataFrame, then calculate summary statistics based on unique individuals. Do this by creating a separate DataFrame that contains the first instance of each unique individual using `drop_duplicates()`."
   ]
  },
  {
   "cell_type": "code",
   "execution_count": 15,
   "metadata": {},
   "outputs": [],
   "source": [
    "# create a copy of df\n",
    "df_unique = df.copy()"
   ]
  },
  {
   "cell_type": "code",
   "execution_count": 16,
   "metadata": {},
   "outputs": [
    {
     "name": "stdout",
     "output_type": "stream",
     "text": [
      "There are a total of 8296 unique individuals in the new DataFrame.\n"
     ]
    }
   ],
   "source": [
    "# drop duplicates\n",
    "df_unique.drop_duplicates(subset = 'uasid', inplace = True)\n",
    "print('There are a total of {0} unique individuals in the new DataFrame.'.format(df_unique.shape[0]))"
   ]
  },
  {
   "cell_type": "code",
   "execution_count": 17,
   "metadata": {},
   "outputs": [
    {
     "data": {
      "text/html": [
       "<div>\n",
       "<style scoped>\n",
       "    .dataframe tbody tr th:only-of-type {\n",
       "        vertical-align: middle;\n",
       "    }\n",
       "\n",
       "    .dataframe tbody tr th {\n",
       "        vertical-align: top;\n",
       "    }\n",
       "\n",
       "    .dataframe thead th {\n",
       "        text-align: right;\n",
       "    }\n",
       "</style>\n",
       "<table border=\"1\" class=\"dataframe\">\n",
       "  <thead>\n",
       "    <tr style=\"text-align: right;\">\n",
       "      <th></th>\n",
       "      <th>age</th>\n",
       "      <th>hhincome</th>\n",
       "      <th>education</th>\n",
       "      <th>cr022a</th>\n",
       "      <th>cr022b</th>\n",
       "      <th>jobs_dayswfh</th>\n",
       "      <th>hhmembernumber</th>\n",
       "    </tr>\n",
       "  </thead>\n",
       "  <tbody>\n",
       "    <tr>\n",
       "      <th>6932</th>\n",
       "      <td>36.0</td>\n",
       "      <td>15.0</td>\n",
       "      <td>14.0</td>\n",
       "      <td>NaN</td>\n",
       "      <td>NaN</td>\n",
       "      <td>5.0</td>\n",
       "      <td>3.0</td>\n",
       "    </tr>\n",
       "    <tr>\n",
       "      <th>6933</th>\n",
       "      <td>44.0</td>\n",
       "      <td>15.0</td>\n",
       "      <td>11.0</td>\n",
       "      <td>NaN</td>\n",
       "      <td>NaN</td>\n",
       "      <td>5.0</td>\n",
       "      <td>3.0</td>\n",
       "    </tr>\n",
       "    <tr>\n",
       "      <th>6934</th>\n",
       "      <td>30.0</td>\n",
       "      <td>13.0</td>\n",
       "      <td>9.0</td>\n",
       "      <td>NaN</td>\n",
       "      <td>NaN</td>\n",
       "      <td>0.0</td>\n",
       "      <td>4.0</td>\n",
       "    </tr>\n",
       "    <tr>\n",
       "      <th>6935</th>\n",
       "      <td>70.0</td>\n",
       "      <td>13.0</td>\n",
       "      <td>10.0</td>\n",
       "      <td>NaN</td>\n",
       "      <td>NaN</td>\n",
       "      <td>NaN</td>\n",
       "      <td>1.0</td>\n",
       "    </tr>\n",
       "    <tr>\n",
       "      <th>6936</th>\n",
       "      <td>59.0</td>\n",
       "      <td>12.0</td>\n",
       "      <td>13.0</td>\n",
       "      <td>NaN</td>\n",
       "      <td>NaN</td>\n",
       "      <td>0.0</td>\n",
       "      <td>0.0</td>\n",
       "    </tr>\n",
       "  </tbody>\n",
       "</table>\n",
       "</div>"
      ],
      "text/plain": [
       "       age  hhincome  education  cr022a  cr022b  jobs_dayswfh  hhmembernumber\n",
       "6932  36.0      15.0       14.0     NaN     NaN           5.0             3.0\n",
       "6933  44.0      15.0       11.0     NaN     NaN           5.0             3.0\n",
       "6934  30.0      13.0        9.0     NaN     NaN           0.0             4.0\n",
       "6935  70.0      13.0       10.0     NaN     NaN           NaN             1.0\n",
       "6936  59.0      12.0       13.0     NaN     NaN           0.0             0.0"
      ]
     },
     "execution_count": 17,
     "metadata": {},
     "output_type": "execute_result"
    }
   ],
   "source": [
    "# subset new dataframe to contain only relevant columns\n",
    "cols_to_keep = ['age','hhincome','education','cr022a','cr022b','jobs_dayswfh','hhmembernumber']\n",
    "df_unique = df_unique[cols_to_keep]\n",
    "df_unique.head()"
   ]
  },
  {
   "cell_type": "code",
   "execution_count": 18,
   "metadata": {},
   "outputs": [
    {
     "data": {
      "text/html": [
       "<div>\n",
       "<style scoped>\n",
       "    .dataframe tbody tr th:only-of-type {\n",
       "        vertical-align: middle;\n",
       "    }\n",
       "\n",
       "    .dataframe tbody tr th {\n",
       "        vertical-align: top;\n",
       "    }\n",
       "\n",
       "    .dataframe thead th {\n",
       "        text-align: right;\n",
       "    }\n",
       "</style>\n",
       "<table border=\"1\" class=\"dataframe\">\n",
       "  <thead>\n",
       "    <tr style=\"text-align: right;\">\n",
       "      <th></th>\n",
       "      <th>age</th>\n",
       "      <th>hhincome</th>\n",
       "      <th>education</th>\n",
       "      <th>cr022a</th>\n",
       "      <th>cr022b</th>\n",
       "      <th>jobs_dayswfh</th>\n",
       "      <th>hhmembernumber</th>\n",
       "    </tr>\n",
       "  </thead>\n",
       "  <tbody>\n",
       "    <tr>\n",
       "      <th>count</th>\n",
       "      <td>8288.000000</td>\n",
       "      <td>8275.000000</td>\n",
       "      <td>8294.000000</td>\n",
       "      <td>2652.000000</td>\n",
       "      <td>2649.000000</td>\n",
       "      <td>4314.000000</td>\n",
       "      <td>8022.000000</td>\n",
       "    </tr>\n",
       "    <tr>\n",
       "      <th>mean</th>\n",
       "      <td>49.294402</td>\n",
       "      <td>11.242296</td>\n",
       "      <td>11.311912</td>\n",
       "      <td>0.208899</td>\n",
       "      <td>0.110608</td>\n",
       "      <td>2.477283</td>\n",
       "      <td>1.721640</td>\n",
       "    </tr>\n",
       "    <tr>\n",
       "      <th>std</th>\n",
       "      <td>16.302837</td>\n",
       "      <td>4.174453</td>\n",
       "      <td>2.276129</td>\n",
       "      <td>1.385144</td>\n",
       "      <td>1.512110</td>\n",
       "      <td>2.649485</td>\n",
       "      <td>1.450141</td>\n",
       "    </tr>\n",
       "    <tr>\n",
       "      <th>min</th>\n",
       "      <td>18.000000</td>\n",
       "      <td>1.000000</td>\n",
       "      <td>1.000000</td>\n",
       "      <td>0.000000</td>\n",
       "      <td>0.000000</td>\n",
       "      <td>0.000000</td>\n",
       "      <td>0.000000</td>\n",
       "    </tr>\n",
       "    <tr>\n",
       "      <th>25%</th>\n",
       "      <td>36.000000</td>\n",
       "      <td>9.000000</td>\n",
       "      <td>10.000000</td>\n",
       "      <td>0.000000</td>\n",
       "      <td>0.000000</td>\n",
       "      <td>0.000000</td>\n",
       "      <td>1.000000</td>\n",
       "    </tr>\n",
       "    <tr>\n",
       "      <th>50%</th>\n",
       "      <td>49.000000</td>\n",
       "      <td>13.000000</td>\n",
       "      <td>11.000000</td>\n",
       "      <td>0.000000</td>\n",
       "      <td>0.000000</td>\n",
       "      <td>1.000000</td>\n",
       "      <td>1.000000</td>\n",
       "    </tr>\n",
       "    <tr>\n",
       "      <th>75%</th>\n",
       "      <td>62.000000</td>\n",
       "      <td>15.000000</td>\n",
       "      <td>13.000000</td>\n",
       "      <td>0.000000</td>\n",
       "      <td>0.000000</td>\n",
       "      <td>5.000000</td>\n",
       "      <td>3.000000</td>\n",
       "    </tr>\n",
       "    <tr>\n",
       "      <th>max</th>\n",
       "      <td>110.000000</td>\n",
       "      <td>16.000000</td>\n",
       "      <td>16.000000</td>\n",
       "      <td>50.000000</td>\n",
       "      <td>67.000000</td>\n",
       "      <td>7.000000</td>\n",
       "      <td>11.000000</td>\n",
       "    </tr>\n",
       "  </tbody>\n",
       "</table>\n",
       "</div>"
      ],
      "text/plain": [
       "               age     hhincome    education       cr022a       cr022b  \\\n",
       "count  8288.000000  8275.000000  8294.000000  2652.000000  2649.000000   \n",
       "mean     49.294402    11.242296    11.311912     0.208899     0.110608   \n",
       "std      16.302837     4.174453     2.276129     1.385144     1.512110   \n",
       "min      18.000000     1.000000     1.000000     0.000000     0.000000   \n",
       "25%      36.000000     9.000000    10.000000     0.000000     0.000000   \n",
       "50%      49.000000    13.000000    11.000000     0.000000     0.000000   \n",
       "75%      62.000000    15.000000    13.000000     0.000000     0.000000   \n",
       "max     110.000000    16.000000    16.000000    50.000000    67.000000   \n",
       "\n",
       "       jobs_dayswfh  hhmembernumber  \n",
       "count   4314.000000     8022.000000  \n",
       "mean       2.477283        1.721640  \n",
       "std        2.649485        1.450141  \n",
       "min        0.000000        0.000000  \n",
       "25%        0.000000        1.000000  \n",
       "50%        1.000000        1.000000  \n",
       "75%        5.000000        3.000000  \n",
       "max        7.000000       11.000000  "
      ]
     },
     "execution_count": 18,
     "metadata": {},
     "output_type": "execute_result"
    }
   ],
   "source": [
    "# calculate summary descriptives\n",
    "# note that 50% quantile = median\n",
    "df_unique.describe()"
   ]
  },
  {
   "cell_type": "markdown",
   "metadata": {},
   "source": [
    "### **Calculating mean perceived risk of COVID-19 mortality by group**"
   ]
  },
  {
   "cell_type": "code",
   "execution_count": 19,
   "metadata": {
    "id": "z8VJbv6MeAcF"
   },
   "outputs": [
    {
     "name": "stdout",
     "output_type": "stream",
     "text": [
      "\n",
      "\n",
      "mean group\n",
      "nm    17.346123\n",
      "nw    18.496077\n",
      "wm    15.107234\n",
      "ww    17.811527\n",
      "Name: prisk_die, dtype: float64\n",
      "\n",
      "\n",
      "std group\n",
      "nm    23.905954\n",
      "nw    24.296898\n",
      "wm    23.882919\n",
      "ww    24.503345\n",
      "Name: prisk_die, dtype: float64\n",
      "\n",
      "\n",
      "ssem group\n",
      "nm    0.208732\n",
      "nw    0.162402\n",
      "wm    0.102573\n",
      "ww    0.091031\n",
      "Name: prisk_die, dtype: float64\n"
     ]
    }
   ],
   "source": [
    "# calculate mean and SD of risk perception by group (death)\n",
    "print('\\n\\nmean',df.groupby('group')['prisk_die'].mean())\n",
    "print('\\n\\nstd',df.groupby('group')['prisk_die'].std())\n",
    "print('\\n\\nssem',df.groupby('group')['prisk_die'].sem())"
   ]
  },
  {
   "cell_type": "markdown",
   "metadata": {
    "id": "-eJO-dmKKPLL"
   },
   "source": [
    "# **Plotting risk perceptions over time**\n"
   ]
  },
  {
   "cell_type": "markdown",
   "metadata": {
    "id": "Iq14DOt_yKFO"
   },
   "source": [
    "## **Calculate Group Means for Plotting**"
   ]
  },
  {
   "cell_type": "code",
   "execution_count": 20,
   "metadata": {
    "id": "NDdPZi5LyKgC"
   },
   "outputs": [
    {
     "name": "stdout",
     "output_type": "stream",
     "text": [
      "[[        nan         nan         nan         nan]\n",
      " [22.78782051 26.23386622 23.42546296 22.20635593]\n",
      " [19.55311005 23.1413004  21.31730382 22.00130797]\n",
      " [18.5985782  21.25046296 20.73191489 21.28025404]\n",
      " [17.50878443 20.54657534 18.44330097 20.93047509]\n",
      " [17.11588292 19.62976744 20.04519231 19.47571266]\n",
      " [16.26354016 19.19269091 18.18271845 19.13050058]\n",
      " [16.5063678  19.54401343 17.90649895 19.40183599]\n",
      " [16.54367367 19.49985262 18.64990138 19.9056582 ]\n",
      " [16.42944874 18.71909091 18.48420039 19.96773823]\n",
      " [16.3509172  18.84194383 17.37955466 19.04267292]\n",
      " [15.67025692 17.86477024 17.79307536 18.05567503]\n",
      " [15.42097561 17.65548221 18.17489879 18.43309942]\n",
      " [15.62667004 17.56846442 17.77958333 18.53759124]\n",
      " [15.04451158 17.34127225 17.89       19.03837772]\n",
      " [14.62306153 17.24731581 17.10698152 18.69892857]\n",
      " [14.76268509 17.07942478 17.37657841 18.51627358]\n",
      " [15.28078292 17.74831758 16.91670282 18.7361754 ]\n",
      " [14.41847328 17.80091778 16.5691974  17.84822785]\n",
      " [14.13104693 17.2411922  16.41371308 18.20625   ]\n",
      " [14.2734048  17.20049828 16.73397436 17.56595745]\n",
      " [13.93125    16.89864814 16.25484536 17.76228501]\n",
      " [13.26297217 16.54805243 15.72116183 17.51293413]\n",
      " [12.78216715 15.42497278 15.74979675 17.84355231]\n",
      " [11.69028686 14.21905286 13.97610063 16.72725031]\n",
      " [10.16680203 12.84080242 14.08017058 14.80394089]\n",
      " [ 9.4        11.9663626  12.57023555 13.68920596]\n",
      " [ 9.07559958 11.73743709 11.90580645 13.68056931]]\n"
     ]
    },
    {
     "data": {
      "text/plain": [
       "28"
      ]
     },
     "execution_count": 20,
     "metadata": {},
     "output_type": "execute_result"
    }
   ],
   "source": [
    "# 27 waves total (2-28)\n",
    "\n",
    "nWaves =  28 # NEED TO MANUALLY UPDATE PER WAVE \n",
    "\n",
    "# define wave range and group values\n",
    "xWave = range(1,nWaves+1) \n",
    "yGroup = ['wm','ww','nm','nw'] \n",
    "\n",
    "# create empty matrices to store wave and group values\n",
    "priskDie =np.zeros((nWaves,4))\n",
    "\n",
    "# calculate group means and append to empty matrices\n",
    "for i in xWave: \n",
    " for j in range(4): \n",
    "    meanDie = df.loc[(df['wave'] == i) & (df['group'] == yGroup[j]), 'prisk_die'].mean()\n",
    "    priskDie[i-1,j] = meanDie\n",
    "\n",
    "for i in range(1, nWaves+1):\n",
    "  for j in range(len(yGroup)):\n",
    "    meanDie = df.loc[(df['wave'] == i) & (df['group'] == yGroup[j]), 'prisk_die'].mean()\n",
    "    priskDie[i-1, j] = meanDie\n",
    "\n",
    "print(priskDie)\n",
    "len(priskDie)"
   ]
  },
  {
   "cell_type": "code",
   "execution_count": 21,
   "metadata": {
    "id": "MIGwlO72GJx5"
   },
   "outputs": [
    {
     "data": {
      "text/plain": [
       "range(0, 27)"
      ]
     },
     "execution_count": 21,
     "metadata": {},
     "output_type": "execute_result"
    }
   ],
   "source": [
    "# check wave range\n",
    "range(nWaves-1)"
   ]
  },
  {
   "cell_type": "code",
   "execution_count": 22,
   "metadata": {
    "id": "Yxx1R94hK1F5"
   },
   "outputs": [],
   "source": [
    "# labeling plot\n",
    "\n",
    "wave_times = ['2020',\n",
    "'Apr 1 - Apr 28',\n",
    "'Apr 15 – May 13',\n",
    "'Apr 29 – May 26',\n",
    "'May 13 - June 9',\n",
    "'May 27 - June 23',\n",
    "'June 10 - Jul 8',\n",
    "'June 24 - Jul 22',\n",
    "'July 8 - Aug 5',\n",
    "'July 22 - Aug 19',\n",
    "'Aug 5 - Sep 2',\n",
    "'Aug 19 - Sep 16',\n",
    "'Sep 2 - Sep 30',\n",
    "'Sep 16 - Oct 14',\n",
    "'Sep 30 - Oct 27',\n",
    "'Oct 14 - Nov 11',\n",
    "'Oct 28 - Nov 25',\n",
    "'Nov 11 - Dec 9',\n",
    "'Nov 25 - Dec 23',\n",
    "'Dec 9 - Jan 6',\n",
    "'Dec 23 - Jan 20',\n",
    "'Jan 6 - Feb 3',\n",
    "'Jan 20 - Feb 17',\n",
    "'Feb 2  - Mar 3', \n",
    "'Feb 17 - Mar 30',\n",
    "'Mar 17 - Apr 27',\n",
    "'Apr 14 - May 25',\n",
    "'May 12 - Jun 22',\n",
    "'2021']"
   ]
  },
  {
   "cell_type": "code",
   "execution_count": 23,
   "metadata": {},
   "outputs": [],
   "source": [
    "# create function for ticks\n",
    "def format_fn(tick_val, tick_pos):\n",
    "    if int(tick_val) in range(nWaves+1):\n",
    "        return wave_times[int(tick_val)]\n",
    "    else:\n",
    "        return ''"
   ]
  },
  {
   "cell_type": "markdown",
   "metadata": {
    "id": "T5ozDP0CMS-W"
   },
   "source": [
    "## **Perceived risk of COVID-19 death**"
   ]
  },
  {
   "cell_type": "code",
   "execution_count": 24,
   "metadata": {
    "id": "wE-0QhpjPKi3"
   },
   "outputs": [
    {
     "data": {
      "image/png": "[encoded data removed]",
      "text/plain": [
       "<Figure size 432x288 with 1 Axes>"
      ]
     },
     "metadata": {
      "needs_background": "light"
     },
     "output_type": "display_data"
    }
   ],
   "source": [
    "# plot mean perceived risk of COVID-19 mortality over time\n",
    "ax = plt.subplot(111)\n",
    "ax.xaxis.set_major_formatter(FuncFormatter(format_fn))\n",
    "ax.xaxis.set_major_locator(MaxNLocator(integer=True))\n",
    "ax.set_xlim((0, 28))\n",
    "\n",
    "loc = plticker.MultipleLocator(base=1.0) # enforces regular intervals on the x-axis\n",
    "ax.xaxis.set_major_locator(loc)\n",
    "\n",
    "ax.plot(priskDie[:,0],color='blue')\n",
    "ax.plot(priskDie[:,1],color='red')\n",
    "ax.plot(priskDie[:,2],color='green')\n",
    "ax.plot(priskDie[:,3],color='orange')\n",
    "\n",
    "barBlue = mpatches.Patch(color='blue', label='White Men')\n",
    "barRed = mpatches.Patch(color='red', label='White Women')\n",
    "barGreen = mpatches.Patch(color='green', label='Non-White Men')\n",
    "barOrange = mpatches.Patch(color='orange', label='Non-White Women')\n",
    "\n",
    "plt.legend(handles=[barBlue, barRed, barGreen, barOrange])\n",
    "plt.ylabel('Percevied Risk of Dying from Covid')\n",
    "plt.xticks(rotation=90) # tilt x-axis labels\n",
    "\n",
    "for i in range(nWaves):\n",
    "  plt.axvline(x=i,color='red',alpha=0.05,linewidth=0.7)\n",
    "  plt.plot()\n",
    "\n",
    "plt.show()\n",
    "plt.rcParams['figure.figsize'] = [20 , 12] # specify figure size"
   ]
  },
  {
   "cell_type": "markdown",
   "metadata": {
    "id": "unP81h-kKSXZ"
   },
   "source": [
    "# **Exporting scored data**\n",
    "- Analyze data in R."
   ]
  },
  {
   "cell_type": "markdown",
   "metadata": {
    "id": "UajzROO7HHUk"
   },
   "source": [
    "## **Full data**"
   ]
  },
  {
   "cell_type": "code",
   "execution_count": 25,
   "metadata": {
    "id": "yD-Y59M5xhxk"
   },
   "outputs": [],
   "source": [
    "# df.to_csv('uas_cleaned_full.csv') # export processed dataset as a csv file"
   ]
  },
  {
   "cell_type": "markdown",
   "metadata": {
    "id": "0bgYZytrHJTm"
   },
   "source": [
    "## **Subset data to include participants who responded to more than 1 wave**"
   ]
  },
  {
   "cell_type": "code",
   "execution_count": 26,
   "metadata": {
    "id": "FrutbLBKN8uI"
   },
   "outputs": [],
   "source": [
    "# include only those who responded to more than 1 wave\n",
    "df_morethan1 = df[df.groupby('uasid').uasid.transform(len) > 1]"
   ]
  },
  {
   "cell_type": "code",
   "execution_count": 27,
   "metadata": {},
   "outputs": [
    {
     "name": "stdout",
     "output_type": "stream",
     "text": [
      "ww    3616\n",
      "wm    2638\n",
      "nw    1199\n",
      "nm     674\n",
      "Name: group, dtype: int64\n"
     ]
    },
    {
     "name": "stderr",
     "output_type": "stream",
     "text": [
      "/home/ekim/anaconda3/lib/python3.8/site-packages/pandas/core/frame.py:3607: SettingWithCopyWarning: \n",
      "A value is trying to be set on a copy of a slice from a DataFrame.\n",
      "Try using .loc[row_indexer,col_indexer] = value instead\n",
      "\n",
      "See the caveats in the documentation: https://pandas.pydata.org/pandas-docs/stable/user_guide/indexing.html#returning-a-view-versus-a-copy\n",
      "  self._set_item(key, value)\n"
     ]
    }
   ],
   "source": [
    "# count sample size by group\n",
    "df_morethan1['boolean'] = df_morethan1['uasid'] .duplicated() # create new column \"boolean\" with T/F values based on the duplication of uasid\n",
    "print(df_morethan1.loc[df_morethan1['boolean'] == False,'group'].value_counts()) # count rows with F values by group"
   ]
  },
  {
   "cell_type": "code",
   "execution_count": 28,
   "metadata": {},
   "outputs": [
    {
     "data": {
      "text/plain": [
       "8127"
      ]
     },
     "execution_count": 28,
     "metadata": {},
     "output_type": "execute_result"
    }
   ],
   "source": [
    "# count N of participants who responded to more than 1 wave\n",
    "df_morethan1['uasid'].nunique()"
   ]
  },
  {
   "cell_type": "code",
   "execution_count": 29,
   "metadata": {
    "id": "e2_re__0I5RK"
   },
   "outputs": [],
   "source": [
    "# export to csv\n",
    "# df_morethan1.to_csv('uas_morethan1wave.csv')"
   ]
  },
  {
   "cell_type": "markdown",
   "metadata": {
    "id": "BPOGWMaLo6oI"
   },
   "source": [
    "## **Subset data to include participants who only responded to 1 wave**"
   ]
  },
  {
   "cell_type": "code",
   "execution_count": 30,
   "metadata": {
    "id": "nFwHBoifJJZ-"
   },
   "outputs": [],
   "source": [
    "# include those who responded to 1 wave only\n",
    "df_only1 = df[df.groupby('uasid').uasid.transform(len) == 1]"
   ]
  },
  {
   "cell_type": "code",
   "execution_count": 31,
   "metadata": {},
   "outputs": [
    {
     "name": "stdout",
     "output_type": "stream",
     "text": [
      "ww    72\n",
      "wm    54\n",
      "nw    25\n",
      "nm    18\n",
      "Name: group, dtype: int64\n"
     ]
    }
   ],
   "source": [
    "# count sample size by group\n",
    "df_only1['boolean'] = df_only1['uasid'] .duplicated() # create new column \"boolean\" with T/F values based on the duplication of uasid\n",
    "print(df_only1.loc[df_only1['boolean'] == False,'group'].value_counts()) # count rows with F values by group"
   ]
  },
  {
   "cell_type": "code",
   "execution_count": 32,
   "metadata": {},
   "outputs": [
    {
     "data": {
      "text/plain": [
       "169"
      ]
     },
     "execution_count": 32,
     "metadata": {},
     "output_type": "execute_result"
    }
   ],
   "source": [
    "# count N of participants who responded to more than 1 wave\n",
    "df_only1['uasid'].nunique()"
   ]
  },
  {
   "cell_type": "code",
   "execution_count": 33,
   "metadata": {
    "id": "VVzePT14puXP"
   },
   "outputs": [],
   "source": [
    "# export to csv\n",
    "# df_only1.to_csv('uas_only1wave.csv')"
   ]
  },
  {
   "cell_type": "code",
   "execution_count": 34,
   "metadata": {},
   "outputs": [
    {
     "name": "stdout",
     "output_type": "stream",
     "text": [
      "There are a total of 8296 individuals who responded to at least one wave. Out of these individuals, 8127 individuals responded to more than one wave, and 169 individuals responded to only one wave.\n"
     ]
    }
   ],
   "source": [
    "print('There are a total of {0} individuals who responded to at least one wave. Out of these individuals, {1} individuals responded to more than one wave, and {2} individuals responded to only one wave.'.format(df['uasid'].nunique(), df_morethan1['uasid'].nunique(), df_only1['uasid'].nunique()))"
   ]
  },
  {
   "cell_type": "code",
   "execution_count": null,
   "metadata": {},
   "outputs": [],
   "source": []
  }
 ],
 "metadata": {
  "accelerator": "TPU",
  "colab": {
   "collapsed_sections": [
    "ODQSifP3uSyL",
    "4L-RF01HKLLB",
    "-eJO-dmKKPLL",
    "unP81h-kKSXZ"
   ],
   "name": "WME_UAS.ipynb",
   "provenance": []
  },
  "kernelspec": {
   "display_name": "Python 3",
   "language": "python",
   "name": "python3"
  },
  "language_info": {
   "codemirror_mode": {
    "name": "ipython",
    "version": 3
   },
   "file_extension": ".py",
   "mimetype": "text/x-python",
   "name": "python",
   "nbconvert_exporter": "python",
   "pygments_lexer": "ipython3",
   "version": "3.8.10"
  }
 },
 "nbformat": 4,
 "nbformat_minor": 1
}
