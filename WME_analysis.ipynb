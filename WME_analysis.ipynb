{
 "cells": [
  {
   "cell_type": "markdown",
   "id": "32bc5124",
   "metadata": {},
   "source": [
    "# White Male Effect Analysis\n",
    "### Ekim Luo\n",
    "*last updated September 7, 2021*\n",
    "- All data files were cleaned and scored in Python. \n",
    "- This file contains data analysis."
   ]
  },
  {
   "cell_type": "markdown",
   "id": "df86db14",
   "metadata": {},
   "source": [
    "### Data for perceived COVID-19 mortality risks\n",
    "- [Understanding America Study](https://uasdata.usc.edu/index.php) (UAS) COVID-19 National Survey Data, Center for Economic and Social Research, University of Southern California\n",
    "    - Original data: March 10, 2020 - June 22, 2021 (28 waves)\n",
    "    - My data: April 1, 2020 - June 22, 2021 (27 waves)"
   ]
  },
  {
   "cell_type": "markdown",
   "id": "74ebf824",
   "metadata": {},
   "source": [
    "If downloading data in the `.dta` (Stata) format, you can convert it into a `csv` file using the `haven` package in R:\n",
    "\n",
    "```r\n",
    "# if haven isn't installed, run \n",
    "# install.packages('haven')\n",
    "library(haven)\n",
    "df <- read_dta('filePath')\n",
    "write.csv(df, file = 'df.csv', row.names = False)\n",
    "```"
   ]
  },
  {
   "cell_type": "markdown",
   "id": "016f9a21",
   "metadata": {},
   "source": [
    "### Data for recorded COVID-19 mortality\n",
    "- [COVID-19 Case Surveillance Public Use Data](https://data.cdc.gov/Case-Surveillance/COVID-19-Case-Surveillance-Public-Use-Data/vbim-akqf), CDC\n",
    "    - January 1, 2020 - July 7, 2021"
   ]
  },
  {
   "cell_type": "markdown",
   "id": "4a5fac79",
   "metadata": {},
   "source": [
    "## Setting up"
   ]
  },
  {
   "cell_type": "code",
   "execution_count": 1,
   "id": "d798cfc0",
   "metadata": {},
   "outputs": [
    {
     "data": {
      "text/plain": [
       "               _                           \n",
       "platform       x86_64-conda_cos6-linux-gnu \n",
       "arch           x86_64                      \n",
       "os             linux-gnu                   \n",
       "system         x86_64, linux-gnu           \n",
       "status                                     \n",
       "major          3                           \n",
       "minor          6.1                         \n",
       "year           2019                        \n",
       "month          07                          \n",
       "day            05                          \n",
       "svn rev        76782                       \n",
       "language       R                           \n",
       "version.string R version 3.6.1 (2019-07-05)\n",
       "nickname       Action of the Toes          "
      ]
     },
     "metadata": {},
     "output_type": "display_data"
    }
   ],
   "source": [
    "# version check\n",
    "R.version"
   ]
  },
  {
   "cell_type": "code",
   "execution_count": 2,
   "id": "c6976af3",
   "metadata": {},
   "outputs": [
    {
     "name": "stderr",
     "output_type": "stream",
     "text": [
      "\n",
      "Attaching package: ‘dplyr’\n",
      "\n",
      "The following objects are masked from ‘package:stats’:\n",
      "\n",
      "    filter, lag\n",
      "\n",
      "The following objects are masked from ‘package:base’:\n",
      "\n",
      "    intersect, setdiff, setequal, union\n",
      "\n",
      "Loading required package: lattice\n",
      "Loading required package: plyr\n",
      "------------------------------------------------------------------------------\n",
      "You have loaded plyr after dplyr - this is likely to cause problems.\n",
      "If you need functions from both plyr and dplyr, please load plyr first, then dplyr:\n",
      "library(plyr); library(dplyr)\n",
      "------------------------------------------------------------------------------\n",
      "\n",
      "Attaching package: ‘plyr’\n",
      "\n",
      "The following objects are masked from ‘package:dplyr’:\n",
      "\n",
      "    arrange, count, desc, failwith, id, mutate, rename, summarise,\n",
      "    summarize\n",
      "\n",
      "Loading required package: carData\n",
      "\n",
      "Attaching package: ‘car’\n",
      "\n",
      "The following object is masked from ‘package:dplyr’:\n",
      "\n",
      "    recode\n",
      "\n",
      "Warning message:\n",
      "“package ‘effects’ was built under R version 3.6.3”Registered S3 methods overwritten by 'lme4':\n",
      "  method                          from\n",
      "  cooks.distance.influence.merMod car \n",
      "  influence.merMod                car \n",
      "  dfbeta.influence.merMod         car \n",
      "  dfbetas.influence.merMod        car \n",
      "Use the command\n",
      "    lattice::trellis.par.set(effectsTheme())\n",
      "  to customize lattice options for effects plots.\n",
      "See ?effectsTheme for details.\n",
      "Loading required package: lme4\n",
      "Loading required package: Matrix\n",
      "\n",
      "Attaching package: ‘lmerTest’\n",
      "\n",
      "The following object is masked from ‘package:lme4’:\n",
      "\n",
      "    lmer\n",
      "\n",
      "The following object is masked from ‘package:stats’:\n",
      "\n",
      "    step\n",
      "\n",
      "Warning message:\n",
      "“package ‘waffle’ was built under R version 3.6.3”"
     ]
    }
   ],
   "source": [
    "# load packages\n",
    "library(dplyr)\n",
    "library(Rmisc)\n",
    "library(car)\n",
    "library(effects)\n",
    "library(dunn.test)\n",
    "library(lmerTest)\n",
    "library(ggplot2) # required for loading waffle\n",
    "library(waffle)"
   ]
  },
  {
   "cell_type": "code",
   "execution_count": 3,
   "id": "9a571bbe",
   "metadata": {},
   "outputs": [],
   "source": [
    "# import cleaned data\n",
    "# data were cleaned and scored in Python\n",
    "uas_full <- read.csv('uas_cleaned_full.csv') # this DataFrame contains all participants regardless of how many waves they participated in\n",
    "uas_more <- read.csv('uas_morethan1wave.csv') # this DataFrame contains participants who responded to more than 1 wave\n",
    "uas_only <- read.csv('uas_only1wave.csv') # this DataFrame contains participants who only responded to one wave"
   ]
  },
  {
   "cell_type": "code",
   "execution_count": 4,
   "id": "8ac5b8eb",
   "metadata": {},
   "outputs": [
    {
     "data": {
      "text/html": [
       "<table>\n",
       "<thead><tr><th scope=col>X</th><th scope=col>uasid</th><th scope=col>uashhid</th><th scope=col>survhhid</th><th scope=col>wave</th><th scope=col>survey_source</th><th scope=col>uasmembers</th><th scope=col>final_weight</th><th scope=col>sampletype</th><th scope=col>primary_respondent</th><th scope=col>...</th><th scope=col>vc005c</th><th scope=col>vd001</th><th scope=col>vd002</th><th scope=col>vd003</th><th scope=col>vd004</th><th scope=col>cs_001</th><th scope=col>group</th><th scope=col>group2</th><th scope=col>race2</th><th scope=col>boolean</th></tr></thead>\n",
       "<tbody>\n",
       "\t<tr><td>6932     </td><td>140100007</td><td>140100007</td><td>.n       </td><td>2        </td><td>235      </td><td>0        </td><td>2.7013082</td><td>1        </td><td>1        </td><td>...      </td><td>NA       </td><td>NA       </td><td>NA       </td><td>NA       </td><td>NA       </td><td>1        </td><td>wm       </td><td>1        </td><td>1        </td><td>False    </td></tr>\n",
       "\t<tr><td>6933     </td><td>140100035</td><td>140100035</td><td>.n       </td><td>2        </td><td>235      </td><td>0        </td><td>0.9632072</td><td>1        </td><td>1        </td><td>...      </td><td>NA       </td><td>NA       </td><td>NA       </td><td>NA       </td><td>NA       </td><td>3        </td><td>wm       </td><td>1        </td><td>1        </td><td>False    </td></tr>\n",
       "\t<tr><td>6934     </td><td>140100038</td><td>140100038</td><td>.n       </td><td>2        </td><td>235      </td><td>0        </td><td>2.8756938</td><td>1        </td><td>1        </td><td>...      </td><td>NA       </td><td>NA       </td><td>NA       </td><td>NA       </td><td>NA       </td><td>2        </td><td>wm       </td><td>1        </td><td>1        </td><td>False    </td></tr>\n",
       "\t<tr><td>6935     </td><td>140100041</td><td>140100041</td><td>560400799</td><td>2        </td><td>235      </td><td>1        </td><td>1.0150338</td><td>1        </td><td>1        </td><td>...      </td><td>NA       </td><td>NA       </td><td>NA       </td><td>NA       </td><td>NA       </td><td>3        </td><td>wm       </td><td>1        </td><td>1        </td><td>False    </td></tr>\n",
       "\t<tr><td>6936     </td><td>140100047</td><td>140100047</td><td>.n       </td><td>2        </td><td>235      </td><td>0        </td><td>0.6924597</td><td>1        </td><td>1        </td><td>...      </td><td>NA       </td><td>NA       </td><td>NA       </td><td>NA       </td><td>NA       </td><td>2        </td><td>ww       </td><td>0        </td><td>1        </td><td>False    </td></tr>\n",
       "\t<tr><td>6937     </td><td>140100048</td><td>140100048</td><td>560404728</td><td>2        </td><td>235      </td><td>1        </td><td>1.9609891</td><td>1        </td><td>1        </td><td>...      </td><td>NA       </td><td>NA       </td><td>NA       </td><td>NA       </td><td>NA       </td><td>1        </td><td>ww       </td><td>0        </td><td>1        </td><td>False    </td></tr>\n",
       "</tbody>\n",
       "</table>\n"
      ],
      "text/latex": [
       "\\begin{tabular}{r|lllllllllllllllllllllllllllllllllllllllllllllllllllllllllllllllllllllllllllllllllllllllllllllllllllllllllllllllllllllllllllllllllllllllllllllllllllllllllllllllllllllllllllllllllllllllllllllllllllllllllllllllllllllllllllllllllllllllllllllllllllllllllllllllllllllllllllllllllllllllllllllllllllllllllllllllllllllllllllllllllllllllllllllllllllllllllllllllllllllllllllllllllllllllllllllllllllllllllllllllllllllllllllllllllllllllllllllllllllllllllllllllllllllllllllllllllllllllllllllllllllllllllllllllllllllllllllllllllllllllllllllllllllllllllllllllllllllllllllllllllllllllllllllllllllllllllllllllllllllllllllllllllllllllllllllllllllllllllllllllllllllllllllllllllllllllllllllllllllllllllllllllllllllllllllllllllllllllllllllllllllllllllllllllllllllllllllllllllllllllllllllllllllllllllllllllllllllllllllllllllllllllllllllllllllllllllllllllllllllllllllllllllllllllllllllllllllllllllllllllllllllllllllllllllllllllllllllllllllllllllllllllllllllllllllllllllllllllllllllllllllllllllllllllllllllllllllllllllllllllllllllllllllllllllllllllllllllllllllllllllllllllllllllllllllllllllllllllllllllllllllllllllllllllllllllllllllllllllllllllllllllllllllllllllllllllllllllllllllllllllllllllllllllllllllllllllllllllllllllllllllllllllllllllllllllllllllllllllllllllllllllllllllllllllllllllllllllllllllllllllllllllllllllllllllllllllllllllllllllllllllllllllllllllllllllllllllllllllllllllllllllllllllllllllllllllllllllllllllllllllllllllllllllllllllllllllllllllllllllllllllllllllllllllllllllllllllllllllllllllllllllllllllllllllllllllllllllllllllllllllllllllllllllllllllllllllllllllllllllllllllllllllllllllllllllllllllllllllllllllllllllllllllllllllllllllllllllllllllllllllllllllllllllllllllllllllllllllllllllllllllllllllllllllllllllllllllllllllllllllllllllllllllllllllllllllllllllllllllllllllllllllllllllllllllllllllllllllllllllllllllllllllllllllllllllllllllllllllllllllllllllllllllllllllllllllllllllllllllllllllllllllllllllllllllllllllllllllllllllllllllllllllllllllllllllllllllllllllllllllllllllllllllllllllllllllllllllllllllllllllllllllllllllllllllllllllllllllllllllllllllllllllllllllllllllllllllllllllllllllllllllllllllllllllllllllllllllllllllllllllllllllllllllllllllllllllllllllllllllllllllllllllllllllllllllllllllllllllllllllllllllllllllllllllllllllllllllllllllllllllllllllllllllllllllllllllllllllllllllllllllllllllllllllllllllllllllllllllllllllllllllllllllllllllllllllllllllllllllllllllllllllllllllllllllllllllllllllllllllllllllllllllllllllllllllllllllllllllllllllllllllllllllllllllllllllllllllllllllllllllllllllllllllllllllllllllllllllllllllllllllllllllllllllllllllllllllllllllllllllllllllllllllllllllllllllllllllllllllllllllllllllllllllllllllllllllllllllllllllllllllllllllllllllllllllllllllllllllllllllllllllllllllllllllllllllllllllllllllllllllllllllllllllllllllllllllllllllllllllllllllllllllllllllllllllllllllllllllllllllllllllllllllllllllllllllllllllllllllllllllllllllllllllllllllllllllllllllllllllllllllllllllllllllllllllllllllllllllllllllllllllllllllllllllllllllllllllllllllllllllllllllllllllllllllllllllllllllllllllllllllllllllllllllllllllllllllllllllllllllllllllllllllllllllllllllllllllllllllllllllllllllllllllllllllllllllllllllllllllllllllllllllllllllllllllllllllllllllllllllllllllllllllllllllllllllllllllllllllllllllllllllllllllllllllllllllllllllllllllllllllllllllllllllllllllllllllllllllllllllllllllllllllllllllllllllllllllllllllllllllllllllllllllllllllllllllllllllllllllllllllllllllllllllllllllllllllllllllllllllllllllllllllllllllllllllllllllllllllllllllllllllllllllllllllllllllllllllllllllllllllllllllllllllllllllllllllllllllllllllllllllllllllllllllllllllllllllllllllllllllllllllllllllllllllllllllllllllllllllllllllllllllllllllllllllllllllllllllllllllllllllllllllllllllllllllllllllllllllllllllllllllllllllllllllllllllllllllllll}\n",
       " X & uasid & uashhid & survhhid & wave & survey\\_source & uasmembers & final\\_weight & sampletype & primary\\_respondent & ... & vc005c & vd001 & vd002 & vd003 & vd004 & cs\\_001 & group & group2 & race2 & boolean\\\\\n",
       "\\hline\n",
       "\t 6932      & 140100007 & 140100007 & .n        & 2         & 235       & 0         & 2.7013082 & 1         & 1         & ...       & NA        & NA        & NA        & NA        & NA        & 1         & wm        & 1         & 1         & False    \\\\\n",
       "\t 6933      & 140100035 & 140100035 & .n        & 2         & 235       & 0         & 0.9632072 & 1         & 1         & ...       & NA        & NA        & NA        & NA        & NA        & 3         & wm        & 1         & 1         & False    \\\\\n",
       "\t 6934      & 140100038 & 140100038 & .n        & 2         & 235       & 0         & 2.8756938 & 1         & 1         & ...       & NA        & NA        & NA        & NA        & NA        & 2         & wm        & 1         & 1         & False    \\\\\n",
       "\t 6935      & 140100041 & 140100041 & 560400799 & 2         & 235       & 1         & 1.0150338 & 1         & 1         & ...       & NA        & NA        & NA        & NA        & NA        & 3         & wm        & 1         & 1         & False    \\\\\n",
       "\t 6936      & 140100047 & 140100047 & .n        & 2         & 235       & 0         & 0.6924597 & 1         & 1         & ...       & NA        & NA        & NA        & NA        & NA        & 2         & ww        & 0         & 1         & False    \\\\\n",
       "\t 6937      & 140100048 & 140100048 & 560404728 & 2         & 235       & 1         & 1.9609891 & 1         & 1         & ...       & NA        & NA        & NA        & NA        & NA        & 1         & ww        & 0         & 1         & False    \\\\\n",
       "\\end{tabular}\n"
      ],
      "text/markdown": [
       "\n",
       "| X | uasid | uashhid | survhhid | wave | survey_source | uasmembers | final_weight | sampletype | primary_respondent | ... | vc005c | vd001 | vd002 | vd003 | vd004 | cs_001 | group | group2 | race2 | boolean |\n",
       "|---|---|---|---|---|---|---|---|---|---|---|---|---|---|---|---|---|---|---|---|---|\n",
       "| 6932      | 140100007 | 140100007 | .n        | 2         | 235       | 0         | 2.7013082 | 1         | 1         | ...       | NA        | NA        | NA        | NA        | NA        | 1         | wm        | 1         | 1         | False     |\n",
       "| 6933      | 140100035 | 140100035 | .n        | 2         | 235       | 0         | 0.9632072 | 1         | 1         | ...       | NA        | NA        | NA        | NA        | NA        | 3         | wm        | 1         | 1         | False     |\n",
       "| 6934      | 140100038 | 140100038 | .n        | 2         | 235       | 0         | 2.8756938 | 1         | 1         | ...       | NA        | NA        | NA        | NA        | NA        | 2         | wm        | 1         | 1         | False     |\n",
       "| 6935      | 140100041 | 140100041 | 560400799 | 2         | 235       | 1         | 1.0150338 | 1         | 1         | ...       | NA        | NA        | NA        | NA        | NA        | 3         | wm        | 1         | 1         | False     |\n",
       "| 6936      | 140100047 | 140100047 | .n        | 2         | 235       | 0         | 0.6924597 | 1         | 1         | ...       | NA        | NA        | NA        | NA        | NA        | 2         | ww        | 0         | 1         | False     |\n",
       "| 6937      | 140100048 | 140100048 | 560404728 | 2         | 235       | 1         | 1.9609891 | 1         | 1         | ...       | NA        | NA        | NA        | NA        | NA        | 1         | ww        | 0         | 1         | False     |\n",
       "\n"
      ],
      "text/plain": [
       "  X    uasid     uashhid   survhhid  wave survey_source uasmembers final_weight\n",
       "1 6932 140100007 140100007 .n        2    235           0          2.7013082   \n",
       "2 6933 140100035 140100035 .n        2    235           0          0.9632072   \n",
       "3 6934 140100038 140100038 .n        2    235           0          2.8756938   \n",
       "4 6935 140100041 140100041 560400799 2    235           1          1.0150338   \n",
       "5 6936 140100047 140100047 .n        2    235           0          0.6924597   \n",
       "6 6937 140100048 140100048 560404728 2    235           1          1.9609891   \n",
       "  sampletype primary_respondent ... vc005c vd001 vd002 vd003 vd004 cs_001 group\n",
       "1 1          1                  ... NA     NA    NA    NA    NA    1      wm   \n",
       "2 1          1                  ... NA     NA    NA    NA    NA    3      wm   \n",
       "3 1          1                  ... NA     NA    NA    NA    NA    2      wm   \n",
       "4 1          1                  ... NA     NA    NA    NA    NA    3      wm   \n",
       "5 1          1                  ... NA     NA    NA    NA    NA    2      ww   \n",
       "6 1          1                  ... NA     NA    NA    NA    NA    1      ww   \n",
       "  group2 race2 boolean\n",
       "1 1      1     False  \n",
       "2 1      1     False  \n",
       "3 1      1     False  \n",
       "4 1      1     False  \n",
       "5 0      1     False  \n",
       "6 0      1     False  "
      ]
     },
     "metadata": {},
     "output_type": "display_data"
    }
   ],
   "source": [
    "# preview data\n",
    "head(uas_full)"
   ]
  },
  {
   "cell_type": "markdown",
   "id": "23896b79",
   "metadata": {},
   "source": [
    "## Plotting data"
   ]
  },
  {
   "cell_type": "code",
   "execution_count": 5,
   "id": "cdb5850a",
   "metadata": {},
   "outputs": [
    {
     "data": {
      "image/png": "[encoded data removed]",
      "text/plain": [
       "plot without title"
      ]
     },
     "metadata": {},
     "output_type": "display_data"
    }
   ],
   "source": [
    "# waffle plot for sample N by group\n",
    "sample_group <- c('White men (N = 2692): 32.45%' = 2692*100/8296, \n",
    "                  'White women (N = 3688): 44.46%' = 3688*100/8296, \n",
    "                  'non-White women (N = 1224): 14.75%' = 1224*100/8296, \n",
    "                  'non-White men (N = 692): 8.34%' = 692*100/8296)\n",
    "waffle(sample_group, \n",
    "       title = 'Sample size by group (%)',\n",
    "       xlab = '1 sq = 1 person in 100 people',\n",
    "       rows = 6)"
   ]
  },
  {
   "cell_type": "code",
   "execution_count": 6,
   "id": "5cc0bdd0",
   "metadata": {},
   "outputs": [
    {
     "data": {
      "image/png": "[encoded data removed]",
      "text/plain": [
       "plot without title"
      ]
     },
     "metadata": {},
     "output_type": "display_data"
    }
   ],
   "source": [
    "# boxplot by group\n",
    "boxplot(prisk_die ~ group, \n",
    "        xlab = 'Group',\n",
    "        ylab = 'Perceived COVID-19 Mortality Risk',\n",
    "        outline = FALSE, # omit showing outliers\n",
    "        names = c('non-White men','non-White women','White men','White women'),\n",
    "        notch = TRUE,\n",
    "        col = 'aquamarine',\n",
    "        boxwex = 0.75, # scale boxes\n",
    "        data = uas_full)"
   ]
  },
  {
   "cell_type": "code",
   "execution_count": 7,
   "id": "150192fa",
   "metadata": {},
   "outputs": [
    {
     "data": {
      "image/png": "[encoded data removed]",
      "text/plain": [
       "Plot with title “Normal Q-Q Plot”"
      ]
     },
     "metadata": {},
     "output_type": "display_data"
    }
   ],
   "source": [
    "# check assumption of normality\n",
    "# DV is not normal, but sample N = 8127, so parametric tests should still be robust\n",
    "qqnorm(uas_full$prisk_die)\n",
    "qqline(uas_full$prisk_die)"
   ]
  },
  {
   "cell_type": "markdown",
   "id": "955ed2da",
   "metadata": {},
   "source": [
    "## One-way Repeated Measures ANCOVA"
   ]
  },
  {
   "cell_type": "markdown",
   "id": "5538fa5c",
   "metadata": {},
   "source": [
    "### *Does perceived risk of COVID-19 mortality differ between groups?*\n",
    "\n",
    "**Equation:** perceived risk of COVID-19 mortality = group + household income + age + education + hospitalized how many family or close friends + died how many family or close friends + N days in the past seven worked from home + household size + (1|wave) + (1|uasid)"
   ]
  },
  {
   "cell_type": "code",
   "execution_count": 8,
   "id": "bef391e0",
   "metadata": {},
   "outputs": [
    {
     "data": {
      "text/plain": [
       "                  Df   Sum Sq Mean Sq  F value   Pr(>F)    \n",
       "group              3   320195  106732  310.005  < 2e-16 ***\n",
       "hhincome           1   887557  887557 2577.938  < 2e-16 ***\n",
       "age                1   514972  514972 1495.752  < 2e-16 ***\n",
       "education          1   285825  285825  830.186  < 2e-16 ***\n",
       "cr022a             1    15391   15391   44.703 2.31e-11 ***\n",
       "cr022b             1       26      26    0.076    0.783    \n",
       "jobs_dayswfh       1    18717   18717   54.364 1.68e-13 ***\n",
       "hhmembernumber     1      819     819    2.377    0.123    \n",
       "Residuals      73491 25302195     344                      \n",
       "---\n",
       "Signif. codes:  0 ‘***’ 0.001 ‘**’ 0.01 ‘*’ 0.05 ‘.’ 0.1 ‘ ’ 1\n",
       "90103 observations deleted due to missingness"
      ]
     },
     "metadata": {},
     "output_type": "display_data"
    }
   ],
   "source": [
    "# one-way repeated measures ANCOVA with random effects \n",
    "# main predictor (group) has 4 levels\n",
    "aov_group <- aov(prisk_die ~ group + hhincome + age + education + cr022a + cr022b + jobs_dayswfh + hhmembernumber + (1|wave) + (1|uasid), uas_full)\n",
    "summary(aov_group)"
   ]
  },
  {
   "cell_type": "code",
   "execution_count": 9,
   "id": "828e2900",
   "metadata": {},
   "outputs": [
    {
     "data": {
      "text/plain": [
       "  Tukey multiple comparisons of means\n",
       "    95% family-wise confidence level\n",
       "\n",
       "Fit: aov(formula = prisk_die ~ group, data = uas_full)\n",
       "\n",
       "$group\n",
       "            diff        lwr        upr     p adj\n",
       "nw-nm  1.1499540  0.4657333  1.8341747 0.0000929\n",
       "wm-nm -2.2388891 -2.8443596 -1.6334186 0.0000000\n",
       "ww-nm  0.4654038 -0.1250322  1.0558398 0.1787111\n",
       "wm-nw -3.3888431 -3.8832101 -2.8944761 0.0000000\n",
       "ww-nw -0.6845502 -1.1603851 -0.2087153 0.0012537\n",
       "ww-wm  2.7042929  2.3509440  3.0576417 0.0000000\n"
      ]
     },
     "metadata": {},
     "output_type": "display_data"
    }
   ],
   "source": [
    "# Tukey's post hoc\n",
    "tukey_group <- aov(prisk_die ~ group, uas_full)\n",
    "TukeyHSD(tukey_group)"
   ]
  },
  {
   "cell_type": "code",
   "execution_count": 10,
   "id": "284c6365",
   "metadata": {},
   "outputs": [
    {
     "data": {
      "text/plain": [
       "\n",
       " group effect\n",
       "group\n",
       "       nm        nw        wm        ww \n",
       "13.047529 15.318818  9.547718 11.670978 \n",
       "\n",
       " Lower 95 Percent Confidence Limits\n",
       "group\n",
       "       nm        nw        wm        ww \n",
       "12.592490 14.950989  9.315478 11.465430 \n",
       "\n",
       " Upper 95 Percent Confidence Limits\n",
       "group\n",
       "       nm        nw        wm        ww \n",
       "13.502569 15.686647  9.779958 11.876526 "
      ]
     },
     "metadata": {},
     "output_type": "display_data"
    }
   ],
   "source": [
    "# simple effect analysis\n",
    "summary(effect('group', aov_group, se = TRUE))"
   ]
  },
  {
   "cell_type": "code",
   "execution_count": 11,
   "id": "b9d9b641",
   "metadata": {},
   "outputs": [
    {
     "data": {
      "text/plain": [
       "\n",
       "\tKruskal-Wallis rank sum test\n",
       "\n",
       "data:  prisk_die by group\n",
       "Kruskal-Wallis chi-squared = 624.9, df = 3, p-value < 2.2e-16\n"
      ]
     },
     "metadata": {},
     "output_type": "display_data"
    }
   ],
   "source": [
    "# Kruskal Wallis to confirm results\n",
    "kruskal.test(prisk_die ~ group, uas_full)"
   ]
  },
  {
   "cell_type": "code",
   "execution_count": 12,
   "id": "23d7e1b2",
   "metadata": {},
   "outputs": [
    {
     "name": "stdout",
     "output_type": "stream",
     "text": [
      "  Kruskal-Wallis rank sum test\n",
      "\n",
      "data: x and group\n",
      "Kruskal-Wallis chi-squared = 624.8964, df = 3, p-value = 0\n",
      "\n",
      "\n",
      "                           Comparison of x by group                            \n",
      "                                (No adjustment)                                \n",
      "Col Mean-|\n",
      "Row Mean |         nm         nw         wm\n",
      "---------+---------------------------------\n",
      "      nw |  -0.719449\n",
      "         |     0.4719\n",
      "         |\n",
      "      wm |   12.37406   16.15073\n",
      "         |    0.0000*    0.0000*\n",
      "         |\n",
      "      ww |  -1.458596  -0.775364  -23.64047\n",
      "         |     0.1447     0.4381    0.0000*\n",
      "\n",
      "alpha = 0.05\n",
      "Reject Ho if p <= alpha\n"
     ]
    }
   ],
   "source": [
    "# dunn's test\n",
    "# use altp argument to report true p-values\n",
    "dunn.test(uas_full$prisk_die, uas_full$group, altp = TRUE)"
   ]
  },
  {
   "cell_type": "markdown",
   "id": "d9615399",
   "metadata": {},
   "source": [
    "## Two-way ANOVAs"
   ]
  },
  {
   "cell_type": "markdown",
   "id": "9f324623",
   "metadata": {},
   "source": [
    "### *Does race interact with gender to predict perceived risk perception of COVID-19 mortality?*\n",
    "\n",
    "**Equation:** perceived risk of COVID-19 mortality = race2 x gender + household income + age + education + hospitalized how many family or close friends + died how many family or close friends + N days in the past seven worked from home + household size + (1|uasid) + (1|wave)"
   ]
  },
  {
   "cell_type": "code",
   "execution_count": 13,
   "id": "bebf4d08",
   "metadata": {},
   "outputs": [
    {
     "name": "stderr",
     "output_type": "stream",
     "text": [
      "Warning message in checkConv(attr(opt, \"derivs\"), opt$par, ctrl = control$checkConv, :\n",
      "“Model failed to converge with max|grad| = 0.00231329 (tol = 0.002, component 1)”"
     ]
    },
    {
     "data": {
      "text/html": [
       "<table>\n",
       "<thead><tr><th></th><th scope=col>Sum Sq</th><th scope=col>Mean Sq</th><th scope=col>NumDF</th><th scope=col>DenDF</th><th scope=col>F value</th><th scope=col>Pr(&gt;F)</th></tr></thead>\n",
       "<tbody>\n",
       "\t<tr><th scope=row>race2</th><td> 930.2505748</td><td> 930.2505748</td><td>1           </td><td> 6298.034   </td><td>1.314965e+01</td><td>2.898458e-04</td></tr>\n",
       "\t<tr><th scope=row>gender</th><td> 571.2483033</td><td> 571.2483033</td><td>1           </td><td> 6331.426   </td><td>8.074938e+00</td><td>4.502509e-03</td></tr>\n",
       "\t<tr><th scope=row>age</th><td>5487.1932748</td><td>5487.1932748</td><td>1           </td><td> 5581.870   </td><td>7.756477e+01</td><td>1.689010e-18</td></tr>\n",
       "\t<tr><th scope=row>hhincome</th><td>3329.5164768</td><td>3329.5164768</td><td>1           </td><td>51618.319   </td><td>4.706471e+01</td><td>6.945278e-12</td></tr>\n",
       "\t<tr><th scope=row>education</th><td>8994.2348049</td><td>8994.2348049</td><td>1           </td><td> 6519.441   </td><td>1.271389e+02</td><td>3.224871e-29</td></tr>\n",
       "\t<tr><th scope=row>cr022a</th><td>3174.1147425</td><td>3174.1147425</td><td>1           </td><td>69342.018   </td><td>4.486802e+01</td><td>2.123752e-11</td></tr>\n",
       "\t<tr><th scope=row>cr022b</th><td> 655.7488749</td><td> 655.7488749</td><td>1           </td><td>69534.364   </td><td>9.269404e+00</td><td>2.331006e-03</td></tr>\n",
       "\t<tr><th scope=row>jobs_dayswfh</th><td>   9.9383460</td><td>   9.9383460</td><td>1           </td><td>73184.416   </td><td>1.404845e-01</td><td>7.078009e-01</td></tr>\n",
       "\t<tr><th scope=row>hhmembernumber</th><td>   0.2185357</td><td>   0.2185357</td><td>1           </td><td>34907.102   </td><td>3.089133e-03</td><td>9.556767e-01</td></tr>\n",
       "\t<tr><th scope=row>race2:gender</th><td>   7.0103943</td><td>   7.0103943</td><td>1           </td><td> 6884.628   </td><td>9.909613e-02</td><td>7.529266e-01</td></tr>\n",
       "</tbody>\n",
       "</table>\n"
      ],
      "text/latex": [
       "\\begin{tabular}{r|llllll}\n",
       "  & Sum Sq & Mean Sq & NumDF & DenDF & F value & Pr(>F)\\\\\n",
       "\\hline\n",
       "\trace2 &  930.2505748 &  930.2505748 & 1            &  6298.034    & 1.314965e+01 & 2.898458e-04\\\\\n",
       "\tgender &  571.2483033 &  571.2483033 & 1            &  6331.426    & 8.074938e+00 & 4.502509e-03\\\\\n",
       "\tage & 5487.1932748 & 5487.1932748 & 1            &  5581.870    & 7.756477e+01 & 1.689010e-18\\\\\n",
       "\thhincome & 3329.5164768 & 3329.5164768 & 1            & 51618.319    & 4.706471e+01 & 6.945278e-12\\\\\n",
       "\teducation & 8994.2348049 & 8994.2348049 & 1            &  6519.441    & 1.271389e+02 & 3.224871e-29\\\\\n",
       "\tcr022a & 3174.1147425 & 3174.1147425 & 1            & 69342.018    & 4.486802e+01 & 2.123752e-11\\\\\n",
       "\tcr022b &  655.7488749 &  655.7488749 & 1            & 69534.364    & 9.269404e+00 & 2.331006e-03\\\\\n",
       "\tjobs\\_dayswfh &    9.9383460 &    9.9383460 & 1            & 73184.416    & 1.404845e-01 & 7.078009e-01\\\\\n",
       "\thhmembernumber &    0.2185357 &    0.2185357 & 1            & 34907.102    & 3.089133e-03 & 9.556767e-01\\\\\n",
       "\trace2:gender &    7.0103943 &    7.0103943 & 1            &  6884.628    & 9.909613e-02 & 7.529266e-01\\\\\n",
       "\\end{tabular}\n"
      ],
      "text/markdown": [
       "\n",
       "| <!--/--> | Sum Sq | Mean Sq | NumDF | DenDF | F value | Pr(>F) |\n",
       "|---|---|---|---|---|---|---|\n",
       "| race2 |  930.2505748 |  930.2505748 | 1            |  6298.034    | 1.314965e+01 | 2.898458e-04 |\n",
       "| gender |  571.2483033 |  571.2483033 | 1            |  6331.426    | 8.074938e+00 | 4.502509e-03 |\n",
       "| age | 5487.1932748 | 5487.1932748 | 1            |  5581.870    | 7.756477e+01 | 1.689010e-18 |\n",
       "| hhincome | 3329.5164768 | 3329.5164768 | 1            | 51618.319    | 4.706471e+01 | 6.945278e-12 |\n",
       "| education | 8994.2348049 | 8994.2348049 | 1            |  6519.441    | 1.271389e+02 | 3.224871e-29 |\n",
       "| cr022a | 3174.1147425 | 3174.1147425 | 1            | 69342.018    | 4.486802e+01 | 2.123752e-11 |\n",
       "| cr022b |  655.7488749 |  655.7488749 | 1            | 69534.364    | 9.269404e+00 | 2.331006e-03 |\n",
       "| jobs_dayswfh |    9.9383460 |    9.9383460 | 1            | 73184.416    | 1.404845e-01 | 7.078009e-01 |\n",
       "| hhmembernumber |    0.2185357 |    0.2185357 | 1            | 34907.102    | 3.089133e-03 | 9.556767e-01 |\n",
       "| race2:gender |    7.0103943 |    7.0103943 | 1            |  6884.628    | 9.909613e-02 | 7.529266e-01 |\n",
       "\n"
      ],
      "text/plain": [
       "               Sum Sq       Mean Sq      NumDF DenDF     F value     \n",
       "race2           930.2505748  930.2505748 1      6298.034 1.314965e+01\n",
       "gender          571.2483033  571.2483033 1      6331.426 8.074938e+00\n",
       "age            5487.1932748 5487.1932748 1      5581.870 7.756477e+01\n",
       "hhincome       3329.5164768 3329.5164768 1     51618.319 4.706471e+01\n",
       "education      8994.2348049 8994.2348049 1      6519.441 1.271389e+02\n",
       "cr022a         3174.1147425 3174.1147425 1     69342.018 4.486802e+01\n",
       "cr022b          655.7488749  655.7488749 1     69534.364 9.269404e+00\n",
       "jobs_dayswfh      9.9383460    9.9383460 1     73184.416 1.404845e-01\n",
       "hhmembernumber    0.2185357    0.2185357 1     34907.102 3.089133e-03\n",
       "race2:gender      7.0103943    7.0103943 1      6884.628 9.909613e-02\n",
       "               Pr(>F)      \n",
       "race2          2.898458e-04\n",
       "gender         4.502509e-03\n",
       "age            1.689010e-18\n",
       "hhincome       6.945278e-12\n",
       "education      3.224871e-29\n",
       "cr022a         2.123752e-11\n",
       "cr022b         2.331006e-03\n",
       "jobs_dayswfh   7.078009e-01\n",
       "hhmembernumber 9.556767e-01\n",
       "race2:gender   7.529266e-01"
      ]
     },
     "metadata": {},
     "output_type": "display_data"
    }
   ],
   "source": [
    "# two-way anova\n",
    "# race x gender\n",
    "lmm_twoway <- lmer(prisk_die ~ race2*gender + age + hhincome + education + cr022a + cr022b + jobs_dayswfh + hhmembernumber + (1|wave) + (1|uasid), uas_full)\n",
    "anova(lmm_twoway)"
   ]
  },
  {
   "cell_type": "markdown",
   "id": "6d10ce79",
   "metadata": {},
   "source": [
    "### *Does time interact with group to predict perceived risk perception of COVID-19 mortality?*\n",
    "\n",
    "**Equation:** perceived risk of COVID-19 mortality = wave x group2 + household income + age + education + hospitalized how many family or close friends + died how many family or close friends + N days in the past seven worked from home + household size + (1|uasid)"
   ]
  },
  {
   "cell_type": "code",
   "execution_count": 14,
   "id": "c156f3fa",
   "metadata": {},
   "outputs": [
    {
     "data": {
      "text/html": [
       "<table>\n",
       "<thead><tr><th></th><th scope=col>Sum Sq</th><th scope=col>Mean Sq</th><th scope=col>NumDF</th><th scope=col>DenDF</th><th scope=col>F value</th><th scope=col>Pr(&gt;F)</th></tr></thead>\n",
       "<tbody>\n",
       "\t<tr><th scope=row>wave</th><td>1.600282e+05</td><td>1.600282e+05</td><td>1           </td><td>71312.924   </td><td>2.249874e+03</td><td>0.000000e+00</td></tr>\n",
       "\t<tr><th scope=row>group2</th><td>4.085388e+03</td><td>4.085388e+03</td><td>1           </td><td> 7017.582   </td><td>5.743741e+01</td><td>3.937610e-14</td></tr>\n",
       "\t<tr><th scope=row>age</th><td>5.206991e+03</td><td>5.206991e+03</td><td>1           </td><td> 5587.085   </td><td>7.320629e+01</td><td>1.490841e-17</td></tr>\n",
       "\t<tr><th scope=row>hhincome</th><td>3.705974e+03</td><td>3.705974e+03</td><td>1           </td><td>51247.656   </td><td>5.210314e+01</td><td>5.338902e-13</td></tr>\n",
       "\t<tr><th scope=row>education</th><td>8.984198e+03</td><td>8.984198e+03</td><td>1           </td><td> 6519.956   </td><td>1.263109e+02</td><td>4.855453e-29</td></tr>\n",
       "\t<tr><th scope=row>cr022a</th><td>3.340909e+03</td><td>3.340909e+03</td><td>1           </td><td>69368.833   </td><td>4.697061e+01</td><td>7.265842e-12</td></tr>\n",
       "\t<tr><th scope=row>cr022b</th><td>6.993750e+02</td><td>6.993750e+02</td><td>1           </td><td>69561.433   </td><td>9.832675e+00</td><td>1.715102e-03</td></tr>\n",
       "\t<tr><th scope=row>jobs_dayswfh</th><td>3.959370e+01</td><td>3.959370e+01</td><td>1           </td><td>73148.449   </td><td>5.566570e-01</td><td>4.556127e-01</td></tr>\n",
       "\t<tr><th scope=row>hhmembernumber</th><td>3.537625e-01</td><td>3.537625e-01</td><td>1           </td><td>34872.110   </td><td>4.973629e-03</td><td>9.437770e-01</td></tr>\n",
       "\t<tr><th scope=row>wave:group2</th><td>6.468979e+02</td><td>6.468979e+02</td><td>1           </td><td>69307.621   </td><td>9.094886e+00</td><td>2.564180e-03</td></tr>\n",
       "</tbody>\n",
       "</table>\n"
      ],
      "text/latex": [
       "\\begin{tabular}{r|llllll}\n",
       "  & Sum Sq & Mean Sq & NumDF & DenDF & F value & Pr(>F)\\\\\n",
       "\\hline\n",
       "\twave & 1.600282e+05 & 1.600282e+05 & 1            & 71312.924    & 2.249874e+03 & 0.000000e+00\\\\\n",
       "\tgroup2 & 4.085388e+03 & 4.085388e+03 & 1            &  7017.582    & 5.743741e+01 & 3.937610e-14\\\\\n",
       "\tage & 5.206991e+03 & 5.206991e+03 & 1            &  5587.085    & 7.320629e+01 & 1.490841e-17\\\\\n",
       "\thhincome & 3.705974e+03 & 3.705974e+03 & 1            & 51247.656    & 5.210314e+01 & 5.338902e-13\\\\\n",
       "\teducation & 8.984198e+03 & 8.984198e+03 & 1            &  6519.956    & 1.263109e+02 & 4.855453e-29\\\\\n",
       "\tcr022a & 3.340909e+03 & 3.340909e+03 & 1            & 69368.833    & 4.697061e+01 & 7.265842e-12\\\\\n",
       "\tcr022b & 6.993750e+02 & 6.993750e+02 & 1            & 69561.433    & 9.832675e+00 & 1.715102e-03\\\\\n",
       "\tjobs\\_dayswfh & 3.959370e+01 & 3.959370e+01 & 1            & 73148.449    & 5.566570e-01 & 4.556127e-01\\\\\n",
       "\thhmembernumber & 3.537625e-01 & 3.537625e-01 & 1            & 34872.110    & 4.973629e-03 & 9.437770e-01\\\\\n",
       "\twave:group2 & 6.468979e+02 & 6.468979e+02 & 1            & 69307.621    & 9.094886e+00 & 2.564180e-03\\\\\n",
       "\\end{tabular}\n"
      ],
      "text/markdown": [
       "\n",
       "| <!--/--> | Sum Sq | Mean Sq | NumDF | DenDF | F value | Pr(>F) |\n",
       "|---|---|---|---|---|---|---|\n",
       "| wave | 1.600282e+05 | 1.600282e+05 | 1            | 71312.924    | 2.249874e+03 | 0.000000e+00 |\n",
       "| group2 | 4.085388e+03 | 4.085388e+03 | 1            |  7017.582    | 5.743741e+01 | 3.937610e-14 |\n",
       "| age | 5.206991e+03 | 5.206991e+03 | 1            |  5587.085    | 7.320629e+01 | 1.490841e-17 |\n",
       "| hhincome | 3.705974e+03 | 3.705974e+03 | 1            | 51247.656    | 5.210314e+01 | 5.338902e-13 |\n",
       "| education | 8.984198e+03 | 8.984198e+03 | 1            |  6519.956    | 1.263109e+02 | 4.855453e-29 |\n",
       "| cr022a | 3.340909e+03 | 3.340909e+03 | 1            | 69368.833    | 4.697061e+01 | 7.265842e-12 |\n",
       "| cr022b | 6.993750e+02 | 6.993750e+02 | 1            | 69561.433    | 9.832675e+00 | 1.715102e-03 |\n",
       "| jobs_dayswfh | 3.959370e+01 | 3.959370e+01 | 1            | 73148.449    | 5.566570e-01 | 4.556127e-01 |\n",
       "| hhmembernumber | 3.537625e-01 | 3.537625e-01 | 1            | 34872.110    | 4.973629e-03 | 9.437770e-01 |\n",
       "| wave:group2 | 6.468979e+02 | 6.468979e+02 | 1            | 69307.621    | 9.094886e+00 | 2.564180e-03 |\n",
       "\n"
      ],
      "text/plain": [
       "               Sum Sq       Mean Sq      NumDF DenDF     F value     \n",
       "wave           1.600282e+05 1.600282e+05 1     71312.924 2.249874e+03\n",
       "group2         4.085388e+03 4.085388e+03 1      7017.582 5.743741e+01\n",
       "age            5.206991e+03 5.206991e+03 1      5587.085 7.320629e+01\n",
       "hhincome       3.705974e+03 3.705974e+03 1     51247.656 5.210314e+01\n",
       "education      8.984198e+03 8.984198e+03 1      6519.956 1.263109e+02\n",
       "cr022a         3.340909e+03 3.340909e+03 1     69368.833 4.697061e+01\n",
       "cr022b         6.993750e+02 6.993750e+02 1     69561.433 9.832675e+00\n",
       "jobs_dayswfh   3.959370e+01 3.959370e+01 1     73148.449 5.566570e-01\n",
       "hhmembernumber 3.537625e-01 3.537625e-01 1     34872.110 4.973629e-03\n",
       "wave:group2    6.468979e+02 6.468979e+02 1     69307.621 9.094886e+00\n",
       "               Pr(>F)      \n",
       "wave           0.000000e+00\n",
       "group2         3.937610e-14\n",
       "age            1.490841e-17\n",
       "hhincome       5.338902e-13\n",
       "education      4.855453e-29\n",
       "cr022a         7.265842e-12\n",
       "cr022b         1.715102e-03\n",
       "jobs_dayswfh   4.556127e-01\n",
       "hhmembernumber 9.437770e-01\n",
       "wave:group2    2.564180e-03"
      ]
     },
     "metadata": {},
     "output_type": "display_data"
    }
   ],
   "source": [
    "# two-way anova\n",
    "# wave x group2\n",
    "lmm_twoway_wave <- lmer(prisk_die ~ wave*group2 + age + hhincome + education + cr022a + cr022b + jobs_dayswfh + hhmembernumber + (1|uasid), uas_full)\n",
    "anova(lmm_twoway_wave)"
   ]
  },
  {
   "cell_type": "markdown",
   "id": "144def26",
   "metadata": {},
   "source": [
    "## Linear Mixed Models (LMMs)\n",
    "Sources: [UCLA Statistical Consulting](https://stats.idre.ucla.edu/other/mult-pkg/introduction-to-linear-mixed-models/), [Coding Club](https://ourcodingclub.github.io/tutorials/mixed-models/#FERE)"
   ]
  },
  {
   "cell_type": "markdown",
   "id": "2f81bf2d",
   "metadata": {},
   "source": [
    "### *Main model: Is there a relationship between group and perceived risk of COVID-19 mortality?*\n",
    "\n",
    "**Equation:** perceived risk of COVID-19 mortality = group2 + age + household income + education + hospitalized how many family or close friends + died how many family or close friends + N days in the past seven worked from home + household size + (1|wave) + (1|uasid)"
   ]
  },
  {
   "cell_type": "code",
   "execution_count": 15,
   "id": "676188c5",
   "metadata": {},
   "outputs": [
    {
     "data": {
      "text/plain": [
       "Linear mixed model fit by REML. t-tests use Satterthwaite's method [\n",
       "lmerModLmerTest]\n",
       "Formula: prisk_die ~ group2 + age + hhincome + education + cr022a + cr022b +  \n",
       "    jobs_dayswfh + hhmembernumber + (1 | wave) + (1 | uasid)\n",
       "   Data: uas_full\n",
       "\n",
       "REML criterion at convergence: 541138.3\n",
       "\n",
       "Scaled residuals: \n",
       "    Min      1Q  Median      3Q     Max \n",
       "-9.5623 -0.2652 -0.0356  0.1938 11.8068 \n",
       "\n",
       "Random effects:\n",
       " Groups   Name        Variance Std.Dev.\n",
       " uasid    (Intercept) 286.145  16.916  \n",
       " wave     (Intercept)   4.414   2.101  \n",
       " Residual              70.737   8.411  \n",
       "Number of obs: 73502, groups:  uasid, 5092; wave, 24\n",
       "\n",
       "Fixed effects:\n",
       "                 Estimate Std. Error         df t value Pr(>|t|)    \n",
       "(Intercept)     2.441e+01  1.603e+00  2.735e+03  15.227  < 2e-16 ***\n",
       "group2         -3.527e+00  5.009e-01  5.951e+03  -7.042 2.11e-12 ***\n",
       "age             1.557e-01  1.817e-02  5.586e+03   8.572  < 2e-16 ***\n",
       "hhincome       -2.719e-01  3.845e-02  5.137e+04  -7.072 1.54e-12 ***\n",
       "education      -1.245e+00  1.113e-01  6.525e+03 -11.182  < 2e-16 ***\n",
       "cr022a          9.786e-02  1.460e-02  6.934e+04   6.705 2.02e-11 ***\n",
       "cr022b          9.055e-02  2.969e-02  6.953e+04   3.050  0.00229 ** \n",
       "jobs_dayswfh   -1.055e-02  2.764e-02  7.318e+04  -0.382  0.70282    \n",
       "hhmembernumber  1.892e-03  1.016e-01  3.505e+04   0.019  0.98514    \n",
       "---\n",
       "Signif. codes:  0 ‘***’ 0.001 ‘**’ 0.01 ‘*’ 0.05 ‘.’ 0.1 ‘ ’ 1\n",
       "\n",
       "Correlation of Fixed Effects:\n",
       "            (Intr) group2 age    hhincm eductn cr022a cr022b jbs_dy\n",
       "group2      -0.028                                                 \n",
       "age         -0.494 -0.134                                          \n",
       "hhincome    -0.050 -0.078 -0.078                                   \n",
       "education   -0.757  0.021  0.007 -0.221                            \n",
       "cr022a       0.001  0.003 -0.001 -0.006  0.002                     \n",
       "cr022b      -0.004  0.002 -0.002 -0.002  0.004 -0.527              \n",
       "jobs_dyswfh  0.038  0.012 -0.004 -0.012 -0.082 -0.002 -0.001       \n",
       "hhmembrnmbr -0.208 -0.008  0.140 -0.143  0.075 -0.019  0.005  0.008"
      ]
     },
     "metadata": {},
     "output_type": "display_data"
    }
   ],
   "source": [
    "# linear mixed model, full\n",
    "# nested effect variable, uasid (repeatedly sampled)\n",
    "# partially crossed effect variable, wave (sampled across waves)\n",
    "lmm_group2 <- lmer(prisk_die ~ group2 + age + hhincome + education + cr022a + cr022b + jobs_dayswfh + hhmembernumber + (1|wave) + (1|uasid), uas_full)\n",
    "summary(lmm_group2)"
   ]
  },
  {
   "cell_type": "code",
   "execution_count": 16,
   "id": "c4989493",
   "metadata": {},
   "outputs": [
    {
     "data": {
      "text/html": [
       "79.1996036490855"
      ],
      "text/latex": [
       "79.1996036490855"
      ],
      "text/markdown": [
       "79.1996036490855"
      ],
      "text/plain": [
       "[1] 79.1996"
      ]
     },
     "metadata": {},
     "output_type": "display_data"
    }
   ],
   "source": [
    "# calculate % of variance explained by uasid\n",
    "# this is the leftover variance after variance explained by fixed effects\n",
    "# 79.20%\n",
    "100*286.145/(286.145+4.414+70.737)"
   ]
  },
  {
   "cell_type": "code",
   "execution_count": 17,
   "id": "911bc848",
   "metadata": {},
   "outputs": [
    {
     "data": {
      "text/html": [
       "1.22171294451087"
      ],
      "text/latex": [
       "1.22171294451087"
      ],
      "text/markdown": [
       "1.22171294451087"
      ],
      "text/plain": [
       "[1] 1.221713"
      ]
     },
     "metadata": {},
     "output_type": "display_data"
    }
   ],
   "source": [
    "# calculate % of variance explained by wave\n",
    "# this is the leftover variance after variance explained by fixed effects\n",
    "# 1.22%\n",
    "100*4.414/(286.145+4.414+70.737)"
   ]
  },
  {
   "cell_type": "markdown",
   "id": "8a4cb28a",
   "metadata": {},
   "source": [
    "### *Interaction model: Do race and gender interact to predict perceived risk of COVID-19 mortality?*\n",
    "\n",
    "**Equation:** perceived risk of COVID-19 mortality = race2 x gender + age + household income + education + hospitalized how many family or close friends + died how many family or close friends N days in the past seven worked from home + household size + (1|wave) + (1|uasid)"
   ]
  },
  {
   "cell_type": "code",
   "execution_count": 18,
   "id": "b69070e7",
   "metadata": {},
   "outputs": [
    {
     "name": "stderr",
     "output_type": "stream",
     "text": [
      "Warning message in checkConv(attr(opt, \"derivs\"), opt$par, ctrl = control$checkConv, :\n",
      "“Model failed to converge with max|grad| = 0.00231329 (tol = 0.002, component 1)”"
     ]
    },
    {
     "data": {
      "text/plain": [
       "Linear mixed model fit by REML. t-tests use Satterthwaite's method [\n",
       "lmerModLmerTest]\n",
       "Formula: prisk_die ~ race2 * gender + age + hhincome + education + cr022a +  \n",
       "    cr022b + jobs_dayswfh + hhmembernumber + (1 | wave) + (1 |      uasid)\n",
       "   Data: uas_full\n",
       "\n",
       "REML criterion at convergence: 541121.5\n",
       "\n",
       "Scaled residuals: \n",
       "    Min      1Q  Median      3Q     Max \n",
       "-9.5612 -0.2649 -0.0356  0.1937 11.8036 \n",
       "\n",
       "Random effects:\n",
       " Groups   Name        Variance Std.Dev.\n",
       " uasid    (Intercept) 285.056  16.884  \n",
       " wave     (Intercept)   4.416   2.101  \n",
       " Residual              70.743   8.411  \n",
       "Number of obs: 73502, groups:  uasid, 5092; wave, 24\n",
       "\n",
       "Fixed effects:\n",
       "                 Estimate Std. Error         df t value Pr(>|t|)    \n",
       "(Intercept)     2.621e+01  1.669e+00  2.993e+03  15.699  < 2e-16 ***\n",
       "race2          -2.497e+00  6.885e-01  6.298e+03  -3.626  0.00029 ***\n",
       "gender         -2.743e+00  9.653e-01  6.331e+03  -2.842  0.00450 ** \n",
       "age             1.601e-01  1.817e-02  5.582e+03   8.807  < 2e-16 ***\n",
       "hhincome       -2.642e-01  3.850e-02  5.162e+04  -6.860 6.95e-12 ***\n",
       "education      -1.253e+00  1.111e-01  6.519e+03 -11.276  < 2e-16 ***\n",
       "cr022a          9.777e-02  1.460e-02  6.934e+04   6.698 2.12e-11 ***\n",
       "cr022b          9.040e-02  2.969e-02  6.953e+04   3.045  0.00233 ** \n",
       "jobs_dayswfh   -1.036e-02  2.764e-02  7.318e+04  -0.375  0.70780    \n",
       "hhmembernumber  5.644e-03  1.015e-01  3.491e+04   0.056  0.95568    \n",
       "race2:gender   -3.389e-01  1.077e+00  6.885e+03  -0.315  0.75293    \n",
       "---\n",
       "Signif. codes:  0 ‘***’ 0.001 ‘**’ 0.01 ‘*’ 0.05 ‘.’ 0.1 ‘ ’ 1\n",
       "\n",
       "Correlation of Fixed Effects:\n",
       "            (Intr) race2  gender age    hhincm eductn cr022a cr022b jbs_dy\n",
       "race2       -0.277                                                        \n",
       "gender      -0.202  0.532                                                 \n",
       "age         -0.455 -0.065 -0.034                                          \n",
       "hhincome    -0.032 -0.051 -0.053 -0.074                                   \n",
       "education   -0.731  0.021  0.011  0.005 -0.221                            \n",
       "cr022a       0.000  0.002  0.001 -0.001 -0.006  0.002                     \n",
       "cr022b      -0.004  0.001  0.002 -0.002 -0.002  0.004 -0.527              \n",
       "jobs_dyswfh  0.037 -0.002 -0.001 -0.004 -0.012 -0.082 -0.002 -0.001       \n",
       "hhmembrnmbr -0.197 -0.011 -0.005  0.141 -0.142  0.074 -0.019  0.005  0.009\n",
       "race2:gendr  0.203 -0.633 -0.861 -0.021  0.015 -0.003  0.000 -0.001  0.007\n",
       "            hhmmbr\n",
       "race2             \n",
       "gender            \n",
       "age               \n",
       "hhincome          \n",
       "education         \n",
       "cr022a            \n",
       "cr022b            \n",
       "jobs_dyswfh       \n",
       "hhmembrnmbr       \n",
       "race2:gendr  0.003\n",
       "convergence code: 0\n",
       "Model failed to converge with max|grad| = 0.00231329 (tol = 0.002, component 1)\n"
      ]
     },
     "metadata": {},
     "output_type": "display_data"
    }
   ],
   "source": [
    "lmm_interaction <- lmer(prisk_die ~ race2*gender + age + hhincome + education + cr022a + cr022b + jobs_dayswfh + hhmembernumber + (1|wave) + (1|uasid), uas_full)\n",
    "summary(lmm_interaction)"
   ]
  },
  {
   "cell_type": "code",
   "execution_count": 19,
   "id": "ddf2faea",
   "metadata": {},
   "outputs": [
    {
     "data": {
      "text/html": [
       "79.1349610649196"
      ],
      "text/latex": [
       "79.1349610649196"
      ],
      "text/markdown": [
       "79.1349610649196"
      ],
      "text/plain": [
       "[1] 79.13496"
      ]
     },
     "metadata": {},
     "output_type": "display_data"
    }
   ],
   "source": [
    "# calculate % of variance explained by uasid\n",
    "# this is the leftover variance after variance explained by fixed effects\n",
    "# 79.13%\n",
    "100*285.056/(285.056+4.416+70.743)"
   ]
  },
  {
   "cell_type": "code",
   "execution_count": 20,
   "id": "8eeb5698",
   "metadata": {},
   "outputs": [
    {
     "data": {
      "text/html": [
       "1.22593451133351"
      ],
      "text/latex": [
       "1.22593451133351"
      ],
      "text/markdown": [
       "1.22593451133351"
      ],
      "text/plain": [
       "[1] 1.225935"
      ]
     },
     "metadata": {},
     "output_type": "display_data"
    }
   ],
   "source": [
    "# calculate % of variance explained by wave\n",
    "# this is the leftover variance after variance explained by fixed effects\n",
    "# 1.23%\n",
    "100*4.416/(285.056+4.416+70.743)"
   ]
  },
  {
   "cell_type": "markdown",
   "id": "b25dd9a1",
   "metadata": {},
   "source": [
    "### *Additive model: Does race or gender predict perceived risk of COVID-19 mortality?*\n",
    "\n",
    "**Equation:** perceived risk of COVID-19 mortality = race2 + gender + age + household income + education + hospitalized how many family or close friends + died how many family or close friends + N days in the past seven worked from home + household size + (1|wave) + (1|uasid)"
   ]
  },
  {
   "cell_type": "code",
   "execution_count": 21,
   "id": "8de5c5ae",
   "metadata": {},
   "outputs": [
    {
     "data": {
      "text/plain": [
       "Linear mixed model fit by REML. t-tests use Satterthwaite's method [\n",
       "lmerModLmerTest]\n",
       "Formula: prisk_die ~ race2 + gender + age + hhincome + education + cr022a +  \n",
       "    cr022b + jobs_dayswfh + hhmembernumber + (1 | wave) + (1 |      uasid)\n",
       "   Data: uas_full\n",
       "\n",
       "REML criterion at convergence: 541123.5\n",
       "\n",
       "Scaled residuals: \n",
       "    Min      1Q  Median      3Q     Max \n",
       "-9.5612 -0.2649 -0.0356  0.1937 11.8035 \n",
       "\n",
       "Random effects:\n",
       " Groups   Name        Variance Std.Dev.\n",
       " uasid    (Intercept) 285.016  16.882  \n",
       " wave     (Intercept)   4.418   2.102  \n",
       " Residual              70.743   8.411  \n",
       "Number of obs: 73502, groups:  uasid, 5092; wave, 24\n",
       "\n",
       "Fixed effects:\n",
       "                 Estimate Std. Error         df t value Pr(>|t|)    \n",
       "(Intercept)     2.631e+01  1.635e+00  2.852e+03  16.097  < 2e-16 ***\n",
       "race2          -2.634e+00  5.331e-01  6.720e+03  -4.941 7.95e-07 ***\n",
       "gender         -3.005e+00  4.905e-01  5.206e+03  -6.126 9.68e-10 ***\n",
       "age             1.599e-01  1.817e-02  5.580e+03   8.803  < 2e-16 ***\n",
       "hhincome       -2.640e-01  3.850e-02  5.163e+04  -6.857 7.10e-12 ***\n",
       "education      -1.253e+00  1.111e-01  6.520e+03 -11.277  < 2e-16 ***\n",
       "cr022a          9.777e-02  1.460e-02  6.934e+04   6.698 2.12e-11 ***\n",
       "cr022b          9.039e-02  2.969e-02  6.953e+04   3.044  0.00233 ** \n",
       "jobs_dayswfh   -1.030e-02  2.764e-02  7.319e+04  -0.373  0.70932    \n",
       "hhmembernumber  5.723e-03  1.015e-01  3.491e+04   0.056  0.95505    \n",
       "---\n",
       "Signif. codes:  0 ‘***’ 0.001 ‘**’ 0.01 ‘*’ 0.05 ‘.’ 0.1 ‘ ’ 1\n",
       "\n",
       "Correlation of Fixed Effects:\n",
       "            (Intr) race2  gender age    hhincm eductn cr022a cr022b jbs_dy\n",
       "race2       -0.196                                                        \n",
       "gender      -0.055 -0.033                                                 \n",
       "age         -0.460 -0.101 -0.103                                          \n",
       "hhincome    -0.036 -0.054 -0.079 -0.074                                   \n",
       "education   -0.746  0.025  0.015  0.005 -0.221                            \n",
       "cr022a       0.000  0.003  0.002 -0.001 -0.006  0.002                     \n",
       "cr022b      -0.004  0.001  0.002 -0.002 -0.002  0.004 -0.527              \n",
       "jobs_dyswfh  0.036  0.003  0.010 -0.004 -0.012 -0.082 -0.002 -0.001       \n",
       "hhmembrnmbr -0.202 -0.012 -0.006  0.141 -0.142  0.074 -0.019  0.005  0.008"
      ]
     },
     "metadata": {},
     "output_type": "display_data"
    }
   ],
   "source": [
    "lmm_additive <- lmer(prisk_die ~ race2 + gender + age + hhincome + education + cr022a + cr022b + jobs_dayswfh + hhmembernumber + (1|wave) + (1|uasid), uas_full)\n",
    "summary(lmm_additive)"
   ]
  },
  {
   "cell_type": "code",
   "execution_count": 22,
   "id": "94959d92",
   "metadata": {},
   "outputs": [
    {
     "data": {
      "text/html": [
       "79.1322044439262"
      ],
      "text/latex": [
       "79.1322044439262"
      ],
      "text/markdown": [
       "79.1322044439262"
      ],
      "text/plain": [
       "[1] 79.1322"
      ]
     },
     "metadata": {},
     "output_type": "display_data"
    }
   ],
   "source": [
    "# calculate % of variance explained by uasid\n",
    "# this is the leftover variance after variance explained by fixed effects\n",
    "# 79.13%\n",
    "100*285.016/(285.016+4.418+70.743)"
   ]
  },
  {
   "cell_type": "code",
   "execution_count": 23,
   "id": "b7ca7a5a",
   "metadata": {},
   "outputs": [
    {
     "data": {
      "text/html": [
       "1.2266191344811"
      ],
      "text/latex": [
       "1.2266191344811"
      ],
      "text/markdown": [
       "1.2266191344811"
      ],
      "text/plain": [
       "[1] 1.226619"
      ]
     },
     "metadata": {},
     "output_type": "display_data"
    }
   ],
   "source": [
    "# calculate % of variance explained by wave\n",
    "# this is the leftover variance after variance explained by fixed effects\n",
    "# 1.23%\n",
    "100*4.418/(285.016+4.418+70.743)"
   ]
  },
  {
   "cell_type": "markdown",
   "id": "84bbd2af",
   "metadata": {},
   "source": [
    "# Exploratory analysis"
   ]
  },
  {
   "cell_type": "markdown",
   "id": "f20cd63e",
   "metadata": {},
   "source": [
    "## *Do respondents who dropped out after one wave influence the results?*"
   ]
  },
  {
   "cell_type": "markdown",
   "id": "4ad9b343",
   "metadata": {},
   "source": [
    "### One-way repeated measures ANCOVA"
   ]
  },
  {
   "cell_type": "code",
   "execution_count": 24,
   "id": "743482c6",
   "metadata": {},
   "outputs": [
    {
     "data": {
      "text/plain": [
       "                  Df   Sum Sq Mean Sq  F value   Pr(>F)    \n",
       "group              3   321190  107063  311.007  < 2e-16 ***\n",
       "age                1   445889  445889 1295.255  < 2e-16 ***\n",
       "hhincome           1   954909  954909 2773.900  < 2e-16 ***\n",
       "education          1   284742  284742  827.143  < 2e-16 ***\n",
       "cr022a             1    15420   15420   44.794 2.20e-11 ***\n",
       "cr022b             1       29      29    0.083    0.773    \n",
       "jobs_dayswfh       1    18948   18948   55.042 1.19e-13 ***\n",
       "hhmembernumber     1      816     816    2.371    0.124    \n",
       "Residuals      73423 25275704     344                      \n",
       "---\n",
       "Signif. codes:  0 ‘***’ 0.001 ‘**’ 0.01 ‘*’ 0.05 ‘.’ 0.1 ‘ ’ 1\n",
       "90002 observations deleted due to missingness"
      ]
     },
     "metadata": {},
     "output_type": "display_data"
    }
   ],
   "source": [
    "# one-way repeated measures ANCOVA\n",
    "# excludes participants who only responded to one wave\n",
    "aov_group_more <- aov(prisk_die ~ group + age + hhincome + education + cr022a + cr022b + jobs_dayswfh + hhmembernumber + (1|wave) + (1|uasid), uas_more)\n",
    "summary(aov_group_more)"
   ]
  },
  {
   "cell_type": "code",
   "execution_count": 25,
   "id": "48a541ad",
   "metadata": {},
   "outputs": [
    {
     "data": {
      "text/plain": [
       "  Tukey multiple comparisons of means\n",
       "    95% family-wise confidence level\n",
       "\n",
       "Fit: aov(formula = prisk_die ~ group, data = uas_more)\n",
       "\n",
       "$group\n",
       "            diff        lwr        upr     p adj\n",
       "nw-nm  1.1554285  0.4708003  1.8400566 0.0000856\n",
       "wm-nm -2.2408130 -2.8466693 -1.6349568 0.0000000\n",
       "ww-nm  0.4634457 -0.1273697  1.0542611 0.1822835\n",
       "wm-nw -3.3962415 -3.8908448 -2.9016382 0.0000000\n",
       "ww-nw -0.6919827 -1.1680431 -0.2159224 0.0010800\n",
       "ww-wm  2.7042588  2.3507343  3.0577832 0.0000000\n"
      ]
     },
     "metadata": {},
     "output_type": "display_data"
    }
   ],
   "source": [
    "# one-way repeated measures ANCOVA\n",
    "# excludes participants who only responded to one wave\n",
    "# Tukey's post hoc\n",
    "tukey_group_more <- aov(prisk_die ~ group, uas_more)\n",
    "TukeyHSD(tukey_group_more)"
   ]
  },
  {
   "cell_type": "code",
   "execution_count": 26,
   "id": "fa8bc761",
   "metadata": {},
   "outputs": [
    {
     "data": {
      "text/plain": [
       "\n",
       " group effect\n",
       "group\n",
       "       nm        nw        wm        ww \n",
       "13.054343 15.318727  9.543009 11.667306 \n",
       "\n",
       " Lower 95 Percent Confidence Limits\n",
       "group\n",
       "      nm       nw       wm       ww \n",
       "12.59905 14.95083  9.31066 11.46166 \n",
       "\n",
       " Upper 95 Percent Confidence Limits\n",
       "group\n",
       "       nm        nw        wm        ww \n",
       "13.509636 15.686626  9.775358 11.872952 "
      ]
     },
     "metadata": {},
     "output_type": "display_data"
    }
   ],
   "source": [
    "# simple effect analysis\n",
    "# excludes participants who only responded to one wave\n",
    "summary(effect('group', aov_group_more, se = TRUE))"
   ]
  },
  {
   "cell_type": "markdown",
   "id": "ffb5b04a",
   "metadata": {},
   "source": [
    "### Linear Mixed Models (LMMs)"
   ]
  },
  {
   "cell_type": "code",
   "execution_count": 27,
   "id": "8cee594e",
   "metadata": {},
   "outputs": [
    {
     "data": {
      "text/plain": [
       "Linear mixed model fit by REML. t-tests use Satterthwaite's method [\n",
       "lmerModLmerTest]\n",
       "Formula: prisk_die ~ group2 + age + hhincome + education + cr022a + cr022b +  \n",
       "    jobs_dayswfh + hhmembernumber + (1 | wave) + (1 | uasid)\n",
       "   Data: uas_more\n",
       "\n",
       "REML criterion at convergence: 540544.2\n",
       "\n",
       "Scaled residuals: \n",
       "    Min      1Q  Median      3Q     Max \n",
       "-9.5624 -0.2652 -0.0355  0.1938 11.8070 \n",
       "\n",
       "Random effects:\n",
       " Groups   Name        Variance Std.Dev.\n",
       " uasid    (Intercept) 286.070  16.914  \n",
       " wave     (Intercept)   4.411   2.100  \n",
       " Residual              70.737   8.411  \n",
       "Number of obs: 73434, groups:  uasid, 5024; wave, 24\n",
       "\n",
       "Fixed effects:\n",
       "                 Estimate Std. Error         df t value Pr(>|t|)    \n",
       "(Intercept)     2.435e+01  1.615e+00  2.771e+03  15.081  < 2e-16 ***\n",
       "group2         -3.598e+00  5.037e-01  5.884e+03  -7.143 1.02e-12 ***\n",
       "age             1.537e-01  1.828e-02  5.516e+03   8.413  < 2e-16 ***\n",
       "hhincome       -2.726e-01  3.853e-02  5.154e+04  -7.075 1.51e-12 ***\n",
       "education      -1.232e+00  1.121e-01  6.436e+03 -10.994  < 2e-16 ***\n",
       "cr022a          9.785e-02  1.460e-02  6.934e+04   6.704 2.04e-11 ***\n",
       "cr022b          9.074e-02  2.969e-02  6.952e+04   3.056  0.00224 ** \n",
       "jobs_dayswfh   -9.677e-03  2.765e-02  7.312e+04  -0.350  0.72633    \n",
       "hhmembernumber  1.257e-03  1.018e-01  3.501e+04   0.012  0.99015    \n",
       "---\n",
       "Signif. codes:  0 ‘***’ 0.001 ‘**’ 0.01 ‘*’ 0.05 ‘.’ 0.1 ‘ ’ 1\n",
       "\n",
       "Correlation of Fixed Effects:\n",
       "            (Intr) group2 age    hhincm eductn cr022a cr022b jbs_dy\n",
       "group2      -0.026                                                 \n",
       "age         -0.495 -0.137                                          \n",
       "hhincome    -0.052 -0.079 -0.076                                   \n",
       "education   -0.758  0.020  0.007 -0.218                            \n",
       "cr022a       0.001  0.003 -0.001 -0.006  0.002                     \n",
       "cr022b      -0.004  0.002 -0.002 -0.002  0.004 -0.527              \n",
       "jobs_dyswfh  0.038  0.012 -0.004 -0.012 -0.081 -0.002  0.000       \n",
       "hhmembrnmbr -0.208 -0.009  0.140 -0.142  0.075 -0.019  0.005  0.008"
      ]
     },
     "metadata": {},
     "output_type": "display_data"
    }
   ],
   "source": [
    "# linear mixed model\n",
    "# excludes participants who only responded to one wave\n",
    "lmm_group2_more <- lmer(prisk_die ~ group2 + age + hhincome + education + cr022a + cr022b + jobs_dayswfh + hhmembernumber + (1|wave) + (1|uasid), uas_more)\n",
    "summary(lmm_group2_more)"
   ]
  },
  {
   "cell_type": "code",
   "execution_count": 28,
   "id": "b67e7659",
   "metadata": {},
   "outputs": [
    {
     "data": {
      "text/html": [
       "79.1959426163702"
      ],
      "text/latex": [
       "79.1959426163702"
      ],
      "text/markdown": [
       "79.1959426163702"
      ],
      "text/plain": [
       "[1] 79.19594"
      ]
     },
     "metadata": {},
     "output_type": "display_data"
    }
   ],
   "source": [
    "# calculate % of variance explained by uasid\n",
    "# excludes participants who only responded to one wave\n",
    "# this is the leftover variance after variance explained by fixed effects\n",
    "# 79.196\n",
    "100*286.070/(286.070+4.411+70.737)"
   ]
  },
  {
   "cell_type": "code",
   "execution_count": 29,
   "id": "1713512b",
   "metadata": {},
   "outputs": [
    {
     "data": {
      "text/html": [
       "1.22114623302272"
      ],
      "text/latex": [
       "1.22114623302272"
      ],
      "text/markdown": [
       "1.22114623302272"
      ],
      "text/plain": [
       "[1] 1.221146"
      ]
     },
     "metadata": {},
     "output_type": "display_data"
    }
   ],
   "source": [
    "# calculate % of variance explained by wave\n",
    "# excludes participants who only responded to one wave\n",
    "# this is the leftover variance after variance explained by fixed effects\n",
    "# 1.221\n",
    "100*4.411/(286.070+4.411+70.737)"
   ]
  },
  {
   "cell_type": "markdown",
   "id": "d8a2400f",
   "metadata": {},
   "source": [
    "## *How do perceived COVID-19 mortality risks compare with their actual mortality risks?*"
   ]
  },
  {
   "cell_type": "markdown",
   "id": "9b463aef",
   "metadata": {},
   "source": [
    "### chi-squared test"
   ]
  },
  {
   "cell_type": "code",
   "execution_count": 30,
   "id": "fd9a7550",
   "metadata": {},
   "outputs": [
    {
     "data": {
      "text/html": [
       "<table>\n",
       "<thead><tr><th scope=col>X</th><th scope=col>White.men</th><th scope=col>White.women</th><th scope=col>non.White.men</th><th scope=col>non.White.women</th></tr></thead>\n",
       "<tbody>\n",
       "\t<tr><td>group represented in total deaths %</td><td>23.65%                             </td><td>26.30%                             </td><td>27.94%                             </td><td>22.10%                             </td></tr>\n",
       "\t<tr><td>perceived mortality risk %         </td><td>9.55%                              </td><td>11.67%                             </td><td>13.05%                             </td><td>15.32%                             </td></tr>\n",
       "</tbody>\n",
       "</table>\n"
      ],
      "text/latex": [
       "\\begin{tabular}{r|lllll}\n",
       " X & White.men & White.women & non.White.men & non.White.women\\\\\n",
       "\\hline\n",
       "\t group represented in total deaths \\% & 23.65\\%                              & 26.30\\%                              & 27.94\\%                              & 22.10\\%                             \\\\\n",
       "\t perceived mortality risk \\%          & 9.55\\%                               & 11.67\\%                              & 13.05\\%                              & 15.32\\%                             \\\\\n",
       "\\end{tabular}\n"
      ],
      "text/markdown": [
       "\n",
       "| X | White.men | White.women | non.White.men | non.White.women |\n",
       "|---|---|---|---|---|\n",
       "| group represented in total deaths % | 23.65%                              | 26.30%                              | 27.94%                              | 22.10%                              |\n",
       "| perceived mortality risk %          | 9.55%                               | 11.67%                              | 13.05%                              | 15.32%                              |\n",
       "\n"
      ],
      "text/plain": [
       "  X                                   White.men White.women non.White.men\n",
       "1 group represented in total deaths % 23.65%    26.30%      27.94%       \n",
       "2 perceived mortality risk %          9.55%     11.67%      13.05%       \n",
       "  non.White.women\n",
       "1 22.10%         \n",
       "2 15.32%         "
      ]
     },
     "metadata": {},
     "output_type": "display_data"
    }
   ],
   "source": [
    "# import cdc data summry\n",
    "# dataset was cleaned and scored in python\n",
    "cdc_summary <- read.csv('cdc_summary.csv')\n",
    "cdc_summary"
   ]
  },
  {
   "cell_type": "code",
   "execution_count": 31,
   "id": "85e29043",
   "metadata": {},
   "outputs": [
    {
     "data": {
      "text/html": [
       "<table>\n",
       "<thead><tr><th></th><th scope=col>prisk</th><th scope=col>rrisk</th></tr></thead>\n",
       "<tbody>\n",
       "\t<tr><th scope=row>wm</th><td> 9.55</td><td>23.65</td></tr>\n",
       "\t<tr><th scope=row>ww</th><td>11.67</td><td>26.30</td></tr>\n",
       "\t<tr><th scope=row>nm</th><td>13.05</td><td>27.94</td></tr>\n",
       "\t<tr><th scope=row>nw</th><td>15.32</td><td>22.10</td></tr>\n",
       "</tbody>\n",
       "</table>\n"
      ],
      "text/latex": [
       "\\begin{tabular}{r|ll}\n",
       "  & prisk & rrisk\\\\\n",
       "\\hline\n",
       "\twm &  9.55 & 23.65\\\\\n",
       "\tww & 11.67 & 26.30\\\\\n",
       "\tnm & 13.05 & 27.94\\\\\n",
       "\tnw & 15.32 & 22.10\\\\\n",
       "\\end{tabular}\n"
      ],
      "text/markdown": [
       "\n",
       "| <!--/--> | prisk | rrisk |\n",
       "|---|---|---|\n",
       "| wm |  9.55 | 23.65 |\n",
       "| ww | 11.67 | 26.30 |\n",
       "| nm | 13.05 | 27.94 |\n",
       "| nw | 15.32 | 22.10 |\n",
       "\n"
      ],
      "text/plain": [
       "   prisk rrisk\n",
       "wm  9.55 23.65\n",
       "ww 11.67 26.30\n",
       "nm 13.05 27.94\n",
       "nw 15.32 22.10"
      ]
     },
     "metadata": {},
     "output_type": "display_data"
    }
   ],
   "source": [
    "# construct summary table for proportions & chi-squared tests\n",
    "prisk <- c(9.55,11.67,13.05,15.32)\n",
    "rrisk <- c(23.65,26.3,27.94,22.1)\n",
    "\n",
    "sum_table <- cbind(prisk, rrisk)\n",
    "rownames(sum_table) <- c('wm','ww','nm','nw')\n",
    "\n",
    "sum_table"
   ]
  },
  {
   "cell_type": "code",
   "execution_count": 32,
   "id": "00acb9d7",
   "metadata": {},
   "outputs": [
    {
     "data": {
      "text/plain": [
       "\n",
       "\t4-sample test for equality of proportions without continuity\n",
       "\tcorrection\n",
       "\n",
       "data:  sum_table\n",
       "X-squared = 1.4447, df = 3, p-value = 0.6951\n",
       "alternative hypothesis: two.sided\n",
       "sample estimates:\n",
       "   prop 1    prop 2    prop 3    prop 4 \n",
       "0.2876506 0.3073479 0.3183703 0.4094067 \n"
      ]
     },
     "metadata": {},
     "output_type": "display_data"
    }
   ],
   "source": [
    "# test of equal or given proportions\n",
    "# this also runs a chi-squared test\n",
    "# null hypothesis: the proportions in these two groups are the same\n",
    "# p value reflects how likely it is that both proportions are equal\n",
    "# prop# are the probabilities of success for groups\n",
    "# two sided test, meaning a non-significant p value indicates no difference between real v. perceived risks\n",
    "prop.test(sum_table)"
   ]
  },
  {
   "cell_type": "markdown",
   "id": "6a6c18b4",
   "metadata": {},
   "source": [
    "*Sources: [r-tutor](http://www.r-tutor.com/elementary-statistics/inference-about-two-populations/comparison-two-population-proportions), [StackExchange](https://stats.stackexchange.com/questions/484492/comparing-multiple-distinct-proportions-between-two-groups)*"
   ]
  }
 ],
 "metadata": {
  "kernelspec": {
   "display_name": "R",
   "language": "R",
   "name": "ir"
  },
  "language_info": {
   "codemirror_mode": "r",
   "file_extension": ".r",
   "mimetype": "text/x-r-source",
   "name": "R",
   "pygments_lexer": "r",
   "version": "3.6.1"
  }
 },
 "nbformat": 4,
 "nbformat_minor": 5
}
