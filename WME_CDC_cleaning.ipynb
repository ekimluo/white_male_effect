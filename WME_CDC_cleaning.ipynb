{
 "cells": [
  {
   "cell_type": "markdown",
   "metadata": {
    "id": "hPXG0HljGxhp"
   },
   "source": [
    "# **White Male Effect - CDC**\n",
    "## **Ekim Luo**\n",
    "*Last updated: July 16, 2021*"
   ]
  },
  {
   "cell_type": "markdown",
   "metadata": {},
   "source": [
    "# **Data**\n",
    "- [COVID-19 Case Surveillance Public Use Data](https://data.cdc.gov/Case-Surveillance/COVID-19-Case-Surveillance-Public-Use-Data/vbim-akqf), CDC\n",
    "    - January 1, 2020 - July 7, 2021"
   ]
  },
  {
   "cell_type": "markdown",
   "metadata": {},
   "source": [
    "# **Setting up**"
   ]
  },
  {
   "cell_type": "code",
   "execution_count": 1,
   "metadata": {
    "id": "ahMVHwAFbrVr"
   },
   "outputs": [],
   "source": [
    "# import libraries\n",
    "import pandas as pd\n",
    "import statistics\n",
    "import math"
   ]
  },
  {
   "cell_type": "code",
   "execution_count": 2,
   "metadata": {},
   "outputs": [
    {
     "name": "stdout",
     "output_type": "stream",
     "text": [
      " COVID-19_Case_Surveillance_Public_Use_Data.csv\r\n",
      " \u001b[0m\u001b[01;31mCOVID-19_Case_Surveillance_Public_Use_Data.csv.zip\u001b[0m\r\n",
      " \u001b[01;31mcovidpanel_us_stata_jun_23_2021.zip\u001b[0m\r\n",
      " NOTEBOOK_Python.ipynb\r\n",
      " uas_cleaned_full.csv\r\n",
      " uas.csv\r\n",
      " uas_morethan1wave.csv\r\n",
      " uas_only1wave.csv\r\n",
      " \u001b[01;31muas.zip\u001b[0m\r\n",
      "'White Male Effect_Cleaning_CDC.ipynb'\r\n",
      "'White Male Effect_Cleaning_UAS_ekim.ipynb'\r\n",
      "'White Male Effect_Cleaning_UAS.ipynb'\r\n",
      "\u001b[01;35m'WME plot_16.7.png'\u001b[0m\r\n",
      " wme_uas.py\r\n"
     ]
    }
   ],
   "source": [
    "ls"
   ]
  },
  {
   "cell_type": "code",
   "execution_count": 3,
   "metadata": {
    "colab": {
     "base_uri": "https://localhost:8080/"
    },
    "id": "2nodktgddH9Q",
    "outputId": "9761de51-6aba-4bd2-8cce-b9c11853f1ef"
   },
   "outputs": [],
   "source": [
    "# import data\n",
    "cdc = pd.read_csv('COVID-19_Case_Surveillance_Public_Use_Data.csv', low_memory = False)"
   ]
  },
  {
   "cell_type": "markdown",
   "metadata": {
    "id": "cnWiNep2IceV"
   },
   "source": [
    "# **Getting to know the data**"
   ]
  },
  {
   "cell_type": "code",
   "execution_count": 4,
   "metadata": {
    "colab": {
     "base_uri": "https://localhost:8080/"
    },
    "id": "dbv-ABkUd8Hb",
    "outputId": "8e4b4620-41cc-4e76-d686-a56cb3bcc9ae"
   },
   "outputs": [
    {
     "data": {
      "text/plain": [
       "27145726"
      ]
     },
     "execution_count": 4,
     "metadata": {},
     "output_type": "execute_result"
    }
   ],
   "source": [
    "# count N of recorded cases before cleaning\n",
    "len(cdc)"
   ]
  },
  {
   "cell_type": "code",
   "execution_count": 5,
   "metadata": {
    "colab": {
     "base_uri": "https://localhost:8080/"
    },
    "id": "iYxzfW3bePAp",
    "outputId": "14843dd1-eb8e-4079-8af4-1653e7b7c748"
   },
   "outputs": [
    {
     "data": {
      "text/plain": [
       "array(['Black, Non-Hispanic', 'Unknown', 'Hispanic/Latino',\n",
       "       'White, Non-Hispanic', 'Multiple/Other, Non-Hispanic',\n",
       "       'Native Hawaiian/Other Pacific Islander, Non-Hispanic',\n",
       "       'Asian, Non-Hispanic',\n",
       "       'American Indian/Alaska Native, Non-Hispanic', 'Missing', nan],\n",
       "      dtype=object)"
      ]
     },
     "execution_count": 5,
     "metadata": {},
     "output_type": "execute_result"
    }
   ],
   "source": [
    "# print unique values for race\n",
    "cdc['race_ethnicity_combined'].unique() "
   ]
  },
  {
   "cell_type": "code",
   "execution_count": 6,
   "metadata": {
    "colab": {
     "base_uri": "https://localhost:8080/"
    },
    "id": "nIGmOc1JhzLb",
    "outputId": "47b7d2c8-2e70-42bc-c38b-7c8b84f300f7"
   },
   "outputs": [
    {
     "data": {
      "text/plain": [
       "array(['Male', 'Missing', 'Other', 'Unknown', 'Female', nan], dtype=object)"
      ]
     },
     "execution_count": 6,
     "metadata": {},
     "output_type": "execute_result"
    }
   ],
   "source": [
    "# print unique values for sex\n",
    "cdc['sex'].unique()"
   ]
  },
  {
   "cell_type": "code",
   "execution_count": 7,
   "metadata": {
    "colab": {
     "base_uri": "https://localhost:8080/"
    },
    "id": "J4CeGH6JiDCp",
    "outputId": "e54953e8-fc0f-4791-b1be-f6b18fcdea8e"
   },
   "outputs": [
    {
     "data": {
      "text/plain": [
       "array(['No', 'Missing', 'Unknown', 'Yes'], dtype=object)"
      ]
     },
     "execution_count": 7,
     "metadata": {},
     "output_type": "execute_result"
    }
   ],
   "source": [
    "# print unique values for COVID death\n",
    "cdc['death_yn'].unique()"
   ]
  },
  {
   "cell_type": "code",
   "execution_count": 8,
   "metadata": {
    "colab": {
     "base_uri": "https://localhost:8080/"
    },
    "id": "24YMVJqRvtlB",
    "outputId": "a002713c-0a8b-489f-feb7-56e104f4131b"
   },
   "outputs": [
    {
     "data": {
      "text/plain": [
       "array(['10 - 19 Years', 'Missing', '30 - 39 Years', '20 - 29 Years',\n",
       "       '40 - 49 Years', '80+ Years', '0 - 9 Years', '70 - 79 Years', nan,\n",
       "       '60 - 69 Years', '50 - 59 Years'], dtype=object)"
      ]
     },
     "execution_count": 8,
     "metadata": {},
     "output_type": "execute_result"
    }
   ],
   "source": [
    "# print unique values for age\n",
    "cdc['age_group'].unique()"
   ]
  },
  {
   "cell_type": "markdown",
   "metadata": {
    "id": "cnhlJfMXJdWf"
   },
   "source": [
    "# **Cleaning data**"
   ]
  },
  {
   "cell_type": "code",
   "execution_count": 9,
   "metadata": {
    "id": "eMBfmaJMgzSh"
   },
   "outputs": [],
   "source": [
    "cdc = cdc.dropna(subset=['sex','race_ethnicity_combined']) # drop na\n",
    "\n",
    "# sex\n",
    "cdc = cdc[cdc.sex != 'Unknown'] \n",
    "cdc = cdc[cdc.sex != 'Missing'] \n",
    "cdc = cdc[cdc.sex != 'Other']\n",
    "\n",
    "# race_ethnicity_combined\n",
    "cdc = cdc[cdc.race_ethnicity_combined != 'Missing']\n",
    "\n",
    "# death_yn\n",
    "cdc = cdc[cdc['death_yn'] != 'Missing'] \n",
    "cdc = cdc[cdc['death_yn'] != 'Unknown']"
   ]
  },
  {
   "cell_type": "code",
   "execution_count": 10,
   "metadata": {
    "colab": {
     "base_uri": "https://localhost:8080/"
    },
    "id": "gKoPsTAZo9hQ",
    "outputId": "479254e4-9ee1-48fc-e4bc-0d54d6fb4b46"
   },
   "outputs": [
    {
     "data": {
      "text/plain": [
       "13855750"
      ]
     },
     "execution_count": 10,
     "metadata": {},
     "output_type": "execute_result"
    }
   ],
   "source": [
    "# count N of recorded cases after cleaning\n",
    "len(cdc)"
   ]
  },
  {
   "cell_type": "markdown",
   "metadata": {
    "id": "szE3xt8kJsJ5"
   },
   "source": [
    "# **Recoding variables**"
   ]
  },
  {
   "cell_type": "code",
   "execution_count": 11,
   "metadata": {
    "id": "NwrVWutSqi0A"
   },
   "outputs": [],
   "source": [
    "# sex\n",
    "# male = 1, female = 0\n",
    "cdc['sex'].replace('Female',0,inplace=True)\n",
    "cdc['sex'].replace('Male',1,inplace=True)"
   ]
  },
  {
   "cell_type": "code",
   "execution_count": 12,
   "metadata": {
    "id": "nk3batP6ww4L"
   },
   "outputs": [],
   "source": [
    "# age\n",
    "# 1 to 9 levels\n",
    "cdc['age_group'].replace('0 - 9 Years',1,inplace=True)\n",
    "cdc['age_group'].replace('10 - 19 Years',2,inplace=True) \n",
    "cdc['age_group'].replace('20 - 29 Years',3,inplace=True) \n",
    "cdc['age_group'].replace('30 - 39 Years',4,inplace=True) \n",
    "cdc['age_group'].replace('40 - 49 Years',5,inplace=True) \n",
    "cdc['age_group'].replace('50 - 59 Years',6,inplace=True) \n",
    "cdc['age_group'].replace('60 - 69 Years',7,inplace=True) \n",
    "cdc['age_group'].replace('70 - 79 Years',8,inplace=True) \n",
    "cdc['age_group'].replace('80+ Years',9,inplace=True) \n",
    "cdc['age_group'].replace('Unknown','NaN',inplace=True) "
   ]
  },
  {
   "cell_type": "markdown",
   "metadata": {
    "id": "2yM13ETvbKq1"
   },
   "source": [
    "# **Scoring data**"
   ]
  },
  {
   "cell_type": "code",
   "execution_count": 13,
   "metadata": {
    "id": "331l1kG3qjJx"
   },
   "outputs": [],
   "source": [
    "cdc['race'] = cdc['race_ethnicity_combined'].str.contains('White', na=False, regex=False).astype(int)"
   ]
  },
  {
   "cell_type": "markdown",
   "metadata": {},
   "source": [
    "## **group**\n",
    "- White men, White women, non-White men, non-White women"
   ]
  },
  {
   "cell_type": "code",
   "execution_count": 15,
   "metadata": {
    "id": "D9coLQaDqrFY"
   },
   "outputs": [],
   "source": [
    "group = [] # create empty list for appending group values \n",
    "\n",
    "for i in cdc[['sex', 'race']].values.tolist(): # loop through the gender and race columns and append group values\n",
    "    if i[0] == 1 and i[1] == 1: # white male\n",
    "        group.append('wm') # append value to list \n",
    "    elif i[0] == 1 and i[1] != 1: # non-white male\n",
    "        group.append('nm')\n",
    "    elif i[0] == 0 and i[1] == 1: # white female\n",
    "        group.append('ww')\n",
    "    elif i[0] == 0 and i[1] != 1: # non-white female\n",
    "        group.append('nw')\n",
    "    else:\n",
    "        group.append('NaN') # if the gender or race cells are empty, write in \"NaN\"\n",
    "\n",
    "cdc['group'] = group # append list as a column named group"
   ]
  },
  {
   "cell_type": "markdown",
   "metadata": {
    "id": "yq8Hds85s1Q2"
   },
   "source": [
    "## **group2**\n",
    "- White men (1) v. others (0)"
   ]
  },
  {
   "cell_type": "code",
   "execution_count": 17,
   "metadata": {
    "id": "FeWYNdcdspmc"
   },
   "outputs": [],
   "source": [
    "cdc['group2'] = 1\n",
    "cdc.loc[lambda cdc: cdc['group'] == 'wm',['group2']] = 0"
   ]
  },
  {
   "cell_type": "markdown",
   "metadata": {
    "id": "oksmuZVXJyeg"
   },
   "source": [
    "# **Describing the data**"
   ]
  },
  {
   "cell_type": "code",
   "execution_count": 18,
   "metadata": {
    "colab": {
     "base_uri": "https://localhost:8080/"
    },
    "id": "u64xyOvbKnDs",
    "outputId": "b80970d6-3b89-4dd6-ef9d-3f4e070129d9"
   },
   "outputs": [
    {
     "data": {
      "text/plain": [
       "No     13375930\n",
       "Yes      479820\n",
       "Name: death_yn, dtype: int64"
      ]
     },
     "execution_count": 18,
     "metadata": {},
     "output_type": "execute_result"
    }
   ],
   "source": [
    "# count N of deaths total\n",
    "cdc['death_yn'].value_counts()"
   ]
  },
  {
   "cell_type": "code",
   "execution_count": 19,
   "metadata": {
    "colab": {
     "base_uri": "https://localhost:8080/",
     "height": 204
    },
    "id": "ijcoBLj0P8L-",
    "outputId": "78d87339-ef22-4259-b842-a8058d70922a"
   },
   "outputs": [
    {
     "data": {
      "text/html": [
       "<div>\n",
       "<style scoped>\n",
       "    .dataframe tbody tr th:only-of-type {\n",
       "        vertical-align: middle;\n",
       "    }\n",
       "\n",
       "    .dataframe tbody tr th {\n",
       "        vertical-align: top;\n",
       "    }\n",
       "\n",
       "    .dataframe thead th {\n",
       "        text-align: right;\n",
       "    }\n",
       "</style>\n",
       "<table border=\"1\" class=\"dataframe\">\n",
       "  <thead>\n",
       "    <tr style=\"text-align: right;\">\n",
       "      <th></th>\n",
       "      <th>cdc_case_earliest_dt</th>\n",
       "      <th>cdc_report_dt</th>\n",
       "      <th>pos_spec_dt</th>\n",
       "      <th>onset_dt</th>\n",
       "      <th>current_status</th>\n",
       "      <th>sex</th>\n",
       "      <th>age_group</th>\n",
       "      <th>race_ethnicity_combined</th>\n",
       "      <th>hosp_yn</th>\n",
       "      <th>icu_yn</th>\n",
       "      <th>death_yn</th>\n",
       "      <th>medcond_yn</th>\n",
       "      <th>race</th>\n",
       "      <th>group2</th>\n",
       "    </tr>\n",
       "    <tr>\n",
       "      <th>group</th>\n",
       "      <th></th>\n",
       "      <th></th>\n",
       "      <th></th>\n",
       "      <th></th>\n",
       "      <th></th>\n",
       "      <th></th>\n",
       "      <th></th>\n",
       "      <th></th>\n",
       "      <th></th>\n",
       "      <th></th>\n",
       "      <th></th>\n",
       "      <th></th>\n",
       "      <th></th>\n",
       "      <th></th>\n",
       "    </tr>\n",
       "  </thead>\n",
       "  <tbody>\n",
       "    <tr>\n",
       "      <th>nm</th>\n",
       "      <td>134077</td>\n",
       "      <td>116084</td>\n",
       "      <td>40695</td>\n",
       "      <td>53317</td>\n",
       "      <td>134077</td>\n",
       "      <td>134077</td>\n",
       "      <td>134077</td>\n",
       "      <td>134077</td>\n",
       "      <td>134077</td>\n",
       "      <td>134077</td>\n",
       "      <td>134077</td>\n",
       "      <td>134077</td>\n",
       "      <td>134077</td>\n",
       "      <td>134077</td>\n",
       "    </tr>\n",
       "    <tr>\n",
       "      <th>nw</th>\n",
       "      <td>106053</td>\n",
       "      <td>93790</td>\n",
       "      <td>33099</td>\n",
       "      <td>40761</td>\n",
       "      <td>106053</td>\n",
       "      <td>106053</td>\n",
       "      <td>106053</td>\n",
       "      <td>106053</td>\n",
       "      <td>106053</td>\n",
       "      <td>106053</td>\n",
       "      <td>106053</td>\n",
       "      <td>106053</td>\n",
       "      <td>106053</td>\n",
       "      <td>106053</td>\n",
       "    </tr>\n",
       "    <tr>\n",
       "      <th>wm</th>\n",
       "      <td>126203</td>\n",
       "      <td>119440</td>\n",
       "      <td>34880</td>\n",
       "      <td>60014</td>\n",
       "      <td>126203</td>\n",
       "      <td>126203</td>\n",
       "      <td>126203</td>\n",
       "      <td>126203</td>\n",
       "      <td>126203</td>\n",
       "      <td>126203</td>\n",
       "      <td>126203</td>\n",
       "      <td>126203</td>\n",
       "      <td>126203</td>\n",
       "      <td>126203</td>\n",
       "    </tr>\n",
       "    <tr>\n",
       "      <th>ww</th>\n",
       "      <td>113487</td>\n",
       "      <td>107707</td>\n",
       "      <td>32060</td>\n",
       "      <td>51591</td>\n",
       "      <td>113487</td>\n",
       "      <td>113487</td>\n",
       "      <td>113487</td>\n",
       "      <td>113487</td>\n",
       "      <td>113487</td>\n",
       "      <td>113487</td>\n",
       "      <td>113487</td>\n",
       "      <td>113487</td>\n",
       "      <td>113487</td>\n",
       "      <td>113487</td>\n",
       "    </tr>\n",
       "  </tbody>\n",
       "</table>\n",
       "</div>"
      ],
      "text/plain": [
       "       cdc_case_earliest_dt   cdc_report_dt  pos_spec_dt  onset_dt  \\\n",
       "group                                                                \n",
       "nm                    134077         116084        40695     53317   \n",
       "nw                    106053          93790        33099     40761   \n",
       "wm                    126203         119440        34880     60014   \n",
       "ww                    113487         107707        32060     51591   \n",
       "\n",
       "       current_status     sex  age_group  race_ethnicity_combined  hosp_yn  \\\n",
       "group                                                                        \n",
       "nm             134077  134077     134077                   134077   134077   \n",
       "nw             106053  106053     106053                   106053   106053   \n",
       "wm             126203  126203     126203                   126203   126203   \n",
       "ww             113487  113487     113487                   113487   113487   \n",
       "\n",
       "       icu_yn  death_yn  medcond_yn    race  group2  \n",
       "group                                                \n",
       "nm     134077    134077      134077  134077  134077  \n",
       "nw     106053    106053      106053  106053  106053  \n",
       "wm     126203    126203      126203  126203  126203  \n",
       "ww     113487    113487      113487  113487  113487  "
      ]
     },
     "execution_count": 19,
     "metadata": {},
     "output_type": "execute_result"
    }
   ],
   "source": [
    "# count N of deaths by group\n",
    "cdc[cdc['death_yn'] == 'Yes'].groupby(['group']).count()"
   ]
  },
  {
   "cell_type": "code",
   "execution_count": 20,
   "metadata": {
    "colab": {
     "base_uri": "https://localhost:8080/"
    },
    "id": "ot8IhoaiNlEh",
    "outputId": "479f82e2-ffa4-4eff-fd4b-44b1bf1e5658"
   },
   "outputs": [
    {
     "data": {
      "text/plain": [
       "group\n",
       "nm    4380096\n",
       "nw    4735947\n",
       "wm    2228681\n",
       "ww    2511026\n",
       "Name: death_yn, dtype: int64"
      ]
     },
     "execution_count": 20,
     "metadata": {},
     "output_type": "execute_result"
    }
   ],
   "source": [
    "# N of cases by group\n",
    "cdc.groupby(['group'])['death_yn'].count()"
   ]
  },
  {
   "cell_type": "markdown",
   "metadata": {
    "id": "OBbvyNLOt4k0"
   },
   "source": [
    "# **Exporting data**"
   ]
  },
  {
   "cell_type": "code",
   "execution_count": 21,
   "metadata": {
    "id": "SadXmIuks5E9"
   },
   "outputs": [],
   "source": [
    "cdc.to_csv('cdc_16.7.2021.csv')"
   ]
  },
  {
   "cell_type": "code",
   "execution_count": null,
   "metadata": {},
   "outputs": [],
   "source": []
  }
 ],
 "metadata": {
  "colab": {
   "name": "WME_CDC.ipynb",
   "provenance": []
  },
  "kernelspec": {
   "display_name": "Python 3",
   "language": "python",
   "name": "python3"
  },
  "language_info": {
   "codemirror_mode": {
    "name": "ipython",
    "version": 3
   },
   "file_extension": ".py",
   "mimetype": "text/x-python",
   "name": "python",
   "nbconvert_exporter": "python",
   "pygments_lexer": "ipython3",
   "version": "3.8.8"
  }
 },
 "nbformat": 4,
 "nbformat_minor": 1
}
